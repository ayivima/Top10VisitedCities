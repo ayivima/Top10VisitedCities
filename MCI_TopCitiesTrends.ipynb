{
 "cells": [
  {
   "cell_type": "markdown",
   "metadata": {},
   "source": [
    "<h1>LEARNING FROM TOP TEN MASTERCARD INDEX DESTINATION CITIES</h1>\n",
    "<p>Victor Mawusi Ayi</p>"
   ]
  },
  {
   "cell_type": "code",
   "execution_count": null,
   "metadata": {},
   "outputs": [],
   "source": [
    "import re\n",
    "import requests\n",
    "import numpy as np\n",
    "import matplotlib.pyplot as plt\n",
    "import folium\n",
    "import pandas as pd\n",
    "from sklearn.cluster import KMeans, DBSCAN, AgglomerativeClustering\n",
    "from sklearn import metrics\n",
    "from sklearn.preprocessing import StandardScaler\n",
    "from scipy.stats import pearsonr, spearmanr \n",
    "from geopy.geocoders import Nominatim"
   ]
  },
  {
   "cell_type": "markdown",
   "metadata": {},
   "source": [
    "<h2> FUNCTIONS FOR REPETITIVE METHODS"
   ]
  },
  {
   "cell_type": "markdown",
   "metadata": {},
   "source": [
    "<h4> Table grabber </h4>"
   ]
  },
  {
   "cell_type": "code",
   "execution_count": 77,
   "metadata": {},
   "outputs": [],
   "source": [
    "#function to grab tables\n",
    "def get_tables(url):    \n",
    "    \n",
    "    page = requests.get(url).text\n",
    "    \n",
    "    REs = (re.compile(r'<table[^>]*>.*?</table>', re.DOTALL), re.compile(r'<tr[^>]*>.*?</tr>', re.DOTALL), \\\n",
    "          re.compile(r'<td[^>]*>(.*?)</td>', re.DOTALL))\n",
    "    \n",
    "    tables = [[REs[2].findall(row) for row in table] for table in \\\n",
    "                   [REs[1].findall(table) for table in REs[0].findall(page)]]\n",
    "    \n",
    "    return(tables)\n",
    "    "
   ]
  },
  {
   "cell_type": "markdown",
   "metadata": {},
   "source": [
    "<h4> KMeans cluster function</h4>\n",
    "\n",
    "Does two things:\n",
    "<ul>\n",
    "    <li>Returns dictionary of Ks, Sum of Squared Distances, and List of lists of labels for each K</li>\n",
    "    <li>Plots K values against corresponding Sums of squared distances, to help visualise elbow</li>\n",
    "</ul>"
   ]
  },
  {
   "cell_type": "code",
   "execution_count": 78,
   "metadata": {},
   "outputs": [],
   "source": [
    "\n",
    "def kmeans_cluster(topcities_for_k, k_max):\n",
    "    \n",
    "    topcities_s = StandardScaler().fit(topcities_for_k).transform(topcities_for_k)\n",
    "    \n",
    "    ks = list(range(1, k_max))\n",
    "    sumsqdis = []  #To store a list of Ks, and a list of Sum of squared distances\n",
    "    k_labels = []  #To store arrays of labels for each k\n",
    "\n",
    "    #run clustering using diffrent Ks and obtaining their Sum of squared distances\n",
    "    for k in ks:\n",
    "        kmeans2 = KMeans(init='k-means++', n_clusters=k).fit(topcities_s)\n",
    "        sumsqdis.append(kmeans2.inertia_)\n",
    "        k_labels.append(kmeans2.labels_)\n",
    "    \n",
    "    # Plot Ks and Sums of squared distances to visualize elbow\n",
    "    plt.figure(figsize=(10,6))\n",
    "    plt.plot(ks, sumsqdis)\n",
    "    plt.xlabel('K values')\n",
    "    plt.ylabel('Sum of squared distances')\n",
    "        \n",
    "    \n",
    "    return {'ks':ks, 'sumsqdis':sumsqdis, 'clabels':k_labels}\n"
   ]
  },
  {
   "cell_type": "markdown",
   "metadata": {},
   "source": [
    "<h4> Scatter Plotting with correlation statistics </h4>"
   ]
  },
  {
   "cell_type": "code",
   "execution_count": 80,
   "metadata": {},
   "outputs": [],
   "source": [
    "def scatter_corr(x, y, xlab, ylab, title):\n",
    "    p_r = pearsonr(x, y)\n",
    "    \n",
    "    print('Pearson Correlation: Coefficient = {}, p-value = {}'.format(p_r[0], p_r[1]))\n",
    "    print(spearmanr(x, y))\n",
    "    \n",
    "    plt.figure(figsize=(8,4))\n",
    "    plt.scatter(x, y)\n",
    "    plt.xlabel(xlab)\n",
    "    plt.ylabel(ylab)\n",
    "    plt.title(title)\n",
    "    "
   ]
  },
  {
   "cell_type": "markdown",
   "metadata": {},
   "source": [
    "<h4>Latitude and Longitude getter using Nominatim geocoder</h4>\n",
    "<p>Takes an iterable of city names, and returns a dataframe containing cities, latitude and longitude</p>"
   ]
  },
  {
   "cell_type": "code",
   "execution_count": 82,
   "metadata": {},
   "outputs": [],
   "source": [
    "def get_lonlats(city_list):\n",
    "    geolocator = Nominatim(user_agent='MC_T_index')\n",
    "\n",
    "    #obtaining and storing latitudes and longitudes in dictionary\n",
    "    lonlats = {}\n",
    "\n",
    "    for city in city_list:\n",
    "        location = geolocator.geocode(city)\n",
    "        lonlats[city] = (location.latitude, location.longitude)\n",
    "    \n",
    "    lonlats_df = pd.DataFrame(lonlats).transpose().reset_index()\n",
    "    lonlats_df.columns=['City', 'Latitude', 'Longitude']\n",
    "    \n",
    "    return lonlats_df    "
   ]
  },
  {
   "cell_type": "markdown",
   "metadata": {},
   "source": [
    "<h4> Query Foursquare Venue Data for List of Cities"
   ]
  },
  {
   "cell_type": "code",
   "execution_count": 83,
   "metadata": {},
   "outputs": [],
   "source": [
    "# @hidden_cell\n",
    "\n",
    "CLIENT_ID='DCIL0YEFVR5MCIAFRNQYIXZWDKR12SOC2GYQV1RQBCVUHXNG'\n",
    "CLIENT_SECRET='TBUKKUNKG0HW5RJAEKWF5G4POEQTFTEVIUCBDQH53NTPLVJD'\n",
    "VERSION='20190101'\n",
    "\n",
    "\n",
    "def nearby_services(geo_data, LIMIT=300, RADIUS=8000, CATEGORYID='4d4b7105d754a06378d81259'):\n",
    "   \n",
    "    city_loc=[]\n",
    "    \n",
    "    for city, lat, lon, clust in zip(geo_data['City'], geo_data['Latitude'], geo_data['Longitude'], top_cities_clust['ClusterLabels']):\n",
    "        \n",
    "        LL='{},{}'.format(lat, lon) #latitude and longitude values of cities\n",
    "        \n",
    "        #print(LL)\n",
    "       \n",
    "        url = 'https://api.foursquare.com/v2/venues/search?&client_id={}&client_secret={}&v={}&ll={}&radius={}&limit={}&intent=browse&categoryId={}'.format(\n",
    "            CLIENT_ID, \n",
    "            CLIENT_SECRET, \n",
    "            VERSION, \n",
    "            LL, \n",
    "            RADIUS, \n",
    "            LIMIT,\n",
    "            CATEGORYID)\n",
    "        \n",
    "        #print(url)\n",
    "        \n",
    "        query_data = requests.get(url).json()['response']['venues']\n",
    "        \n",
    "        for data in query_data:\n",
    "            if data['categories']==[]:\n",
    "                #Making provision for venues which didnt have categories assigned\n",
    "                #will insert 'not assigned' for venues without categories\n",
    "                data['categories']=[{'name':'not assigned', 'id':'not assigned'}]   \n",
    "            \n",
    "            city_loc.append([city, lat, lon, clust, data['name'], data['location']['lat'], \\\n",
    "                             data['location']['lng'], data['categories'][0]['name'], \\\n",
    "                             data['categories'][0]['id']])\n",
    "            \n",
    "        \n",
    "    headers = ['City', 'CityLatitude', 'CityLongitude', 'ClusterLabels', 'VenueName', \\\n",
    "               'VenueLatitude', 'VenueLongitude', 'VenueCategoryName', 'VenueCategoryId']\n",
    "    \n",
    "    return {'venues':city_loc, 'headers':headers}"
   ]
  },
  {
   "cell_type": "markdown",
   "metadata": {},
   "source": [
    "<h4>Generator for folium map with color coded markers to visualize distribution of cities across continents"
   ]
  },
  {
   "cell_type": "code",
   "execution_count": 84,
   "metadata": {},
   "outputs": [],
   "source": [
    "def map_folium(dataframe, clus_dict, circle_radius = 8, loc = [-8.7832, 34.5085]):\n",
    "    \n",
    "    world_map = folium.Map(location = loc, zoom_start=2.35, tiles='MapBox Bright')\n",
    "\n",
    "    colors=['red', 'green', 'cyan', 'yellow', 'blue', 'violet']\n",
    "\n",
    "    #Mapping colors to the various clusters and their description to be used for Key for the map\n",
    "    print('[ MAP KEY ]')\n",
    "    mapkey = []    \n",
    "\n",
    "    #Annotating markers\n",
    "    for city, lat, lon, cluster in zip(dataframe['City'], dataframe['Latitude'], dataframe['Longitude'], dataframe['ClusterLabels']):\n",
    "    \n",
    "        mapkey.append('{}: {}\\n'.format(colors[int(cluster)].upper(), clus_dict[cluster]['Description']))\n",
    "    \n",
    "        folium.CircleMarker(\n",
    "            [lat, lon],\n",
    "            radius=circle_radius,\n",
    "            color=colors[int(cluster)],\n",
    "            popup='{}, {}'.format(city.upper(), clus_dict[cluster]['Description']), \n",
    "            fill=True,\n",
    "            fill_color=colors[int(cluster)],\n",
    "            fill_opacity=0.9).add_to(world_map)\n",
    "    \n",
    "    mapkeystr = ''\n",
    "    for item in set(mapkey):\n",
    "        mapkeystr += item \n",
    "        \n",
    "    return {'map': world_map, 'mapkey': mapkeystr}"
   ]
  },
  {
   "cell_type": "markdown",
   "metadata": {},
   "source": [
    "<h2> 2. MASTERCARD TOP TEN DESTINATION CITIES 2017 DATA RETRIEVAL AND EXPLORATION"
   ]
  },
  {
   "cell_type": "markdown",
   "metadata": {},
   "source": [
    "<h3>a. Data Retrieval</h3>\n",
    "<p>Using the above function to pull tables from MasterCard International Destination Index 2017 announcement site. Displaying table in a list of lists. The bigger lists represent each table, and the smaller lists within them represent table rows.<p>"
   ]
  },
  {
   "cell_type": "code",
   "execution_count": 85,
   "metadata": {},
   "outputs": [
    {
     "data": {
      "text/plain": [
       "[[['<strong>The Global Top 10 Destination Cities</strong>'],\n",
       "  ['',\n",
       "   '2017 International Overnight Visitors',\n",
       "   'Growth Forecast for 2018',\n",
       "   'Average Length of Stay',\n",
       "   'Average Spend Per Day'],\n",
       "  ['Bangkok', '20.05 million', '9.6%', '4.7 nights', '$173'],\n",
       "  ['London', '19.83 million', '3.0%', '5.8 nights', '$153'],\n",
       "  ['Paris', '17.44 million', '2.9%', '2.5 nights', '$301'],\n",
       "  ['Dubai', '15.79 million', '5.5%', '3.5 nights', '$537'],\n",
       "  ['Singapore', '13.91 million', '4.0%', '4.3 nights', '$286'],\n",
       "  ['New York', '13.13 million', '4.1%', '8.3 nights', '$147'],\n",
       "  ['Kuala Lumpur', '12.58 million', '7.5%', '5.5 nights', '$124'],\n",
       "  ['Tokyo', '11.93 million', '1.6%', '6.5 nights', '$154'],\n",
       "  ['Istanbul', '10.70 million', '19.7%', '5.8 nights', '$108'],\n",
       "  ['Seoul', '9.54 million', '6.1%', '4.2 nights', '$181']],\n",
       " [['<strong>Top Cities by Dollars Spent</strong>'],\n",
       "  ['',\n",
       "   '2017 International Overnight Visitor Spend (USD)',\n",
       "   'Forecast for 2018',\n",
       "   'Average Spend by Day'],\n",
       "  ['Dubai', '$29.70 billion', '7.8%', '$537'],\n",
       "  ['Makkah', '$18.45 billion', '7.4%', '$135'],\n",
       "  ['London', '$17.45 billion', '13.7%', '$153'],\n",
       "  ['Singapore', '$17.02 billion', '7.4%', '$286'],\n",
       "  ['Bangkok', '$16.36 billion', '13.8%', '$173'],\n",
       "  ['New York', '$16.10 billion', '4.1%', '$147'],\n",
       "  ['Paris', '$13.05 billion', '16.0%', '$301'],\n",
       "  ['Palma de Mallorca', '$11.96 billion', '16.2%', '$220'],\n",
       "  ['Tokyo', '$11.91 billion', '7.8%', '$154'],\n",
       "  ['Phuket', '$10.46 billion', '12.6%', '$239']]]"
      ]
     },
     "execution_count": 85,
     "metadata": {},
     "output_type": "execute_result"
    }
   ],
   "source": [
    "MC_tables = get_tables('https://newsroom.mastercard.com/press-releases/big-cities-big-business-bangkok-london-and-paris-lead-the-way-in-mastercards-2018-global-destination-cities-index/')\n",
    "\n",
    "MC_tables"
   ]
  },
  {
   "cell_type": "markdown",
   "metadata": {},
   "source": [
    "<h3>b. Data Cleaning</h3>\n",
    "<p>Pulling out the first table which ranks The Global Top 10 Destination Cities on measures of Total annual visitor count, Average length of stay for visitors, The average spend per day, and a growth forecast.</p>"
   ]
  },
  {
   "cell_type": "code",
   "execution_count": 86,
   "metadata": {},
   "outputs": [
    {
     "data": {
      "text/html": [
       "<div>\n",
       "<style scoped>\n",
       "    .dataframe tbody tr th:only-of-type {\n",
       "        vertical-align: middle;\n",
       "    }\n",
       "\n",
       "    .dataframe tbody tr th {\n",
       "        vertical-align: top;\n",
       "    }\n",
       "\n",
       "    .dataframe thead th {\n",
       "        text-align: right;\n",
       "    }\n",
       "</style>\n",
       "<table border=\"1\" class=\"dataframe\">\n",
       "  <thead>\n",
       "    <tr style=\"text-align: right;\">\n",
       "      <th></th>\n",
       "      <th>City</th>\n",
       "      <th>VisitorCount</th>\n",
       "      <th>GrowthForecast</th>\n",
       "      <th>AvgLengthOfStay</th>\n",
       "      <th>AvgSpendPerDay</th>\n",
       "    </tr>\n",
       "  </thead>\n",
       "  <tbody>\n",
       "    <tr>\n",
       "      <th>0</th>\n",
       "      <td>Bangkok</td>\n",
       "      <td>20.05 million</td>\n",
       "      <td>9.6%</td>\n",
       "      <td>4.7 nights</td>\n",
       "      <td>$173</td>\n",
       "    </tr>\n",
       "    <tr>\n",
       "      <th>1</th>\n",
       "      <td>London</td>\n",
       "      <td>19.83 million</td>\n",
       "      <td>3.0%</td>\n",
       "      <td>5.8 nights</td>\n",
       "      <td>$153</td>\n",
       "    </tr>\n",
       "    <tr>\n",
       "      <th>2</th>\n",
       "      <td>Paris</td>\n",
       "      <td>17.44 million</td>\n",
       "      <td>2.9%</td>\n",
       "      <td>2.5 nights</td>\n",
       "      <td>$301</td>\n",
       "    </tr>\n",
       "    <tr>\n",
       "      <th>3</th>\n",
       "      <td>Dubai</td>\n",
       "      <td>15.79 million</td>\n",
       "      <td>5.5%</td>\n",
       "      <td>3.5 nights</td>\n",
       "      <td>$537</td>\n",
       "    </tr>\n",
       "    <tr>\n",
       "      <th>4</th>\n",
       "      <td>Singapore</td>\n",
       "      <td>13.91 million</td>\n",
       "      <td>4.0%</td>\n",
       "      <td>4.3 nights</td>\n",
       "      <td>$286</td>\n",
       "    </tr>\n",
       "    <tr>\n",
       "      <th>5</th>\n",
       "      <td>New York</td>\n",
       "      <td>13.13 million</td>\n",
       "      <td>4.1%</td>\n",
       "      <td>8.3 nights</td>\n",
       "      <td>$147</td>\n",
       "    </tr>\n",
       "    <tr>\n",
       "      <th>6</th>\n",
       "      <td>Kuala Lumpur</td>\n",
       "      <td>12.58 million</td>\n",
       "      <td>7.5%</td>\n",
       "      <td>5.5 nights</td>\n",
       "      <td>$124</td>\n",
       "    </tr>\n",
       "    <tr>\n",
       "      <th>7</th>\n",
       "      <td>Tokyo</td>\n",
       "      <td>11.93 million</td>\n",
       "      <td>1.6%</td>\n",
       "      <td>6.5 nights</td>\n",
       "      <td>$154</td>\n",
       "    </tr>\n",
       "    <tr>\n",
       "      <th>8</th>\n",
       "      <td>Istanbul</td>\n",
       "      <td>10.70 million</td>\n",
       "      <td>19.7%</td>\n",
       "      <td>5.8 nights</td>\n",
       "      <td>$108</td>\n",
       "    </tr>\n",
       "    <tr>\n",
       "      <th>9</th>\n",
       "      <td>Seoul</td>\n",
       "      <td>9.54 million</td>\n",
       "      <td>6.1%</td>\n",
       "      <td>4.2 nights</td>\n",
       "      <td>$181</td>\n",
       "    </tr>\n",
       "  </tbody>\n",
       "</table>\n",
       "</div>"
      ],
      "text/plain": [
       "           City   VisitorCount GrowthForecast AvgLengthOfStay AvgSpendPerDay\n",
       "0       Bangkok  20.05 million           9.6%      4.7 nights           $173\n",
       "1        London  19.83 million           3.0%      5.8 nights           $153\n",
       "2         Paris  17.44 million           2.9%      2.5 nights           $301\n",
       "3         Dubai  15.79 million           5.5%      3.5 nights           $537\n",
       "4     Singapore  13.91 million           4.0%      4.3 nights           $286\n",
       "5      New York  13.13 million           4.1%      8.3 nights           $147\n",
       "6  Kuala Lumpur  12.58 million           7.5%      5.5 nights           $124\n",
       "7         Tokyo  11.93 million           1.6%      6.5 nights           $154\n",
       "8      Istanbul  10.70 million          19.7%      5.8 nights           $108\n",
       "9         Seoul   9.54 million           6.1%      4.2 nights           $181"
      ]
     },
     "execution_count": 86,
     "metadata": {},
     "output_type": "execute_result"
    }
   ],
   "source": [
    "top_visit = MC_tables[0][2:]\n",
    "top_cities_raw = pd.DataFrame(top_visit, columns=['City', 'VisitorCount', 'GrowthForecast', 'AvgLengthOfStay', 'AvgSpendPerDay']) \n",
    "\n",
    "top_cities_raw"
   ]
  },
  {
   "cell_type": "markdown",
   "metadata": {},
   "source": [
    "Cleaning the numerical values as they won't help our subsequent analysis. The strings 'million', 'nights', '%' and '$' will be removed, and the values will be converted to numbers."
   ]
  },
  {
   "cell_type": "code",
   "execution_count": 87,
   "metadata": {},
   "outputs": [
    {
     "data": {
      "text/html": [
       "<div>\n",
       "<style scoped>\n",
       "    .dataframe tbody tr th:only-of-type {\n",
       "        vertical-align: middle;\n",
       "    }\n",
       "\n",
       "    .dataframe tbody tr th {\n",
       "        vertical-align: top;\n",
       "    }\n",
       "\n",
       "    .dataframe thead th {\n",
       "        text-align: right;\n",
       "    }\n",
       "</style>\n",
       "<table border=\"1\" class=\"dataframe\">\n",
       "  <thead>\n",
       "    <tr style=\"text-align: right;\">\n",
       "      <th></th>\n",
       "      <th>City</th>\n",
       "      <th>VisitorCount</th>\n",
       "      <th>GrowthForecast</th>\n",
       "      <th>AvgLengthOfStay</th>\n",
       "      <th>AvgSpendPerDay</th>\n",
       "    </tr>\n",
       "  </thead>\n",
       "  <tbody>\n",
       "    <tr>\n",
       "      <th>0</th>\n",
       "      <td>Bangkok</td>\n",
       "      <td>20050000</td>\n",
       "      <td>9.6</td>\n",
       "      <td>4.7</td>\n",
       "      <td>173</td>\n",
       "    </tr>\n",
       "    <tr>\n",
       "      <th>1</th>\n",
       "      <td>London</td>\n",
       "      <td>19830000</td>\n",
       "      <td>3.0</td>\n",
       "      <td>5.8</td>\n",
       "      <td>153</td>\n",
       "    </tr>\n",
       "    <tr>\n",
       "      <th>2</th>\n",
       "      <td>Paris</td>\n",
       "      <td>17440000</td>\n",
       "      <td>2.9</td>\n",
       "      <td>2.5</td>\n",
       "      <td>301</td>\n",
       "    </tr>\n",
       "    <tr>\n",
       "      <th>3</th>\n",
       "      <td>Dubai</td>\n",
       "      <td>15790000</td>\n",
       "      <td>5.5</td>\n",
       "      <td>3.5</td>\n",
       "      <td>537</td>\n",
       "    </tr>\n",
       "    <tr>\n",
       "      <th>4</th>\n",
       "      <td>Singapore</td>\n",
       "      <td>13910000</td>\n",
       "      <td>4.0</td>\n",
       "      <td>4.3</td>\n",
       "      <td>286</td>\n",
       "    </tr>\n",
       "    <tr>\n",
       "      <th>5</th>\n",
       "      <td>New York</td>\n",
       "      <td>13130000</td>\n",
       "      <td>4.1</td>\n",
       "      <td>8.3</td>\n",
       "      <td>147</td>\n",
       "    </tr>\n",
       "    <tr>\n",
       "      <th>6</th>\n",
       "      <td>Kuala Lumpur</td>\n",
       "      <td>12580000</td>\n",
       "      <td>7.5</td>\n",
       "      <td>5.5</td>\n",
       "      <td>124</td>\n",
       "    </tr>\n",
       "    <tr>\n",
       "      <th>7</th>\n",
       "      <td>Tokyo</td>\n",
       "      <td>11930000</td>\n",
       "      <td>1.6</td>\n",
       "      <td>6.5</td>\n",
       "      <td>154</td>\n",
       "    </tr>\n",
       "    <tr>\n",
       "      <th>8</th>\n",
       "      <td>Istanbul</td>\n",
       "      <td>10700000</td>\n",
       "      <td>19.7</td>\n",
       "      <td>5.8</td>\n",
       "      <td>108</td>\n",
       "    </tr>\n",
       "    <tr>\n",
       "      <th>9</th>\n",
       "      <td>Seoul</td>\n",
       "      <td>9540000</td>\n",
       "      <td>6.1</td>\n",
       "      <td>4.2</td>\n",
       "      <td>181</td>\n",
       "    </tr>\n",
       "  </tbody>\n",
       "</table>\n",
       "</div>"
      ],
      "text/plain": [
       "           City  VisitorCount  GrowthForecast  AvgLengthOfStay  AvgSpendPerDay\n",
       "0       Bangkok      20050000             9.6              4.7             173\n",
       "1        London      19830000             3.0              5.8             153\n",
       "2         Paris      17440000             2.9              2.5             301\n",
       "3         Dubai      15790000             5.5              3.5             537\n",
       "4     Singapore      13910000             4.0              4.3             286\n",
       "5      New York      13130000             4.1              8.3             147\n",
       "6  Kuala Lumpur      12580000             7.5              5.5             124\n",
       "7         Tokyo      11930000             1.6              6.5             154\n",
       "8      Istanbul      10700000            19.7              5.8             108\n",
       "9         Seoul       9540000             6.1              4.2             181"
      ]
     },
     "execution_count": 87,
     "metadata": {},
     "output_type": "execute_result"
    }
   ],
   "source": [
    "top_cities = top_cities_raw\n",
    "\n",
    "for column in ('VisitorCount', 'GrowthForecast', 'AvgLengthOfStay'):\n",
    "    for strip in (' million', '%', ' nights'):\n",
    "        top_cities[column] = (top_cities[column].str.rstrip(strip))\n",
    "\n",
    "\n",
    "\n",
    "top_cities['AvgSpendPerDay'] = (top_cities['AvgSpendPerDay'].str.lstrip('$'))\n",
    "\n",
    "\n",
    "top_cities[['VisitorCount', 'GrowthForecast', 'AvgLengthOfStay', 'AvgSpendPerDay']] = \\\n",
    "top_cities[['VisitorCount', 'GrowthForecast', 'AvgLengthOfStay', 'AvgSpendPerDay']].apply(pd.to_numeric)\n",
    "\n",
    "top_cities['VisitorCount'] = (top_cities['VisitorCount'] * 1000000).astype(int)\n",
    "\n",
    "top_cities"
   ]
  },
  {
   "cell_type": "code",
   "execution_count": 88,
   "metadata": {},
   "outputs": [
    {
     "data": {
      "text/plain": [
       "['Bangkok',\n",
       " 'London',\n",
       " 'Paris',\n",
       " 'Dubai',\n",
       " 'Singapore',\n",
       " 'New York',\n",
       " 'Kuala Lumpur',\n",
       " 'Tokyo',\n",
       " 'Istanbul',\n",
       " 'Seoul']"
      ]
     },
     "execution_count": 88,
     "metadata": {},
     "output_type": "execute_result"
    }
   ],
   "source": [
    "original_ranking = list(top_cities['City'])\n",
    "original_ranking"
   ]
  },
  {
   "cell_type": "markdown",
   "metadata": {},
   "source": [
    "<h3>c. General Exploration and Visualisation</h3>\n",
    "<p>Data Exploration starts with descriptive statistics.</p>"
   ]
  },
  {
   "cell_type": "code",
   "execution_count": 89,
   "metadata": {},
   "outputs": [
    {
     "data": {
      "text/html": [
       "<div>\n",
       "<style scoped>\n",
       "    .dataframe tbody tr th:only-of-type {\n",
       "        vertical-align: middle;\n",
       "    }\n",
       "\n",
       "    .dataframe tbody tr th {\n",
       "        vertical-align: top;\n",
       "    }\n",
       "\n",
       "    .dataframe thead th {\n",
       "        text-align: right;\n",
       "    }\n",
       "</style>\n",
       "<table border=\"1\" class=\"dataframe\">\n",
       "  <thead>\n",
       "    <tr style=\"text-align: right;\">\n",
       "      <th></th>\n",
       "      <th>VisitorCount</th>\n",
       "      <th>GrowthForecast</th>\n",
       "      <th>AvgLengthOfStay</th>\n",
       "      <th>AvgSpendPerDay</th>\n",
       "    </tr>\n",
       "  </thead>\n",
       "  <tbody>\n",
       "    <tr>\n",
       "      <th>count</th>\n",
       "      <td>1.000000e+01</td>\n",
       "      <td>10.000000</td>\n",
       "      <td>10.000000</td>\n",
       "      <td>10.000000</td>\n",
       "    </tr>\n",
       "    <tr>\n",
       "      <th>mean</th>\n",
       "      <td>1.449000e+07</td>\n",
       "      <td>6.400000</td>\n",
       "      <td>5.110000</td>\n",
       "      <td>216.400000</td>\n",
       "    </tr>\n",
       "    <tr>\n",
       "      <th>std</th>\n",
       "      <td>3.667818e+06</td>\n",
       "      <td>5.240229</td>\n",
       "      <td>1.642119</td>\n",
       "      <td>129.503496</td>\n",
       "    </tr>\n",
       "    <tr>\n",
       "      <th>min</th>\n",
       "      <td>9.540000e+06</td>\n",
       "      <td>1.600000</td>\n",
       "      <td>2.500000</td>\n",
       "      <td>108.000000</td>\n",
       "    </tr>\n",
       "    <tr>\n",
       "      <th>25%</th>\n",
       "      <td>1.209250e+07</td>\n",
       "      <td>3.250000</td>\n",
       "      <td>4.225000</td>\n",
       "      <td>148.500000</td>\n",
       "    </tr>\n",
       "    <tr>\n",
       "      <th>50%</th>\n",
       "      <td>1.352000e+07</td>\n",
       "      <td>4.800000</td>\n",
       "      <td>5.100000</td>\n",
       "      <td>163.500000</td>\n",
       "    </tr>\n",
       "    <tr>\n",
       "      <th>75%</th>\n",
       "      <td>1.702750e+07</td>\n",
       "      <td>7.150000</td>\n",
       "      <td>5.800000</td>\n",
       "      <td>259.750000</td>\n",
       "    </tr>\n",
       "    <tr>\n",
       "      <th>max</th>\n",
       "      <td>2.005000e+07</td>\n",
       "      <td>19.700000</td>\n",
       "      <td>8.300000</td>\n",
       "      <td>537.000000</td>\n",
       "    </tr>\n",
       "  </tbody>\n",
       "</table>\n",
       "</div>"
      ],
      "text/plain": [
       "       VisitorCount  GrowthForecast  AvgLengthOfStay  AvgSpendPerDay\n",
       "count  1.000000e+01       10.000000        10.000000       10.000000\n",
       "mean   1.449000e+07        6.400000         5.110000      216.400000\n",
       "std    3.667818e+06        5.240229         1.642119      129.503496\n",
       "min    9.540000e+06        1.600000         2.500000      108.000000\n",
       "25%    1.209250e+07        3.250000         4.225000      148.500000\n",
       "50%    1.352000e+07        4.800000         5.100000      163.500000\n",
       "75%    1.702750e+07        7.150000         5.800000      259.750000\n",
       "max    2.005000e+07       19.700000         8.300000      537.000000"
      ]
     },
     "execution_count": 89,
     "metadata": {},
     "output_type": "execute_result"
    }
   ],
   "source": [
    "top_cities.describe()"
   ]
  },
  {
   "cell_type": "code",
   "execution_count": 90,
   "metadata": {},
   "outputs": [
    {
     "data": {
      "text/html": [
       "<div>\n",
       "<style scoped>\n",
       "    .dataframe tbody tr th:only-of-type {\n",
       "        vertical-align: middle;\n",
       "    }\n",
       "\n",
       "    .dataframe tbody tr th {\n",
       "        vertical-align: top;\n",
       "    }\n",
       "\n",
       "    .dataframe thead th {\n",
       "        text-align: right;\n",
       "    }\n",
       "</style>\n",
       "<table border=\"1\" class=\"dataframe\">\n",
       "  <thead>\n",
       "    <tr style=\"text-align: right;\">\n",
       "      <th></th>\n",
       "      <th>City</th>\n",
       "      <th>VisitorCount</th>\n",
       "      <th>GrowthForecast</th>\n",
       "      <th>AvgLengthOfStay</th>\n",
       "      <th>AvgSpendPerDay</th>\n",
       "    </tr>\n",
       "  </thead>\n",
       "  <tbody>\n",
       "    <tr>\n",
       "      <th>2</th>\n",
       "      <td>Paris</td>\n",
       "      <td>17440000</td>\n",
       "      <td>2.9</td>\n",
       "      <td>2.5</td>\n",
       "      <td>301</td>\n",
       "    </tr>\n",
       "    <tr>\n",
       "      <th>3</th>\n",
       "      <td>Dubai</td>\n",
       "      <td>15790000</td>\n",
       "      <td>5.5</td>\n",
       "      <td>3.5</td>\n",
       "      <td>537</td>\n",
       "    </tr>\n",
       "    <tr>\n",
       "      <th>9</th>\n",
       "      <td>Seoul</td>\n",
       "      <td>9540000</td>\n",
       "      <td>6.1</td>\n",
       "      <td>4.2</td>\n",
       "      <td>181</td>\n",
       "    </tr>\n",
       "    <tr>\n",
       "      <th>4</th>\n",
       "      <td>Singapore</td>\n",
       "      <td>13910000</td>\n",
       "      <td>4.0</td>\n",
       "      <td>4.3</td>\n",
       "      <td>286</td>\n",
       "    </tr>\n",
       "    <tr>\n",
       "      <th>0</th>\n",
       "      <td>Bangkok</td>\n",
       "      <td>20050000</td>\n",
       "      <td>9.6</td>\n",
       "      <td>4.7</td>\n",
       "      <td>173</td>\n",
       "    </tr>\n",
       "    <tr>\n",
       "      <th>6</th>\n",
       "      <td>Kuala Lumpur</td>\n",
       "      <td>12580000</td>\n",
       "      <td>7.5</td>\n",
       "      <td>5.5</td>\n",
       "      <td>124</td>\n",
       "    </tr>\n",
       "    <tr>\n",
       "      <th>1</th>\n",
       "      <td>London</td>\n",
       "      <td>19830000</td>\n",
       "      <td>3.0</td>\n",
       "      <td>5.8</td>\n",
       "      <td>153</td>\n",
       "    </tr>\n",
       "    <tr>\n",
       "      <th>8</th>\n",
       "      <td>Istanbul</td>\n",
       "      <td>10700000</td>\n",
       "      <td>19.7</td>\n",
       "      <td>5.8</td>\n",
       "      <td>108</td>\n",
       "    </tr>\n",
       "    <tr>\n",
       "      <th>7</th>\n",
       "      <td>Tokyo</td>\n",
       "      <td>11930000</td>\n",
       "      <td>1.6</td>\n",
       "      <td>6.5</td>\n",
       "      <td>154</td>\n",
       "    </tr>\n",
       "    <tr>\n",
       "      <th>5</th>\n",
       "      <td>New York</td>\n",
       "      <td>13130000</td>\n",
       "      <td>4.1</td>\n",
       "      <td>8.3</td>\n",
       "      <td>147</td>\n",
       "    </tr>\n",
       "  </tbody>\n",
       "</table>\n",
       "</div>"
      ],
      "text/plain": [
       "           City  VisitorCount  GrowthForecast  AvgLengthOfStay  AvgSpendPerDay\n",
       "2         Paris      17440000             2.9              2.5             301\n",
       "3         Dubai      15790000             5.5              3.5             537\n",
       "9         Seoul       9540000             6.1              4.2             181\n",
       "4     Singapore      13910000             4.0              4.3             286\n",
       "0       Bangkok      20050000             9.6              4.7             173\n",
       "6  Kuala Lumpur      12580000             7.5              5.5             124\n",
       "1        London      19830000             3.0              5.8             153\n",
       "8      Istanbul      10700000            19.7              5.8             108\n",
       "7         Tokyo      11930000             1.6              6.5             154\n",
       "5      New York      13130000             4.1              8.3             147"
      ]
     },
     "execution_count": 90,
     "metadata": {},
     "output_type": "execute_result"
    }
   ],
   "source": [
    "top_cities.sort_values(by=['AvgLengthOfStay'])"
   ]
  },
  {
   "cell_type": "code",
   "execution_count": 91,
   "metadata": {},
   "outputs": [
    {
     "data": {
      "text/html": [
       "<div>\n",
       "<style scoped>\n",
       "    .dataframe tbody tr th:only-of-type {\n",
       "        vertical-align: middle;\n",
       "    }\n",
       "\n",
       "    .dataframe tbody tr th {\n",
       "        vertical-align: top;\n",
       "    }\n",
       "\n",
       "    .dataframe thead th {\n",
       "        text-align: right;\n",
       "    }\n",
       "</style>\n",
       "<table border=\"1\" class=\"dataframe\">\n",
       "  <thead>\n",
       "    <tr style=\"text-align: right;\">\n",
       "      <th></th>\n",
       "      <th>City</th>\n",
       "      <th>VisitorCount</th>\n",
       "      <th>GrowthForecast</th>\n",
       "      <th>AvgLengthOfStay</th>\n",
       "      <th>AvgSpendPerDay</th>\n",
       "    </tr>\n",
       "  </thead>\n",
       "  <tbody>\n",
       "    <tr>\n",
       "      <th>8</th>\n",
       "      <td>Istanbul</td>\n",
       "      <td>10700000</td>\n",
       "      <td>19.7</td>\n",
       "      <td>5.8</td>\n",
       "      <td>108</td>\n",
       "    </tr>\n",
       "    <tr>\n",
       "      <th>6</th>\n",
       "      <td>Kuala Lumpur</td>\n",
       "      <td>12580000</td>\n",
       "      <td>7.5</td>\n",
       "      <td>5.5</td>\n",
       "      <td>124</td>\n",
       "    </tr>\n",
       "    <tr>\n",
       "      <th>5</th>\n",
       "      <td>New York</td>\n",
       "      <td>13130000</td>\n",
       "      <td>4.1</td>\n",
       "      <td>8.3</td>\n",
       "      <td>147</td>\n",
       "    </tr>\n",
       "    <tr>\n",
       "      <th>1</th>\n",
       "      <td>London</td>\n",
       "      <td>19830000</td>\n",
       "      <td>3.0</td>\n",
       "      <td>5.8</td>\n",
       "      <td>153</td>\n",
       "    </tr>\n",
       "    <tr>\n",
       "      <th>7</th>\n",
       "      <td>Tokyo</td>\n",
       "      <td>11930000</td>\n",
       "      <td>1.6</td>\n",
       "      <td>6.5</td>\n",
       "      <td>154</td>\n",
       "    </tr>\n",
       "    <tr>\n",
       "      <th>0</th>\n",
       "      <td>Bangkok</td>\n",
       "      <td>20050000</td>\n",
       "      <td>9.6</td>\n",
       "      <td>4.7</td>\n",
       "      <td>173</td>\n",
       "    </tr>\n",
       "    <tr>\n",
       "      <th>9</th>\n",
       "      <td>Seoul</td>\n",
       "      <td>9540000</td>\n",
       "      <td>6.1</td>\n",
       "      <td>4.2</td>\n",
       "      <td>181</td>\n",
       "    </tr>\n",
       "    <tr>\n",
       "      <th>4</th>\n",
       "      <td>Singapore</td>\n",
       "      <td>13910000</td>\n",
       "      <td>4.0</td>\n",
       "      <td>4.3</td>\n",
       "      <td>286</td>\n",
       "    </tr>\n",
       "    <tr>\n",
       "      <th>2</th>\n",
       "      <td>Paris</td>\n",
       "      <td>17440000</td>\n",
       "      <td>2.9</td>\n",
       "      <td>2.5</td>\n",
       "      <td>301</td>\n",
       "    </tr>\n",
       "    <tr>\n",
       "      <th>3</th>\n",
       "      <td>Dubai</td>\n",
       "      <td>15790000</td>\n",
       "      <td>5.5</td>\n",
       "      <td>3.5</td>\n",
       "      <td>537</td>\n",
       "    </tr>\n",
       "  </tbody>\n",
       "</table>\n",
       "</div>"
      ],
      "text/plain": [
       "           City  VisitorCount  GrowthForecast  AvgLengthOfStay  AvgSpendPerDay\n",
       "8      Istanbul      10700000            19.7              5.8             108\n",
       "6  Kuala Lumpur      12580000             7.5              5.5             124\n",
       "5      New York      13130000             4.1              8.3             147\n",
       "1        London      19830000             3.0              5.8             153\n",
       "7         Tokyo      11930000             1.6              6.5             154\n",
       "0       Bangkok      20050000             9.6              4.7             173\n",
       "9         Seoul       9540000             6.1              4.2             181\n",
       "4     Singapore      13910000             4.0              4.3             286\n",
       "2         Paris      17440000             2.9              2.5             301\n",
       "3         Dubai      15790000             5.5              3.5             537"
      ]
     },
     "execution_count": 91,
     "metadata": {},
     "output_type": "execute_result"
    }
   ],
   "source": [
    "top_cities.sort_values(by=['AvgSpendPerDay'])"
   ]
  },
  {
   "cell_type": "markdown",
   "metadata": {},
   "source": [
    "<h4>Visualisation</h4>"
   ]
  },
  {
   "cell_type": "code",
   "execution_count": null,
   "metadata": {},
   "outputs": [],
   "source": []
  },
  {
   "cell_type": "markdown",
   "metadata": {},
   "source": [
    "<h5> Graph 1: Bar Graph Showing Average Spend Per Day in Dollars for each city"
   ]
  },
  {
   "cell_type": "code",
   "execution_count": 92,
   "metadata": {},
   "outputs": [
    {
     "data": {
      "text/plain": [
       "Text(0.5, 0, 'Average Spend Per Day in Dollars')"
      ]
     },
     "execution_count": 92,
     "metadata": {},
     "output_type": "execute_result"
    },
    {
     "data": {
      "image/png": "[encoded data removed]",
      "text/plain": [
       "<Figure size 720x432 with 1 Axes>"
      ]
     },
     "metadata": {
      "needs_background": "light"
     },
     "output_type": "display_data"
    }
   ],
   "source": [
    "plt.figure(figsize=(10,6))\n",
    "plt.barh(top_cities['City'], top_cities['AvgSpendPerDay'], height=0.5)\n",
    "\n",
    "plt.ylabel('Top Destinations')\n",
    "plt.xlabel('Average Spend Per Day in Dollars')\n",
    "#plt.bar(top_cities['City'], top_cities['AvgSpendPerDay'], width=0.3, )"
   ]
  },
  {
   "cell_type": "markdown",
   "metadata": {},
   "source": [
    "The highest expenditure is in Dubai, followed by Paris, Singapore, Seoul, Bangkok in descending order."
   ]
  },
  {
   "cell_type": "markdown",
   "metadata": {},
   "source": [
    "<h5> Graph 2: Bar Graph Showing Average Length Of Stay(expressed as number of nights) for each top city"
   ]
  },
  {
   "cell_type": "code",
   "execution_count": 93,
   "metadata": {},
   "outputs": [
    {
     "data": {
      "text/plain": [
       "Text(0.5, 0, 'Average Length Of Stay(Nights)')"
      ]
     },
     "execution_count": 93,
     "metadata": {},
     "output_type": "execute_result"
    },
    {
     "data": {
      "image/png": "[encoded data removed]",
      "text/plain": [
       "<Figure size 720x432 with 1 Axes>"
      ]
     },
     "metadata": {
      "needs_background": "light"
     },
     "output_type": "display_data"
    }
   ],
   "source": [
    "plt.figure(figsize=(10,6))\n",
    "plt.barh(top_cities['City'], top_cities['AvgLengthOfStay'], height=0.5)\n",
    "\n",
    "plt.ylabel('Top Destinations')\n",
    "plt.xlabel('Average Length Of Stay(Nights)')"
   ]
  },
  {
   "cell_type": "markdown",
   "metadata": {},
   "source": [
    "The longest was is in New York, followed by Tokyo, Istanbul, London, Bangkok in descending order."
   ]
  },
  {
   "cell_type": "markdown",
   "metadata": {},
   "source": [
    "<h5> Graph 3: Bar Graph Showing Total visitors for each top city in 2017"
   ]
  },
  {
   "cell_type": "code",
   "execution_count": 94,
   "metadata": {},
   "outputs": [
    {
     "data": {
      "text/plain": [
       "Text(0.5, 0, 'Number of Visitors')"
      ]
     },
     "execution_count": 94,
     "metadata": {},
     "output_type": "execute_result"
    },
    {
     "data": {
      "image/png": "[encoded data removed]",
      "text/plain": [
       "<Figure size 720x432 with 1 Axes>"
      ]
     },
     "metadata": {
      "needs_background": "light"
     },
     "output_type": "display_data"
    }
   ],
   "source": [
    "\n",
    "plt.figure(figsize=(10,6))\n",
    "plt.barh(top_cities['City'], top_cities['VisitorCount'], height=0.5)\n",
    "\n",
    "plt.ylabel('Top Destinations')\n",
    "plt.xlabel('Number of Visitors')\n"
   ]
  },
  {
   "cell_type": "markdown",
   "metadata": {},
   "source": [
    "The highest count of visitors was in Bangkok, followed by London, Paris, Dubai, Singapore in descending order."
   ]
  },
  {
   "cell_type": "markdown",
   "metadata": {},
   "source": [
    "<h5> Graph 4: Bar Graph Showing Growth forecast for each top city in 2017"
   ]
  },
  {
   "cell_type": "code",
   "execution_count": 95,
   "metadata": {},
   "outputs": [
    {
     "data": {
      "text/plain": [
       "Text(0.5, 0, 'Growth Forecast')"
      ]
     },
     "execution_count": 95,
     "metadata": {},
     "output_type": "execute_result"
    },
    {
     "data": {
      "image/png": "[encoded data removed]",
      "text/plain": [
       "<Figure size 720x432 with 1 Axes>"
      ]
     },
     "metadata": {
      "needs_background": "light"
     },
     "output_type": "display_data"
    }
   ],
   "source": [
    "\n",
    "plt.figure(figsize=(10,6))\n",
    "plt.barh(top_cities['City'], top_cities['GrowthForecast'], height=0.5)\n",
    "\n",
    "plt.ylabel('Top Destinations')\n",
    "plt.xlabel('Growth Forecast')"
   ]
  },
  {
   "cell_type": "markdown",
   "metadata": {},
   "source": [
    "The highest growth was forecasted for Istanbul, followed by Bangkok, Kuala Lumpur, Seoul, Dubai in descending order."
   ]
  },
  {
   "cell_type": "markdown",
   "metadata": {},
   "source": [
    "<h4> Relationship Exploration"
   ]
  },
  {
   "cell_type": "markdown",
   "metadata": {},
   "source": [
    "We can explore the relationships between the variables. It will be interesting to find how the other indicators affect visitor count and even vice versa."
   ]
  },
  {
   "cell_type": "markdown",
   "metadata": {},
   "source": [
    "<h5> Scatter plot 1: Relationship between Average spend per day and Length of stay"
   ]
  },
  {
   "cell_type": "code",
   "execution_count": 96,
   "metadata": {},
   "outputs": [
    {
     "name": "stdout",
     "output_type": "stream",
     "text": [
      "Pearson Correlation: Coefficient = -0.6301341589244333, p-value = 0.050840480068283116\n",
      "SpearmanrResult(correlation=-0.8024353176576852, pvalue=0.005211461766706417)\n"
     ]
    },
    {
     "data": {
      "image/png": "[encoded data removed]",
      "text/plain": [
       "<Figure size 576x288 with 1 Axes>"
      ]
     },
     "metadata": {
      "needs_background": "light"
     },
     "output_type": "display_data"
    }
   ],
   "source": [
    "scatter_corr(top_cities['AvgSpendPerDay'], top_cities['AvgLengthOfStay'], 'Average Spend Per Day', 'Average Length of Stay', '')\n"
   ]
  },
  {
   "cell_type": "markdown",
   "metadata": {},
   "source": [
    "Observation 1: There is a negative non-linear relationship between length of stay and the average spend per day. Visitors appear to stay long in cities where they spend less.\n",
    "\n",
    "This is a reasonable observation."
   ]
  },
  {
   "cell_type": "markdown",
   "metadata": {},
   "source": [
    "<h5> Scatter plot 2: Relationship between Average Spend Per Day and Number of Visitors"
   ]
  },
  {
   "cell_type": "code",
   "execution_count": 97,
   "metadata": {},
   "outputs": [
    {
     "name": "stdout",
     "output_type": "stream",
     "text": [
      "Pearson Correlation: Coefficient = 0.24861067064924272, p-value = 0.48854899122182777\n",
      "SpearmanrResult(correlation=0.3696969696969697, pvalue=0.2930500752928223)\n"
     ]
    },
    {
     "data": {
      "text/plain": [
       "Text(153.5, 17500000, 'Median Spend Per Day')"
      ]
     },
     "execution_count": 97,
     "metadata": {},
     "output_type": "execute_result"
    },
    {
     "data": {
      "image/png": "[encoded data removed]",
      "text/plain": [
       "<Figure size 576x288 with 1 Axes>"
      ]
     },
     "metadata": {
      "needs_background": "light"
     },
     "output_type": "display_data"
    }
   ],
   "source": [
    "scatter_corr(top_cities['AvgSpendPerDay'], top_cities['VisitorCount'], 'Average Spend Per Day', 'Number of Visitors', \\\n",
    "           'Relationship between Average Spend Per Day and Number of Visitors')\n",
    "\n",
    "plt.vlines(top_cities['AvgSpendPerDay'].median(), ymin=10000000, ymax=20000000, linestyles='dashed', label='median average spend per day')\n",
    "plt.hlines(top_cities['VisitorCount'].median(), xmin=100, xmax=550, linestyles='dashed', label='median visitor count')\n",
    "plt.annotate('Median Visitor Count', [450, top_cities['VisitorCount'].median()+100000])\n",
    "plt.annotate('Median Spend Per Day', [top_cities['AvgSpendPerDay'].median()-10, 17500000], rotation=90)"
   ]
  },
  {
   "cell_type": "markdown",
   "metadata": {},
   "source": [
    "There seems to be a non-linear relationship between the Number of visitors and the average spend per day. Notwithstanding, the average spend per day in cities ranking 2nd to 5th for number of visitors, are above the median."
   ]
  },
  {
   "cell_type": "markdown",
   "metadata": {},
   "source": [
    "<h5> Scatter plot 3: Relationship between Average Length of Stay and Number of Visitors"
   ]
  },
  {
   "cell_type": "code",
   "execution_count": 98,
   "metadata": {},
   "outputs": [
    {
     "name": "stdout",
     "output_type": "stream",
     "text": [
      "Pearson Correlation: Coefficient = -0.2706295034274189, p-value = 0.4494842595625964\n",
      "SpearmanrResult(correlation=-0.24316221747202585, pvalue=0.49843371099777956)\n"
     ]
    },
    {
     "data": {
      "text/plain": [
       "Text(4.949999999999999, 17500000, 'Median Length Of Stay')"
      ]
     },
     "execution_count": 98,
     "metadata": {},
     "output_type": "execute_result"
    },
    {
     "data": {
      "image/png": "[encoded data removed]",
      "text/plain": [
       "<Figure size 576x288 with 1 Axes>"
      ]
     },
     "metadata": {
      "needs_background": "light"
     },
     "output_type": "display_data"
    }
   ],
   "source": [
    "scatter_corr(top_cities['AvgLengthOfStay'], top_cities['VisitorCount'], 'Average Length of Stay', 'Number of Visitors', \\\n",
    "            'Relationship between Average Length of Stay and Number of Visitors')\n",
    "\n",
    "plt.vlines(top_cities['AvgLengthOfStay'].median(), ymin=10000000, ymax=20000000, linestyles='dashed', label='median average spend per day')\n",
    "plt.hlines(top_cities['VisitorCount'].median(), xmin=2, xmax=8, linestyles='dashed', label='median visitor count')\n",
    "plt.annotate('Median Visitor Count', [6.5, top_cities['VisitorCount'].median()+100000])\n",
    "plt.annotate('Median Length Of Stay', [top_cities['AvgLengthOfStay'].median()-0.15, 17500000], rotation=90)"
   ]
  },
  {
   "cell_type": "markdown",
   "metadata": {},
   "source": [
    "<h5> Correlation Testing </h5>\n",
    "<p>Using correlation to garner further insights about the relationships explored through the scatter plots. Three methods Pearson Correlation, Spearman Correlation, and the Kendall Tau Correlation. The Sperman correlation is particualrly useful given that some of the relationships are not linear. Pearson correlation do not do well for non-linear relationships </p>"
   ]
  },
  {
   "cell_type": "markdown",
   "metadata": {},
   "source": [
    "Pearson Correlation"
   ]
  },
  {
   "cell_type": "code",
   "execution_count": 99,
   "metadata": {},
   "outputs": [
    {
     "data": {
      "text/html": [
       "<div>\n",
       "<style scoped>\n",
       "    .dataframe tbody tr th:only-of-type {\n",
       "        vertical-align: middle;\n",
       "    }\n",
       "\n",
       "    .dataframe tbody tr th {\n",
       "        vertical-align: top;\n",
       "    }\n",
       "\n",
       "    .dataframe thead th {\n",
       "        text-align: right;\n",
       "    }\n",
       "</style>\n",
       "<table border=\"1\" class=\"dataframe\">\n",
       "  <thead>\n",
       "    <tr style=\"text-align: right;\">\n",
       "      <th></th>\n",
       "      <th>VisitorCount</th>\n",
       "      <th>GrowthForecast</th>\n",
       "      <th>AvgLengthOfStay</th>\n",
       "      <th>AvgSpendPerDay</th>\n",
       "    </tr>\n",
       "  </thead>\n",
       "  <tbody>\n",
       "    <tr>\n",
       "      <th>VisitorCount</th>\n",
       "      <td>1.000000</td>\n",
       "      <td>-0.266352</td>\n",
       "      <td>-0.270630</td>\n",
       "      <td>0.248611</td>\n",
       "    </tr>\n",
       "    <tr>\n",
       "      <th>GrowthForecast</th>\n",
       "      <td>-0.266352</td>\n",
       "      <td>1.000000</td>\n",
       "      <td>0.061204</td>\n",
       "      <td>-0.286297</td>\n",
       "    </tr>\n",
       "    <tr>\n",
       "      <th>AvgLengthOfStay</th>\n",
       "      <td>-0.270630</td>\n",
       "      <td>0.061204</td>\n",
       "      <td>1.000000</td>\n",
       "      <td>-0.630134</td>\n",
       "    </tr>\n",
       "    <tr>\n",
       "      <th>AvgSpendPerDay</th>\n",
       "      <td>0.248611</td>\n",
       "      <td>-0.286297</td>\n",
       "      <td>-0.630134</td>\n",
       "      <td>1.000000</td>\n",
       "    </tr>\n",
       "  </tbody>\n",
       "</table>\n",
       "</div>"
      ],
      "text/plain": [
       "                 VisitorCount  GrowthForecast  AvgLengthOfStay  AvgSpendPerDay\n",
       "VisitorCount         1.000000       -0.266352        -0.270630        0.248611\n",
       "GrowthForecast      -0.266352        1.000000         0.061204       -0.286297\n",
       "AvgLengthOfStay     -0.270630        0.061204         1.000000       -0.630134\n",
       "AvgSpendPerDay       0.248611       -0.286297        -0.630134        1.000000"
      ]
     },
     "execution_count": 99,
     "metadata": {},
     "output_type": "execute_result"
    }
   ],
   "source": [
    "top_cities.corr(method='pearson')"
   ]
  },
  {
   "cell_type": "markdown",
   "metadata": {},
   "source": [
    "Spearman Rank Correlation\n"
   ]
  },
  {
   "cell_type": "code",
   "execution_count": 100,
   "metadata": {},
   "outputs": [
    {
     "data": {
      "text/html": [
       "<div>\n",
       "<style scoped>\n",
       "    .dataframe tbody tr th:only-of-type {\n",
       "        vertical-align: middle;\n",
       "    }\n",
       "\n",
       "    .dataframe tbody tr th {\n",
       "        vertical-align: top;\n",
       "    }\n",
       "\n",
       "    .dataframe thead th {\n",
       "        text-align: right;\n",
       "    }\n",
       "</style>\n",
       "<table border=\"1\" class=\"dataframe\">\n",
       "  <thead>\n",
       "    <tr style=\"text-align: right;\">\n",
       "      <th></th>\n",
       "      <th>VisitorCount</th>\n",
       "      <th>GrowthForecast</th>\n",
       "      <th>AvgLengthOfStay</th>\n",
       "      <th>AvgSpendPerDay</th>\n",
       "    </tr>\n",
       "  </thead>\n",
       "  <tbody>\n",
       "    <tr>\n",
       "      <th>VisitorCount</th>\n",
       "      <td>1.000000</td>\n",
       "      <td>-0.200000</td>\n",
       "      <td>-0.243162</td>\n",
       "      <td>0.369697</td>\n",
       "    </tr>\n",
       "    <tr>\n",
       "      <th>GrowthForecast</th>\n",
       "      <td>-0.200000</td>\n",
       "      <td>1.000000</td>\n",
       "      <td>-0.024316</td>\n",
       "      <td>-0.381818</td>\n",
       "    </tr>\n",
       "    <tr>\n",
       "      <th>AvgLengthOfStay</th>\n",
       "      <td>-0.243162</td>\n",
       "      <td>-0.024316</td>\n",
       "      <td>1.000000</td>\n",
       "      <td>-0.802435</td>\n",
       "    </tr>\n",
       "    <tr>\n",
       "      <th>AvgSpendPerDay</th>\n",
       "      <td>0.369697</td>\n",
       "      <td>-0.381818</td>\n",
       "      <td>-0.802435</td>\n",
       "      <td>1.000000</td>\n",
       "    </tr>\n",
       "  </tbody>\n",
       "</table>\n",
       "</div>"
      ],
      "text/plain": [
       "                 VisitorCount  GrowthForecast  AvgLengthOfStay  AvgSpendPerDay\n",
       "VisitorCount         1.000000       -0.200000        -0.243162        0.369697\n",
       "GrowthForecast      -0.200000        1.000000        -0.024316       -0.381818\n",
       "AvgLengthOfStay     -0.243162       -0.024316         1.000000       -0.802435\n",
       "AvgSpendPerDay       0.369697       -0.381818        -0.802435        1.000000"
      ]
     },
     "execution_count": 100,
     "metadata": {},
     "output_type": "execute_result"
    }
   ],
   "source": [
    "top_cities.corr(method='spearman')"
   ]
  },
  {
   "cell_type": "markdown",
   "metadata": {},
   "source": [
    "Kendall Tau Correlation"
   ]
  },
  {
   "cell_type": "code",
   "execution_count": 101,
   "metadata": {},
   "outputs": [
    {
     "data": {
      "text/html": [
       "<div>\n",
       "<style scoped>\n",
       "    .dataframe tbody tr th:only-of-type {\n",
       "        vertical-align: middle;\n",
       "    }\n",
       "\n",
       "    .dataframe tbody tr th {\n",
       "        vertical-align: top;\n",
       "    }\n",
       "\n",
       "    .dataframe thead th {\n",
       "        text-align: right;\n",
       "    }\n",
       "</style>\n",
       "<table border=\"1\" class=\"dataframe\">\n",
       "  <thead>\n",
       "    <tr style=\"text-align: right;\">\n",
       "      <th></th>\n",
       "      <th>VisitorCount</th>\n",
       "      <th>GrowthForecast</th>\n",
       "      <th>AvgLengthOfStay</th>\n",
       "      <th>AvgSpendPerDay</th>\n",
       "    </tr>\n",
       "  </thead>\n",
       "  <tbody>\n",
       "    <tr>\n",
       "      <th>VisitorCount</th>\n",
       "      <td>1.000000</td>\n",
       "      <td>-0.155556</td>\n",
       "      <td>-0.179787</td>\n",
       "      <td>0.288889</td>\n",
       "    </tr>\n",
       "    <tr>\n",
       "      <th>GrowthForecast</th>\n",
       "      <td>-0.155556</td>\n",
       "      <td>1.000000</td>\n",
       "      <td>0.044947</td>\n",
       "      <td>-0.333333</td>\n",
       "    </tr>\n",
       "    <tr>\n",
       "      <th>AvgLengthOfStay</th>\n",
       "      <td>-0.179787</td>\n",
       "      <td>0.044947</td>\n",
       "      <td>1.000000</td>\n",
       "      <td>-0.629253</td>\n",
       "    </tr>\n",
       "    <tr>\n",
       "      <th>AvgSpendPerDay</th>\n",
       "      <td>0.288889</td>\n",
       "      <td>-0.333333</td>\n",
       "      <td>-0.629253</td>\n",
       "      <td>1.000000</td>\n",
       "    </tr>\n",
       "  </tbody>\n",
       "</table>\n",
       "</div>"
      ],
      "text/plain": [
       "                 VisitorCount  GrowthForecast  AvgLengthOfStay  AvgSpendPerDay\n",
       "VisitorCount         1.000000       -0.155556        -0.179787        0.288889\n",
       "GrowthForecast      -0.155556        1.000000         0.044947       -0.333333\n",
       "AvgLengthOfStay     -0.179787        0.044947         1.000000       -0.629253\n",
       "AvgSpendPerDay       0.288889       -0.333333        -0.629253        1.000000"
      ]
     },
     "execution_count": 101,
     "metadata": {},
     "output_type": "execute_result"
    }
   ],
   "source": [
    "top_cities.corr(method='kendall')"
   ]
  },
  {
   "cell_type": "markdown",
   "metadata": {},
   "source": [
    "Interestingly, the highest correlation was recorded between average spend per day and average length of stay as was demonstrable in our scatter plots. Additionally, the spearman method produced the highest correlation at -0.80, proving non-linearity and monotonicity.\n",
    "\n",
    "Rightfully, average spend per day and average length of day are negatively correlated, and this validates our first observation that visitors generally stay longer in cities where they spend less. "
   ]
  },
  {
   "cell_type": "markdown",
   "metadata": {},
   "source": [
    "<h3> d. Using Clustering to further explore data"
   ]
  },
  {
   "cell_type": "markdown",
   "metadata": {},
   "source": [
    "Cluster mastercard index data"
   ]
  },
  {
   "cell_type": "code",
   "execution_count": 102,
   "metadata": {},
   "outputs": [
    {
     "name": "stderr",
     "output_type": "stream",
     "text": [
      "C:\\ProgramData\\Anaconda3\\lib\\site-packages\\sklearn\\preprocessing\\data.py:625: DataConversionWarning: Data with input dtype int32, int64, float64 were all converted to float64 by StandardScaler.\n",
      "  return self.partial_fit(X, y)\n",
      "C:\\ProgramData\\Anaconda3\\lib\\site-packages\\ipykernel_launcher.py:4: DataConversionWarning: Data with input dtype int32, int64, float64 were all converted to float64 by StandardScaler.\n",
      "  after removing the cwd from sys.path.\n"
     ]
    },
    {
     "data": {
      "text/plain": [
       "Text(5.1, 3.5, 'Elbow')"
      ]
     },
     "execution_count": 102,
     "metadata": {},
     "output_type": "execute_result"
    },
    {
     "data": {
      "image/png": "[encoded data removed]",
      "text/plain": [
       "<Figure size 720x432 with 1 Axes>"
      ]
     },
     "metadata": {
      "needs_background": "light"
     },
     "output_type": "display_data"
    }
   ],
   "source": [
    "#cluster mastercard index data\n",
    "mastercard_cluster = kmeans_cluster(top_cities.drop(['City', 'GrowthForecast'], 1), 11)\n",
    "\n",
    "plt.vlines(5, ymin=2, ymax=4, linestyles='dashed')\n",
    "plt.annotate('Elbow', [5.1,3.5])"
   ]
  },
  {
   "cell_type": "markdown",
   "metadata": {},
   "source": [
    "Plotting K against Sum of Squared Distances, and using the Elbow method to determine the best K"
   ]
  },
  {
   "cell_type": "code",
   "execution_count": 103,
   "metadata": {},
   "outputs": [],
   "source": [
    "#plot k and sums of squared distances to visualise elbow\n",
    "#k_elbow(mastercard_cluster['ks'], mastercard_cluster['sumsqdis'])\n",
    "\n",
    "#plt.vlines(5, ymin=2, ymax=4, linestyles='dashed')\n",
    "#plt.annotate('Elbow', [5.1,3.5])"
   ]
  },
  {
   "cell_type": "markdown",
   "metadata": {},
   "source": [
    "Getting labels from clustering with the best K and adding them to the cities dataframe"
   ]
  },
  {
   "cell_type": "code",
   "execution_count": 104,
   "metadata": {},
   "outputs": [
    {
     "data": {
      "text/plain": [
       "array([2, 2, 0, 3, 0, 4, 1, 1, 1, 1])"
      ]
     },
     "execution_count": 104,
     "metadata": {},
     "output_type": "execute_result"
    }
   ],
   "source": [
    "#Infering best k from plot above\n",
    "best_k = 5\n",
    "\n",
    "#obtaining the labels of clustering from the best K\n",
    "kmeans_ex_labels = mastercard_cluster['clabels'][best_k-1]  #index of list starts from 0, but our K starts from 1\n",
    "kmeans_ex_labels"
   ]
  },
  {
   "cell_type": "code",
   "execution_count": 105,
   "metadata": {},
   "outputs": [],
   "source": [
    "top_cities_clust = top_cities.drop(['GrowthForecast'], 1)\n",
    "top_cities_clust['ClusterLabels'] = kmeans_ex_labels #new dataframe with top cities dataframe and labels concatenated"
   ]
  },
  {
   "cell_type": "markdown",
   "metadata": {},
   "source": [
    "<h5> Assessing clusters by Number of Visitors </h5>"
   ]
  },
  {
   "cell_type": "code",
   "execution_count": 106,
   "metadata": {},
   "outputs": [
    {
     "data": {
      "text/html": [
       "<div>\n",
       "<style scoped>\n",
       "    .dataframe tbody tr th:only-of-type {\n",
       "        vertical-align: middle;\n",
       "    }\n",
       "\n",
       "    .dataframe tbody tr th {\n",
       "        vertical-align: top;\n",
       "    }\n",
       "\n",
       "    .dataframe thead th {\n",
       "        text-align: right;\n",
       "    }\n",
       "</style>\n",
       "<table border=\"1\" class=\"dataframe\">\n",
       "  <thead>\n",
       "    <tr style=\"text-align: right;\">\n",
       "      <th></th>\n",
       "      <th>City</th>\n",
       "      <th>VisitorCount</th>\n",
       "      <th>AvgLengthOfStay</th>\n",
       "      <th>AvgSpendPerDay</th>\n",
       "      <th>ClusterLabels</th>\n",
       "    </tr>\n",
       "  </thead>\n",
       "  <tbody>\n",
       "    <tr>\n",
       "      <th>0</th>\n",
       "      <td>Bangkok</td>\n",
       "      <td>20050000</td>\n",
       "      <td>4.7</td>\n",
       "      <td>173</td>\n",
       "      <td>2</td>\n",
       "    </tr>\n",
       "    <tr>\n",
       "      <th>1</th>\n",
       "      <td>London</td>\n",
       "      <td>19830000</td>\n",
       "      <td>5.8</td>\n",
       "      <td>153</td>\n",
       "      <td>2</td>\n",
       "    </tr>\n",
       "    <tr>\n",
       "      <th>2</th>\n",
       "      <td>Paris</td>\n",
       "      <td>17440000</td>\n",
       "      <td>2.5</td>\n",
       "      <td>301</td>\n",
       "      <td>0</td>\n",
       "    </tr>\n",
       "    <tr>\n",
       "      <th>3</th>\n",
       "      <td>Dubai</td>\n",
       "      <td>15790000</td>\n",
       "      <td>3.5</td>\n",
       "      <td>537</td>\n",
       "      <td>3</td>\n",
       "    </tr>\n",
       "    <tr>\n",
       "      <th>4</th>\n",
       "      <td>Singapore</td>\n",
       "      <td>13910000</td>\n",
       "      <td>4.3</td>\n",
       "      <td>286</td>\n",
       "      <td>0</td>\n",
       "    </tr>\n",
       "    <tr>\n",
       "      <th>5</th>\n",
       "      <td>New York</td>\n",
       "      <td>13130000</td>\n",
       "      <td>8.3</td>\n",
       "      <td>147</td>\n",
       "      <td>4</td>\n",
       "    </tr>\n",
       "    <tr>\n",
       "      <th>6</th>\n",
       "      <td>Kuala Lumpur</td>\n",
       "      <td>12580000</td>\n",
       "      <td>5.5</td>\n",
       "      <td>124</td>\n",
       "      <td>1</td>\n",
       "    </tr>\n",
       "    <tr>\n",
       "      <th>7</th>\n",
       "      <td>Tokyo</td>\n",
       "      <td>11930000</td>\n",
       "      <td>6.5</td>\n",
       "      <td>154</td>\n",
       "      <td>1</td>\n",
       "    </tr>\n",
       "    <tr>\n",
       "      <th>8</th>\n",
       "      <td>Istanbul</td>\n",
       "      <td>10700000</td>\n",
       "      <td>5.8</td>\n",
       "      <td>108</td>\n",
       "      <td>1</td>\n",
       "    </tr>\n",
       "    <tr>\n",
       "      <th>9</th>\n",
       "      <td>Seoul</td>\n",
       "      <td>9540000</td>\n",
       "      <td>4.2</td>\n",
       "      <td>181</td>\n",
       "      <td>1</td>\n",
       "    </tr>\n",
       "  </tbody>\n",
       "</table>\n",
       "</div>"
      ],
      "text/plain": [
       "           City  VisitorCount  AvgLengthOfStay  AvgSpendPerDay  ClusterLabels\n",
       "0       Bangkok      20050000              4.7             173              2\n",
       "1        London      19830000              5.8             153              2\n",
       "2         Paris      17440000              2.5             301              0\n",
       "3         Dubai      15790000              3.5             537              3\n",
       "4     Singapore      13910000              4.3             286              0\n",
       "5      New York      13130000              8.3             147              4\n",
       "6  Kuala Lumpur      12580000              5.5             124              1\n",
       "7         Tokyo      11930000              6.5             154              1\n",
       "8      Istanbul      10700000              5.8             108              1\n",
       "9         Seoul       9540000              4.2             181              1"
      ]
     },
     "execution_count": 106,
     "metadata": {},
     "output_type": "execute_result"
    }
   ],
   "source": [
    "top_cities_clust #[['City', 'VisitorCount', 'ClusterLabels']]"
   ]
  },
  {
   "cell_type": "markdown",
   "metadata": {},
   "source": [
    "<h5>Assessing Clusters by the Average Length of Stay</h5>"
   ]
  },
  {
   "cell_type": "code",
   "execution_count": 107,
   "metadata": {},
   "outputs": [
    {
     "data": {
      "text/html": [
       "<div>\n",
       "<style scoped>\n",
       "    .dataframe tbody tr th:only-of-type {\n",
       "        vertical-align: middle;\n",
       "    }\n",
       "\n",
       "    .dataframe tbody tr th {\n",
       "        vertical-align: top;\n",
       "    }\n",
       "\n",
       "    .dataframe thead th {\n",
       "        text-align: right;\n",
       "    }\n",
       "</style>\n",
       "<table border=\"1\" class=\"dataframe\">\n",
       "  <thead>\n",
       "    <tr style=\"text-align: right;\">\n",
       "      <th></th>\n",
       "      <th>City</th>\n",
       "      <th>VisitorCount</th>\n",
       "      <th>AvgLengthOfStay</th>\n",
       "      <th>AvgSpendPerDay</th>\n",
       "      <th>ClusterLabels</th>\n",
       "    </tr>\n",
       "  </thead>\n",
       "  <tbody>\n",
       "    <tr>\n",
       "      <th>5</th>\n",
       "      <td>New York</td>\n",
       "      <td>13130000</td>\n",
       "      <td>8.3</td>\n",
       "      <td>147</td>\n",
       "      <td>4</td>\n",
       "    </tr>\n",
       "    <tr>\n",
       "      <th>7</th>\n",
       "      <td>Tokyo</td>\n",
       "      <td>11930000</td>\n",
       "      <td>6.5</td>\n",
       "      <td>154</td>\n",
       "      <td>1</td>\n",
       "    </tr>\n",
       "    <tr>\n",
       "      <th>1</th>\n",
       "      <td>London</td>\n",
       "      <td>19830000</td>\n",
       "      <td>5.8</td>\n",
       "      <td>153</td>\n",
       "      <td>2</td>\n",
       "    </tr>\n",
       "    <tr>\n",
       "      <th>8</th>\n",
       "      <td>Istanbul</td>\n",
       "      <td>10700000</td>\n",
       "      <td>5.8</td>\n",
       "      <td>108</td>\n",
       "      <td>1</td>\n",
       "    </tr>\n",
       "    <tr>\n",
       "      <th>6</th>\n",
       "      <td>Kuala Lumpur</td>\n",
       "      <td>12580000</td>\n",
       "      <td>5.5</td>\n",
       "      <td>124</td>\n",
       "      <td>1</td>\n",
       "    </tr>\n",
       "    <tr>\n",
       "      <th>0</th>\n",
       "      <td>Bangkok</td>\n",
       "      <td>20050000</td>\n",
       "      <td>4.7</td>\n",
       "      <td>173</td>\n",
       "      <td>2</td>\n",
       "    </tr>\n",
       "    <tr>\n",
       "      <th>4</th>\n",
       "      <td>Singapore</td>\n",
       "      <td>13910000</td>\n",
       "      <td>4.3</td>\n",
       "      <td>286</td>\n",
       "      <td>0</td>\n",
       "    </tr>\n",
       "    <tr>\n",
       "      <th>9</th>\n",
       "      <td>Seoul</td>\n",
       "      <td>9540000</td>\n",
       "      <td>4.2</td>\n",
       "      <td>181</td>\n",
       "      <td>1</td>\n",
       "    </tr>\n",
       "    <tr>\n",
       "      <th>3</th>\n",
       "      <td>Dubai</td>\n",
       "      <td>15790000</td>\n",
       "      <td>3.5</td>\n",
       "      <td>537</td>\n",
       "      <td>3</td>\n",
       "    </tr>\n",
       "    <tr>\n",
       "      <th>2</th>\n",
       "      <td>Paris</td>\n",
       "      <td>17440000</td>\n",
       "      <td>2.5</td>\n",
       "      <td>301</td>\n",
       "      <td>0</td>\n",
       "    </tr>\n",
       "  </tbody>\n",
       "</table>\n",
       "</div>"
      ],
      "text/plain": [
       "           City  VisitorCount  AvgLengthOfStay  AvgSpendPerDay  ClusterLabels\n",
       "5      New York      13130000              8.3             147              4\n",
       "7         Tokyo      11930000              6.5             154              1\n",
       "1        London      19830000              5.8             153              2\n",
       "8      Istanbul      10700000              5.8             108              1\n",
       "6  Kuala Lumpur      12580000              5.5             124              1\n",
       "0       Bangkok      20050000              4.7             173              2\n",
       "4     Singapore      13910000              4.3             286              0\n",
       "9         Seoul       9540000              4.2             181              1\n",
       "3         Dubai      15790000              3.5             537              3\n",
       "2         Paris      17440000              2.5             301              0"
      ]
     },
     "execution_count": 107,
     "metadata": {},
     "output_type": "execute_result"
    }
   ],
   "source": [
    "top_cities_clust.sort_values(by=['AvgLengthOfStay'], ascending=False)\n",
    "#[['City', 'AvgLengthOfStay', 'ClusterLabels']]"
   ]
  },
  {
   "cell_type": "markdown",
   "metadata": {},
   "source": [
    "<h5>Assessing Clusters by the Average Spend Per Day</h5>"
   ]
  },
  {
   "cell_type": "code",
   "execution_count": 108,
   "metadata": {},
   "outputs": [
    {
     "data": {
      "text/html": [
       "<div>\n",
       "<style scoped>\n",
       "    .dataframe tbody tr th:only-of-type {\n",
       "        vertical-align: middle;\n",
       "    }\n",
       "\n",
       "    .dataframe tbody tr th {\n",
       "        vertical-align: top;\n",
       "    }\n",
       "\n",
       "    .dataframe thead th {\n",
       "        text-align: right;\n",
       "    }\n",
       "</style>\n",
       "<table border=\"1\" class=\"dataframe\">\n",
       "  <thead>\n",
       "    <tr style=\"text-align: right;\">\n",
       "      <th></th>\n",
       "      <th>City</th>\n",
       "      <th>VisitorCount</th>\n",
       "      <th>AvgLengthOfStay</th>\n",
       "      <th>AvgSpendPerDay</th>\n",
       "      <th>ClusterLabels</th>\n",
       "    </tr>\n",
       "  </thead>\n",
       "  <tbody>\n",
       "    <tr>\n",
       "      <th>3</th>\n",
       "      <td>Dubai</td>\n",
       "      <td>15790000</td>\n",
       "      <td>3.5</td>\n",
       "      <td>537</td>\n",
       "      <td>3</td>\n",
       "    </tr>\n",
       "    <tr>\n",
       "      <th>2</th>\n",
       "      <td>Paris</td>\n",
       "      <td>17440000</td>\n",
       "      <td>2.5</td>\n",
       "      <td>301</td>\n",
       "      <td>0</td>\n",
       "    </tr>\n",
       "    <tr>\n",
       "      <th>4</th>\n",
       "      <td>Singapore</td>\n",
       "      <td>13910000</td>\n",
       "      <td>4.3</td>\n",
       "      <td>286</td>\n",
       "      <td>0</td>\n",
       "    </tr>\n",
       "    <tr>\n",
       "      <th>9</th>\n",
       "      <td>Seoul</td>\n",
       "      <td>9540000</td>\n",
       "      <td>4.2</td>\n",
       "      <td>181</td>\n",
       "      <td>1</td>\n",
       "    </tr>\n",
       "    <tr>\n",
       "      <th>0</th>\n",
       "      <td>Bangkok</td>\n",
       "      <td>20050000</td>\n",
       "      <td>4.7</td>\n",
       "      <td>173</td>\n",
       "      <td>2</td>\n",
       "    </tr>\n",
       "    <tr>\n",
       "      <th>7</th>\n",
       "      <td>Tokyo</td>\n",
       "      <td>11930000</td>\n",
       "      <td>6.5</td>\n",
       "      <td>154</td>\n",
       "      <td>1</td>\n",
       "    </tr>\n",
       "    <tr>\n",
       "      <th>1</th>\n",
       "      <td>London</td>\n",
       "      <td>19830000</td>\n",
       "      <td>5.8</td>\n",
       "      <td>153</td>\n",
       "      <td>2</td>\n",
       "    </tr>\n",
       "    <tr>\n",
       "      <th>5</th>\n",
       "      <td>New York</td>\n",
       "      <td>13130000</td>\n",
       "      <td>8.3</td>\n",
       "      <td>147</td>\n",
       "      <td>4</td>\n",
       "    </tr>\n",
       "    <tr>\n",
       "      <th>6</th>\n",
       "      <td>Kuala Lumpur</td>\n",
       "      <td>12580000</td>\n",
       "      <td>5.5</td>\n",
       "      <td>124</td>\n",
       "      <td>1</td>\n",
       "    </tr>\n",
       "    <tr>\n",
       "      <th>8</th>\n",
       "      <td>Istanbul</td>\n",
       "      <td>10700000</td>\n",
       "      <td>5.8</td>\n",
       "      <td>108</td>\n",
       "      <td>1</td>\n",
       "    </tr>\n",
       "  </tbody>\n",
       "</table>\n",
       "</div>"
      ],
      "text/plain": [
       "           City  VisitorCount  AvgLengthOfStay  AvgSpendPerDay  ClusterLabels\n",
       "3         Dubai      15790000              3.5             537              3\n",
       "2         Paris      17440000              2.5             301              0\n",
       "4     Singapore      13910000              4.3             286              0\n",
       "9         Seoul       9540000              4.2             181              1\n",
       "0       Bangkok      20050000              4.7             173              2\n",
       "7         Tokyo      11930000              6.5             154              1\n",
       "1        London      19830000              5.8             153              2\n",
       "5      New York      13130000              8.3             147              4\n",
       "6  Kuala Lumpur      12580000              5.5             124              1\n",
       "8      Istanbul      10700000              5.8             108              1"
      ]
     },
     "execution_count": 108,
     "metadata": {},
     "output_type": "execute_result"
    }
   ],
   "source": [
    "top_cities_clust.sort_values(by=['AvgSpendPerDay'], ascending=False)\n",
    "#[['City', 'AvgSpendPerDay', 'ClusterLabels']]"
   ]
  },
  {
   "cell_type": "markdown",
   "metadata": {},
   "source": [
    "<h5> Using Box Plots to visualize outliers and gain more insight into cluster characteristics"
   ]
  },
  {
   "cell_type": "code",
   "execution_count": 109,
   "metadata": {},
   "outputs": [
    {
     "data": {
      "text/plain": [
       "<matplotlib.axes._subplots.AxesSubplot at 0x1dd27dc6780>"
      ]
     },
     "execution_count": 109,
     "metadata": {},
     "output_type": "execute_result"
    },
    {
     "data": {
      "image/png": "[encoded data removed]",
      "text/plain": [
       "<Figure size 432x288 with 1 Axes>"
      ]
     },
     "metadata": {
      "needs_background": "light"
     },
     "output_type": "display_data"
    }
   ],
   "source": [
    "top_cities[['VisitorCount']].plot(kind='box')"
   ]
  },
  {
   "cell_type": "code",
   "execution_count": 110,
   "metadata": {},
   "outputs": [
    {
     "data": {
      "text/plain": [
       "<matplotlib.axes._subplots.AxesSubplot at 0x1dd27c58fd0>"
      ]
     },
     "execution_count": 110,
     "metadata": {},
     "output_type": "execute_result"
    },
    {
     "data": {
      "image/png": "[encoded data removed]",
      "text/plain": [
       "<Figure size 432x288 with 1 Axes>"
      ]
     },
     "metadata": {
      "needs_background": "light"
     },
     "output_type": "display_data"
    }
   ],
   "source": [
    "top_cities[['AvgLengthOfStay']].plot(kind='box')"
   ]
  },
  {
   "cell_type": "code",
   "execution_count": 111,
   "metadata": {},
   "outputs": [
    {
     "data": {
      "text/plain": [
       "<matplotlib.axes._subplots.AxesSubplot at 0x1dd27c43cc0>"
      ]
     },
     "execution_count": 111,
     "metadata": {},
     "output_type": "execute_result"
    },
    {
     "data": {
      "image/png": "[encoded data removed]",
      "text/plain": [
       "<Figure size 432x288 with 1 Axes>"
      ]
     },
     "metadata": {
      "needs_background": "light"
     },
     "output_type": "display_data"
    }
   ],
   "source": [
    "top_cities[['AvgSpendPerDay']].plot(kind='box')"
   ]
  },
  {
   "cell_type": "markdown",
   "metadata": {},
   "source": [
    "<h5> Naming our Clusters </h5>\n",
    "\n",
    "Given that there are outliers, it is more meaningful to use median and inter-quartile range to assess variability.\n",
    "We will rate features as low, average, high based on the median and interquartile ranges.\n",
    "Consequently, from our assessments, we can name our Clusters as:\n",
    "\n",
    "<ul>\n",
    "    <li>Most Visited, Moderate Spend Per Day, Average Length Of Stay</li>\n",
    "    <li>Cities with Highest Spending, Average Visitor Count, Short Length of Stay</li>\n",
    "    <li>Cities with Longest Stay, Average Visitor Count, Low Spend Per Day</li>\n",
    "    <li>Cities with Above-Moderate Spend Per Day</li>\n",
    "    <li>Least Visited, Average Length of Stay</li>\n",
    "</ul>\n",
    "\n"
   ]
  },
  {
   "cell_type": "code",
   "execution_count": 112,
   "metadata": {},
   "outputs": [],
   "source": [
    "cluster_dict = {}"
   ]
  },
  {
   "cell_type": "markdown",
   "metadata": {},
   "source": [
    "<h5> Cluster Members</h5>"
   ]
  },
  {
   "cell_type": "markdown",
   "metadata": {},
   "source": [
    "<p>Most Visited, Moderate Spend Per Day, Average Length Of Stay</p>"
   ]
  },
  {
   "cell_type": "code",
   "execution_count": 113,
   "metadata": {},
   "outputs": [
    {
     "data": {
      "text/html": [
       "<div>\n",
       "<style scoped>\n",
       "    .dataframe tbody tr th:only-of-type {\n",
       "        vertical-align: middle;\n",
       "    }\n",
       "\n",
       "    .dataframe tbody tr th {\n",
       "        vertical-align: top;\n",
       "    }\n",
       "\n",
       "    .dataframe thead th {\n",
       "        text-align: right;\n",
       "    }\n",
       "</style>\n",
       "<table border=\"1\" class=\"dataframe\">\n",
       "  <thead>\n",
       "    <tr style=\"text-align: right;\">\n",
       "      <th></th>\n",
       "      <th>City</th>\n",
       "      <th>VisitorCount</th>\n",
       "      <th>AvgLengthOfStay</th>\n",
       "      <th>AvgSpendPerDay</th>\n",
       "      <th>ClusterLabels</th>\n",
       "    </tr>\n",
       "  </thead>\n",
       "  <tbody>\n",
       "    <tr>\n",
       "      <th>0</th>\n",
       "      <td>Bangkok</td>\n",
       "      <td>20050000</td>\n",
       "      <td>4.7</td>\n",
       "      <td>173</td>\n",
       "      <td>2</td>\n",
       "    </tr>\n",
       "    <tr>\n",
       "      <th>1</th>\n",
       "      <td>London</td>\n",
       "      <td>19830000</td>\n",
       "      <td>5.8</td>\n",
       "      <td>153</td>\n",
       "      <td>2</td>\n",
       "    </tr>\n",
       "  </tbody>\n",
       "</table>\n",
       "</div>"
      ],
      "text/plain": [
       "      City  VisitorCount  AvgLengthOfStay  AvgSpendPerDay  ClusterLabels\n",
       "0  Bangkok      20050000              4.7             173              2\n",
       "1   London      19830000              5.8             153              2"
      ]
     },
     "execution_count": 113,
     "metadata": {},
     "output_type": "execute_result"
    }
   ],
   "source": [
    "#top_cities_clust dataframe is already sorted by Visitor Count in descending order.\n",
    "#The Cluster Label for the first row gives us the label for the most visited group\n",
    "\n",
    "df_mv = top_cities_clust.sort_values(by=['VisitorCount'], ascending=False) \\\n",
    "    .loc[top_cities_clust['ClusterLabels']==top_cities_clust.iloc[0,4]]\n",
    "\n",
    "cluster_dict[top_cities_clust.iloc[0,4]]= {'Description': 'Most Visited, Moderate Spend Per Day, Average Length Of Stay', \\\n",
    "                                          'Cities':tuple(df_mv['City'])}\n",
    "\n",
    "df_mv"
   ]
  },
  {
   "cell_type": "markdown",
   "metadata": {},
   "source": [
    "<p>Cities with Highest Spending, Short Length of Stay, Average Visitor Count</p>"
   ]
  },
  {
   "cell_type": "code",
   "execution_count": 114,
   "metadata": {},
   "outputs": [
    {
     "data": {
      "text/html": [
       "<div>\n",
       "<style scoped>\n",
       "    .dataframe tbody tr th:only-of-type {\n",
       "        vertical-align: middle;\n",
       "    }\n",
       "\n",
       "    .dataframe tbody tr th {\n",
       "        vertical-align: top;\n",
       "    }\n",
       "\n",
       "    .dataframe thead th {\n",
       "        text-align: right;\n",
       "    }\n",
       "</style>\n",
       "<table border=\"1\" class=\"dataframe\">\n",
       "  <thead>\n",
       "    <tr style=\"text-align: right;\">\n",
       "      <th></th>\n",
       "      <th>City</th>\n",
       "      <th>VisitorCount</th>\n",
       "      <th>AvgLengthOfStay</th>\n",
       "      <th>AvgSpendPerDay</th>\n",
       "      <th>ClusterLabels</th>\n",
       "    </tr>\n",
       "  </thead>\n",
       "  <tbody>\n",
       "    <tr>\n",
       "      <th>3</th>\n",
       "      <td>Dubai</td>\n",
       "      <td>15790000</td>\n",
       "      <td>3.5</td>\n",
       "      <td>537</td>\n",
       "      <td>3</td>\n",
       "    </tr>\n",
       "  </tbody>\n",
       "</table>\n",
       "</div>"
      ],
      "text/plain": [
       "    City  VisitorCount  AvgLengthOfStay  AvgSpendPerDay  ClusterLabels\n",
       "3  Dubai      15790000              3.5             537              3"
      ]
     },
     "execution_count": 114,
     "metadata": {},
     "output_type": "execute_result"
    }
   ],
   "source": [
    "by_spend = top_cities_clust.sort_values(by=['AvgSpendPerDay'], ascending=False)\n",
    "\n",
    "df_hs = by_spend.loc[by_spend['ClusterLabels']==by_spend.iloc[0,4]]\n",
    "\n",
    "cluster_dict[by_spend.iloc[0,4]]= {'Description':'Cities with Highest Spending, Short Length of Stay, Average Visitor Count', \\\n",
    "                                   'Cities':tuple(df_hs['City'])}\n",
    "\n",
    "df_hs"
   ]
  },
  {
   "cell_type": "markdown",
   "metadata": {},
   "source": [
    "Cities with Longest Stay, Low Spend Per Day, Average Visitor Count"
   ]
  },
  {
   "cell_type": "code",
   "execution_count": 115,
   "metadata": {},
   "outputs": [
    {
     "data": {
      "text/html": [
       "<div>\n",
       "<style scoped>\n",
       "    .dataframe tbody tr th:only-of-type {\n",
       "        vertical-align: middle;\n",
       "    }\n",
       "\n",
       "    .dataframe tbody tr th {\n",
       "        vertical-align: top;\n",
       "    }\n",
       "\n",
       "    .dataframe thead th {\n",
       "        text-align: right;\n",
       "    }\n",
       "</style>\n",
       "<table border=\"1\" class=\"dataframe\">\n",
       "  <thead>\n",
       "    <tr style=\"text-align: right;\">\n",
       "      <th></th>\n",
       "      <th>City</th>\n",
       "      <th>VisitorCount</th>\n",
       "      <th>AvgLengthOfStay</th>\n",
       "      <th>AvgSpendPerDay</th>\n",
       "      <th>ClusterLabels</th>\n",
       "    </tr>\n",
       "  </thead>\n",
       "  <tbody>\n",
       "    <tr>\n",
       "      <th>5</th>\n",
       "      <td>New York</td>\n",
       "      <td>13130000</td>\n",
       "      <td>8.3</td>\n",
       "      <td>147</td>\n",
       "      <td>4</td>\n",
       "    </tr>\n",
       "  </tbody>\n",
       "</table>\n",
       "</div>"
      ],
      "text/plain": [
       "       City  VisitorCount  AvgLengthOfStay  AvgSpendPerDay  ClusterLabels\n",
       "5  New York      13130000              8.3             147              4"
      ]
     },
     "execution_count": 115,
     "metadata": {},
     "output_type": "execute_result"
    }
   ],
   "source": [
    "by_length = top_cities_clust.sort_values(by=['AvgLengthOfStay'], ascending=False)\n",
    "\n",
    "df_ls = by_length.loc[by_length['ClusterLabels']==by_length.iloc[0,4]]\n",
    "\n",
    "cluster_dict[by_length.iloc[0,4]]={'Description':'Cities with Longest Stay, Low Spend Per Day, Average Visitor Count', \\\n",
    "                                  'Cities':tuple(df_ls['City'])}\n",
    "\n",
    "df_ls"
   ]
  },
  {
   "cell_type": "markdown",
   "metadata": {},
   "source": [
    "Cities with Above-Moderate Spend Per Day, but not the most Expensive"
   ]
  },
  {
   "cell_type": "code",
   "execution_count": 116,
   "metadata": {},
   "outputs": [
    {
     "data": {
      "text/html": [
       "<div>\n",
       "<style scoped>\n",
       "    .dataframe tbody tr th:only-of-type {\n",
       "        vertical-align: middle;\n",
       "    }\n",
       "\n",
       "    .dataframe tbody tr th {\n",
       "        vertical-align: top;\n",
       "    }\n",
       "\n",
       "    .dataframe thead th {\n",
       "        text-align: right;\n",
       "    }\n",
       "</style>\n",
       "<table border=\"1\" class=\"dataframe\">\n",
       "  <thead>\n",
       "    <tr style=\"text-align: right;\">\n",
       "      <th></th>\n",
       "      <th>City</th>\n",
       "      <th>VisitorCount</th>\n",
       "      <th>AvgLengthOfStay</th>\n",
       "      <th>AvgSpendPerDay</th>\n",
       "      <th>ClusterLabels</th>\n",
       "    </tr>\n",
       "  </thead>\n",
       "  <tbody>\n",
       "    <tr>\n",
       "      <th>2</th>\n",
       "      <td>Paris</td>\n",
       "      <td>17440000</td>\n",
       "      <td>2.5</td>\n",
       "      <td>301</td>\n",
       "      <td>0</td>\n",
       "    </tr>\n",
       "    <tr>\n",
       "      <th>4</th>\n",
       "      <td>Singapore</td>\n",
       "      <td>13910000</td>\n",
       "      <td>4.3</td>\n",
       "      <td>286</td>\n",
       "      <td>0</td>\n",
       "    </tr>\n",
       "  </tbody>\n",
       "</table>\n",
       "</div>"
      ],
      "text/plain": [
       "        City  VisitorCount  AvgLengthOfStay  AvgSpendPerDay  ClusterLabels\n",
       "2      Paris      17440000              2.5             301              0\n",
       "4  Singapore      13910000              4.3             286              0"
      ]
     },
     "execution_count": 116,
     "metadata": {},
     "output_type": "execute_result"
    }
   ],
   "source": [
    "\n",
    "df_ams = by_spend.loc[by_spend['ClusterLabels']==by_spend.iloc[1,4]]\n",
    "\n",
    "cluster_dict[by_spend.iloc[1,4]]={'Description':'Cities with Above-Moderate Spend Per Day, but not the most Expensive', \\\n",
    "                                 'Cities':tuple(df_ams['City'])}\n",
    "\n",
    "df_ams"
   ]
  },
  {
   "cell_type": "markdown",
   "metadata": {},
   "source": [
    "Least Visited, Average Length of Stay"
   ]
  },
  {
   "cell_type": "code",
   "execution_count": 117,
   "metadata": {},
   "outputs": [
    {
     "data": {
      "text/html": [
       "<div>\n",
       "<style scoped>\n",
       "    .dataframe tbody tr th:only-of-type {\n",
       "        vertical-align: middle;\n",
       "    }\n",
       "\n",
       "    .dataframe tbody tr th {\n",
       "        vertical-align: top;\n",
       "    }\n",
       "\n",
       "    .dataframe thead th {\n",
       "        text-align: right;\n",
       "    }\n",
       "</style>\n",
       "<table border=\"1\" class=\"dataframe\">\n",
       "  <thead>\n",
       "    <tr style=\"text-align: right;\">\n",
       "      <th></th>\n",
       "      <th>City</th>\n",
       "      <th>VisitorCount</th>\n",
       "      <th>AvgLengthOfStay</th>\n",
       "      <th>AvgSpendPerDay</th>\n",
       "      <th>ClusterLabels</th>\n",
       "    </tr>\n",
       "  </thead>\n",
       "  <tbody>\n",
       "    <tr>\n",
       "      <th>6</th>\n",
       "      <td>Kuala Lumpur</td>\n",
       "      <td>12580000</td>\n",
       "      <td>5.5</td>\n",
       "      <td>124</td>\n",
       "      <td>1</td>\n",
       "    </tr>\n",
       "    <tr>\n",
       "      <th>7</th>\n",
       "      <td>Tokyo</td>\n",
       "      <td>11930000</td>\n",
       "      <td>6.5</td>\n",
       "      <td>154</td>\n",
       "      <td>1</td>\n",
       "    </tr>\n",
       "    <tr>\n",
       "      <th>8</th>\n",
       "      <td>Istanbul</td>\n",
       "      <td>10700000</td>\n",
       "      <td>5.8</td>\n",
       "      <td>108</td>\n",
       "      <td>1</td>\n",
       "    </tr>\n",
       "    <tr>\n",
       "      <th>9</th>\n",
       "      <td>Seoul</td>\n",
       "      <td>9540000</td>\n",
       "      <td>4.2</td>\n",
       "      <td>181</td>\n",
       "      <td>1</td>\n",
       "    </tr>\n",
       "  </tbody>\n",
       "</table>\n",
       "</div>"
      ],
      "text/plain": [
       "           City  VisitorCount  AvgLengthOfStay  AvgSpendPerDay  ClusterLabels\n",
       "6  Kuala Lumpur      12580000              5.5             124              1\n",
       "7         Tokyo      11930000              6.5             154              1\n",
       "8      Istanbul      10700000              5.8             108              1\n",
       "9         Seoul       9540000              4.2             181              1"
      ]
     },
     "execution_count": 117,
     "metadata": {},
     "output_type": "execute_result"
    }
   ],
   "source": [
    "\n",
    "df_lv = top_cities_clust.loc[top_cities_clust['ClusterLabels']==top_cities_clust.iloc[9,4]]\n",
    "\n",
    "cluster_dict[top_cities_clust.iloc[9,4]]={'Description':'Least Visited, Average Length of Stay', \\\n",
    "                                         'Cities':tuple(df_lv['City'])}\n",
    "\n",
    "df_lv"
   ]
  },
  {
   "cell_type": "markdown",
   "metadata": {},
   "source": [
    "<h3>e. Observations and Inferences from Exploratory Analysis</h4>"
   ]
  },
  {
   "cell_type": "markdown",
   "metadata": {},
   "source": [
    "<ul>\n",
    "    <li>The most visited cities demonstrate a balance in spending and length of stay</li>\n",
    "    <li>It is likely most people visiting Dubai do so for business. </li>\n",
    "    <li>It is likely that New York is visited most by people on vacation<li>\n",
    "    <li>Majority of top visited cities are in Asia</li>\n",
    "    <li>People generally stay longer in cities they spend less</li>\n",
    "    <li>More people visit cities where spending is average to high</li>\n",
    "    <li>Length of Stay and Number of visitors for cities appear not to depend only on Spending</li>\n",
    "</ul>\n",
    "\n"
   ]
  },
  {
   "cell_type": "markdown",
   "metadata": {},
   "source": [
    "<h3> f. Ushering into the Next Stage</h3>\n",
    "\n",
    "There is reason to believe that infrastructure is important for tourism. People travel for business or leisure. If they want to shop, there must be diverse shopping opportunities to be atrractive to visitors. For people on vacation or business, the hospitality facilities, and memorable locations like museums etc are important.\n",
    "On the premise of the third point from our observations, I leverage foursquare location data to investigate distribution, diversity and availability of facilities of interest to travellers in the top ten cities."
   ]
  },
  {
   "cell_type": "markdown",
   "metadata": {},
   "source": [
    "<h2> 3. INSIGHTS FROM LOCATION DATA FROM TOP MOST VISITED CITIES 2017"
   ]
  },
  {
   "cell_type": "code",
   "execution_count": 118,
   "metadata": {},
   "outputs": [
    {
     "name": "stdout",
     "output_type": "stream",
     "text": [
      "Requirement already satisfied: geopy in c:\\programdata\\anaconda3\\lib\\site-packages (1.19.0)\n",
      "Requirement already satisfied: geographiclib<2,>=1.49 in c:\\programdata\\anaconda3\\lib\\site-packages (from geopy) (1.49)\n"
     ]
    }
   ],
   "source": [
    "!pip install geopy"
   ]
  },
  {
   "cell_type": "markdown",
   "metadata": {},
   "source": [
    "<h3> a. Geolocation Data Acquisition and Map Visualization for top 10 cities </h3>\n",
    "\n",
    "<p>Obtaining Latitudes and Longitudes using get_lonlats function"
   ]
  },
  {
   "cell_type": "code",
   "execution_count": 119,
   "metadata": {},
   "outputs": [
    {
     "data": {
      "text/html": [
       "<div>\n",
       "<style scoped>\n",
       "    .dataframe tbody tr th:only-of-type {\n",
       "        vertical-align: middle;\n",
       "    }\n",
       "\n",
       "    .dataframe tbody tr th {\n",
       "        vertical-align: top;\n",
       "    }\n",
       "\n",
       "    .dataframe thead th {\n",
       "        text-align: right;\n",
       "    }\n",
       "</style>\n",
       "<table border=\"1\" class=\"dataframe\">\n",
       "  <thead>\n",
       "    <tr style=\"text-align: right;\">\n",
       "      <th></th>\n",
       "      <th>City</th>\n",
       "      <th>Latitude</th>\n",
       "      <th>Longitude</th>\n",
       "    </tr>\n",
       "  </thead>\n",
       "  <tbody>\n",
       "    <tr>\n",
       "      <th>0</th>\n",
       "      <td>Bangkok</td>\n",
       "      <td>13.753893</td>\n",
       "      <td>100.816080</td>\n",
       "    </tr>\n",
       "    <tr>\n",
       "      <th>1</th>\n",
       "      <td>London</td>\n",
       "      <td>51.507322</td>\n",
       "      <td>-0.127647</td>\n",
       "    </tr>\n",
       "    <tr>\n",
       "      <th>2</th>\n",
       "      <td>Paris</td>\n",
       "      <td>48.856610</td>\n",
       "      <td>2.351499</td>\n",
       "    </tr>\n",
       "    <tr>\n",
       "      <th>3</th>\n",
       "      <td>Dubai</td>\n",
       "      <td>25.075010</td>\n",
       "      <td>55.188761</td>\n",
       "    </tr>\n",
       "    <tr>\n",
       "      <th>4</th>\n",
       "      <td>Singapore</td>\n",
       "      <td>1.340853</td>\n",
       "      <td>103.878447</td>\n",
       "    </tr>\n",
       "    <tr>\n",
       "      <th>5</th>\n",
       "      <td>New York</td>\n",
       "      <td>40.730862</td>\n",
       "      <td>-73.987156</td>\n",
       "    </tr>\n",
       "    <tr>\n",
       "      <th>6</th>\n",
       "      <td>Kuala Lumpur</td>\n",
       "      <td>3.151664</td>\n",
       "      <td>101.694303</td>\n",
       "    </tr>\n",
       "    <tr>\n",
       "      <th>7</th>\n",
       "      <td>Tokyo</td>\n",
       "      <td>35.682839</td>\n",
       "      <td>139.759455</td>\n",
       "    </tr>\n",
       "    <tr>\n",
       "      <th>8</th>\n",
       "      <td>Istanbul</td>\n",
       "      <td>41.009633</td>\n",
       "      <td>28.965165</td>\n",
       "    </tr>\n",
       "    <tr>\n",
       "      <th>9</th>\n",
       "      <td>Seoul</td>\n",
       "      <td>37.566679</td>\n",
       "      <td>126.978291</td>\n",
       "    </tr>\n",
       "  </tbody>\n",
       "</table>\n",
       "</div>"
      ],
      "text/plain": [
       "           City   Latitude   Longitude\n",
       "0       Bangkok  13.753893  100.816080\n",
       "1        London  51.507322   -0.127647\n",
       "2         Paris  48.856610    2.351499\n",
       "3         Dubai  25.075010   55.188761\n",
       "4     Singapore   1.340853  103.878447\n",
       "5      New York  40.730862  -73.987156\n",
       "6  Kuala Lumpur   3.151664  101.694303\n",
       "7         Tokyo  35.682839  139.759455\n",
       "8      Istanbul  41.009633   28.965165\n",
       "9         Seoul  37.566679  126.978291"
      ]
     },
     "execution_count": 119,
     "metadata": {},
     "output_type": "execute_result"
    }
   ],
   "source": [
    "geodata1 = get_lonlats(top_cities['City'])\n",
    "geodata1"
   ]
  },
  {
   "cell_type": "code",
   "execution_count": 120,
   "metadata": {
    "scrolled": true
   },
   "outputs": [
    {
     "name": "stdout",
     "output_type": "stream",
     "text": [
      "[ MAP KEY ]\n",
      "CYAN: Most Visited, Moderate Spend Per Day, Average Length Of Stay\n",
      "BLUE: Cities with Longest Stay, Low Spend Per Day, Average Visitor Count\n",
      "YELLOW: Cities with Highest Spending, Short Length of Stay, Average Visitor Count\n",
      "GREEN: Least Visited, Average Length of Stay\n",
      "RED: Cities with Above-Moderate Spend Per Day, but not the most Expensive\n",
      "\n"
     ]
    },
    {
     "data": {
      "text/html": [
       "<div style=\"width:100%;\"><div style=\"position:relative;width:100%;height:0;padding-bottom:60%;\"><iframe src=\"data:text/html;charset=utf-8;base64,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\" style=\"position:absolute;width:100%;height:100%;left:0;top:0;border:none !important;\" allowfullscreen webkitallowfullscreen mozallowfullscreen></iframe></div></div>"
      ],
      "text/plain": [
       "<folium.folium.Map at 0x1dd280ef8d0>"
      ]
     },
     "execution_count": 120,
     "metadata": {},
     "output_type": "execute_result"
    }
   ],
   "source": [
    "map_df1 = geodata1\n",
    "map_df1['ClusterLabels'] = top_cities_clust['ClusterLabels']\n",
    "\n",
    "#create folium map using map_folium function\n",
    "# function guide:   map_folium(dataframe, loc = [-8.7832, 34.5085], clus_dict = cluster_dict)\n",
    "map1 = map_folium(map_df1, clus_dict=cluster_dict, circle_radius=6)\n",
    "print(map1['mapkey'])\n",
    "map1['map']"
   ]
  },
  {
   "cell_type": "markdown",
   "metadata": {},
   "source": [
    "<h4>Filtering out foursquare categories that are linked to tourism. This was manually compiled."
   ]
  },
  {
   "cell_type": "code",
   "execution_count": 121,
   "metadata": {},
   "outputs": [],
   "source": [
    "category_dict = {'Arts & Entertainment':'4d4b7104d754a06370d81259', 'Food':'4d4b7105d754a06374d81259', \n",
    " 'Nightlife & Spot':'4d4b7105d754a06376d81259', 'Outdoors & Recreation':'4d4b7105d754a06377d81259', \n",
    " 'Shop & Service':'4d4b7105d754a06378d81259','Hotel':'4bf58dd8d48988d1fa931735',\n",
    " 'Transportation Service':'54541b70498ea6ccd0204bff', 'Travel Lounge':'4f04b25d2fb6e1c99f3db0c0',\n",
    "'Rental Car Location':'4bf58dd8d48988d1ef941735','Rest Area':'4d954b16a243a5684b65b473',\n",
    " 'Food & Drink Shop':'4bf58dd8d48988d1f9941735', 'ATM':'52f2ab2ebcbc57f1066b8b56', \n",
    " 'Adult Boutique':'5267e446e4b0ec79466e48c4', 'Antique Shop':'4bf58dd8d48988d116951735',\n",
    " 'Arts & Crafts Store':'4bf58dd8d48988d127951735','Bank':'4bf58dd8d48988d10a951735',\n",
    " 'Business Service':'5453de49498eade8af355881','Candy Store':'4bf58dd8d48988d117951735',\n",
    " 'Chocolate Shop':'52f2ab2ebcbc57f1066b8b31','Clothing Store':'4bf58dd8d48988d103951735',\n",
    " 'Convenience Store':'4d954b0ea243a5684a65b473','Cosmetics Shop':'4bf58dd8d48988d10c951735',\n",
    " 'Costume Shop':'52f2ab2ebcbc57f1066b8b17', 'Discount Store':'52dea92d3cf9994f4e043dbb',\n",
    " 'Electronics Store':'4bf58dd8d48988d122951735','Entertainment Service':'56aa371be4b08b9a8d573554',\n",
    " 'Event Service':'5454152e498ef71e2b9132c6','Fabric Shop':'52f2ab2ebcbc57f1066b8b26',\n",
    " 'Film Studio':'56aa371be4b08b9a8d573523','Gaming Cafe':'4bf58dd8d48988d18d941735',\n",
    " 'Gift Shop':'4bf58dd8d48988d128951735', 'Massage Studio':'52f2ab2ebcbc57f1066b8b3c',\n",
    " 'Outdoor Supply Store':'52f2ab2ebcbc57f1066b8b22','Outlet Mall':'5744ccdfe4b0c0459246b4df',\n",
    " 'Outlet Store':'52f2ab2ebcbc57f1066b8b35','Pop-Up Shop':'52f2ab2ebcbc57f1066b8b3d',\n",
    " 'Shopping Mall':'4bf58dd8d48988d1fd941735','Shopping Plaza':'5744ccdfe4b0c0459246b4dc',\n",
    " 'Smoothie Shop':'52f2ab2ebcbc57f1066b8b41','Souvenir Shop':'52f2ab2ebcbc57f1066b8b1b',\n",
    " 'Spa':'4bf58dd8d48988d1ed941735','Thrift / Vintage Store':'4bf58dd8d48988d101951735',\n",
    " 'Travel & Transport':'4d4b7105d754a06379d81259'}"
   ]
  },
  {
   "cell_type": "code",
   "execution_count": 122,
   "metadata": {
    "scrolled": true
   },
   "outputs": [
    {
     "data": {
      "text/plain": [
       "'4d4b7104d754a06370d81259,4d4b7105d754a06374d81259,4d4b7105d754a06376d81259,4d4b7105d754a06377d81259,4d4b7105d754a06378d81259,4bf58dd8d48988d1fa931735,54541b70498ea6ccd0204bff,4f04b25d2fb6e1c99f3db0c0,4bf58dd8d48988d1ef941735,4d954b16a243a5684b65b473,4bf58dd8d48988d1f9941735,52f2ab2ebcbc57f1066b8b56,5267e446e4b0ec79466e48c4,4bf58dd8d48988d116951735,4bf58dd8d48988d127951735,4bf58dd8d48988d10a951735,5453de49498eade8af355881,4bf58dd8d48988d117951735,52f2ab2ebcbc57f1066b8b31,4bf58dd8d48988d103951735,4d954b0ea243a5684a65b473,4bf58dd8d48988d10c951735,52f2ab2ebcbc57f1066b8b17,52dea92d3cf9994f4e043dbb,4bf58dd8d48988d122951735,56aa371be4b08b9a8d573554,5454152e498ef71e2b9132c6,52f2ab2ebcbc57f1066b8b26,56aa371be4b08b9a8d573523,4bf58dd8d48988d18d941735,4bf58dd8d48988d128951735,52f2ab2ebcbc57f1066b8b3c,52f2ab2ebcbc57f1066b8b22,5744ccdfe4b0c0459246b4df,52f2ab2ebcbc57f1066b8b35,52f2ab2ebcbc57f1066b8b3d,4bf58dd8d48988d1fd941735,5744ccdfe4b0c0459246b4dc,52f2ab2ebcbc57f1066b8b41,52f2ab2ebcbc57f1066b8b1b,4bf58dd8d48988d1ed941735,4bf58dd8d48988d101951735,4d4b7105d754a06379d81259'"
      ]
     },
     "execution_count": 122,
     "metadata": {},
     "output_type": "execute_result"
    }
   ],
   "source": [
    "cat_codes = ''\n",
    "\n",
    "for key in category_dict:\n",
    "    if cat_codes=='':\n",
    "        cat_codes=category_dict[key]\n",
    "    else:   \n",
    "        cat_codes += ',{}'.format(category_dict[key])\n",
    "    \n",
    "cat_codes"
   ]
  },
  {
   "cell_type": "markdown",
   "metadata": {},
   "source": [
    "<h4>Using filtered venue categories to query tourism related venues and services"
   ]
  },
  {
   "cell_type": "code",
   "execution_count": 123,
   "metadata": {},
   "outputs": [
    {
     "data": {
      "text/plain": [
       "[['Bangkok',\n",
       "  13.7538929,\n",
       "  100.8160803,\n",
       "  2,\n",
       "  'ARL Latkrabang (A2) (ARL ลาดกระบัง)',\n",
       "  13.727637765326877,\n",
       "  100.74840786863355,\n",
       "  'Train Station',\n",
       "  '4bf58dd8d48988d129951735'],\n",
       " ['Bangkok',\n",
       "  13.7538929,\n",
       "  100.8160803,\n",
       "  2,\n",
       "  'KMITL Walking Street (สถานีคนเดิน พระจอมเกล้าฯลาดกระบัง (KMITL Walking Street))',\n",
       "  13.728510044750138,\n",
       "  100.77324827367164,\n",
       "  'Pedestrian Plaza',\n",
       "  '52e81612bcbc57f1066b7a25'],\n",
       " ['Bangkok',\n",
       "  13.7538929,\n",
       "  100.8160803,\n",
       "  2,\n",
       "  '7-Eleven (เซเว่นอีเลฟเว่น)',\n",
       "  13.721814209007494,\n",
       "  100.7837718740407,\n",
       "  'Convenience Store',\n",
       "  '4d954b0ea243a5684a65b473'],\n",
       " ['Bangkok',\n",
       "  13.7538929,\n",
       "  100.8160803,\n",
       "  2,\n",
       "  'OPC - Cabin Crew Lounge',\n",
       "  13.710236711801459,\n",
       "  100.75804146514126,\n",
       "  'Travel Lounge',\n",
       "  '4f04b25d2fb6e1c99f3db0c0'],\n",
       " ['Bangkok',\n",
       "  13.7538929,\n",
       "  100.8160803,\n",
       "  2,\n",
       "  'โรงอาหารตึก A',\n",
       "  13.72689281698952,\n",
       "  100.77572290441331,\n",
       "  'Thai Restaurant',\n",
       "  '4bf58dd8d48988d149941735'],\n",
       " ['Bangkok',\n",
       "  13.7538929,\n",
       "  100.8160803,\n",
       "  2,\n",
       "  'ปตท. (PTT) (ปตท.)',\n",
       "  13.749187518929062,\n",
       "  100.7458022685307,\n",
       "  'Gas Station',\n",
       "  '4bf58dd8d48988d113951735'],\n",
       " ['Bangkok',\n",
       "  13.7538929,\n",
       "  100.8160803,\n",
       "  2,\n",
       "  '7-Eleven (เซเว่น อีเลฟเว่น)',\n",
       "  13.72774131125185,\n",
       "  100.76482349516834,\n",
       "  'Convenience Store',\n",
       "  '4d954b0ea243a5684a65b473'],\n",
       " ['Bangkok',\n",
       "  13.7538929,\n",
       "  100.8160803,\n",
       "  2,\n",
       "  'PTT NGV/Petrol Station (ปตท.)',\n",
       "  13.70805999272167,\n",
       "  100.76974050404422,\n",
       "  'Gas Station',\n",
       "  '4bf58dd8d48988d113951735'],\n",
       " ['Bangkok',\n",
       "  13.7538929,\n",
       "  100.8160803,\n",
       "  2,\n",
       "  'Bridge Bar • City',\n",
       "  13.720704437881947,\n",
       "  100.77123730345765,\n",
       "  'Bar',\n",
       "  '4bf58dd8d48988d116941735'],\n",
       " ['Bangkok',\n",
       "  13.7538929,\n",
       "  100.8160803,\n",
       "  2,\n",
       "  'Tops Super (ท็อปส์ ซูเปอร์)',\n",
       "  13.722319966582432,\n",
       "  100.78077383851199,\n",
       "  'Supermarket',\n",
       "  '52f2ab2ebcbc57f1066b8b46']]"
      ]
     },
     "execution_count": 123,
     "metadata": {},
     "output_type": "execute_result"
    }
   ],
   "source": [
    "top_cities_fsq=nearby_services(geo_data=geodata1, CATEGORYID=cat_codes)\n",
    "\n",
    "top_cities_fsq['venues'][0:10]"
   ]
  },
  {
   "cell_type": "code",
   "execution_count": 124,
   "metadata": {},
   "outputs": [],
   "source": [
    "csv_df = pd.DataFrame(top_cities_fsq['venues'])\n",
    "csv_df.to_csv('VenuesCities2.csv')"
   ]
  },
  {
   "cell_type": "code",
   "execution_count": 125,
   "metadata": {},
   "outputs": [
    {
     "name": "stdout",
     "output_type": "stream",
     "text": [
      "500\n"
     ]
    },
    {
     "data": {
      "text/html": [
       "<div>\n",
       "<style scoped>\n",
       "    .dataframe tbody tr th:only-of-type {\n",
       "        vertical-align: middle;\n",
       "    }\n",
       "\n",
       "    .dataframe tbody tr th {\n",
       "        vertical-align: top;\n",
       "    }\n",
       "\n",
       "    .dataframe thead th {\n",
       "        text-align: right;\n",
       "    }\n",
       "</style>\n",
       "<table border=\"1\" class=\"dataframe\">\n",
       "  <thead>\n",
       "    <tr style=\"text-align: right;\">\n",
       "      <th></th>\n",
       "      <th>0</th>\n",
       "      <th>1</th>\n",
       "      <th>2</th>\n",
       "      <th>3</th>\n",
       "      <th>4</th>\n",
       "      <th>5</th>\n",
       "      <th>6</th>\n",
       "      <th>7</th>\n",
       "      <th>8</th>\n",
       "    </tr>\n",
       "  </thead>\n",
       "  <tbody>\n",
       "    <tr>\n",
       "      <th>0</th>\n",
       "      <td>Bangkok</td>\n",
       "      <td>13.753893</td>\n",
       "      <td>100.81608</td>\n",
       "      <td>2</td>\n",
       "      <td>ARL Latkrabang (A2) (ARL ลาดกระบัง)</td>\n",
       "      <td>13.727638</td>\n",
       "      <td>100.748408</td>\n",
       "      <td>Train Station</td>\n",
       "      <td>4bf58dd8d48988d129951735</td>\n",
       "    </tr>\n",
       "    <tr>\n",
       "      <th>1</th>\n",
       "      <td>Bangkok</td>\n",
       "      <td>13.753893</td>\n",
       "      <td>100.81608</td>\n",
       "      <td>2</td>\n",
       "      <td>KMITL Walking Street (สถานีคนเดิน พระจอมเกล้าฯ...</td>\n",
       "      <td>13.728510</td>\n",
       "      <td>100.773248</td>\n",
       "      <td>Pedestrian Plaza</td>\n",
       "      <td>52e81612bcbc57f1066b7a25</td>\n",
       "    </tr>\n",
       "    <tr>\n",
       "      <th>2</th>\n",
       "      <td>Bangkok</td>\n",
       "      <td>13.753893</td>\n",
       "      <td>100.81608</td>\n",
       "      <td>2</td>\n",
       "      <td>7-Eleven (เซเว่นอีเลฟเว่น)</td>\n",
       "      <td>13.721814</td>\n",
       "      <td>100.783772</td>\n",
       "      <td>Convenience Store</td>\n",
       "      <td>4d954b0ea243a5684a65b473</td>\n",
       "    </tr>\n",
       "    <tr>\n",
       "      <th>3</th>\n",
       "      <td>Bangkok</td>\n",
       "      <td>13.753893</td>\n",
       "      <td>100.81608</td>\n",
       "      <td>2</td>\n",
       "      <td>OPC - Cabin Crew Lounge</td>\n",
       "      <td>13.710237</td>\n",
       "      <td>100.758041</td>\n",
       "      <td>Travel Lounge</td>\n",
       "      <td>4f04b25d2fb6e1c99f3db0c0</td>\n",
       "    </tr>\n",
       "    <tr>\n",
       "      <th>4</th>\n",
       "      <td>Bangkok</td>\n",
       "      <td>13.753893</td>\n",
       "      <td>100.81608</td>\n",
       "      <td>2</td>\n",
       "      <td>โรงอาหารตึก A</td>\n",
       "      <td>13.726893</td>\n",
       "      <td>100.775723</td>\n",
       "      <td>Thai Restaurant</td>\n",
       "      <td>4bf58dd8d48988d149941735</td>\n",
       "    </tr>\n",
       "  </tbody>\n",
       "</table>\n",
       "</div>"
      ],
      "text/plain": [
       "         0          1          2  3  \\\n",
       "0  Bangkok  13.753893  100.81608  2   \n",
       "1  Bangkok  13.753893  100.81608  2   \n",
       "2  Bangkok  13.753893  100.81608  2   \n",
       "3  Bangkok  13.753893  100.81608  2   \n",
       "4  Bangkok  13.753893  100.81608  2   \n",
       "\n",
       "                                                   4          5           6  \\\n",
       "0                ARL Latkrabang (A2) (ARL ลาดกระบัง)  13.727638  100.748408   \n",
       "1  KMITL Walking Street (สถานีคนเดิน พระจอมเกล้าฯ...  13.728510  100.773248   \n",
       "2                         7-Eleven (เซเว่นอีเลฟเว่น)  13.721814  100.783772   \n",
       "3                            OPC - Cabin Crew Lounge  13.710237  100.758041   \n",
       "4                                      โรงอาหารตึก A  13.726893  100.775723   \n",
       "\n",
       "                   7                         8  \n",
       "0      Train Station  4bf58dd8d48988d129951735  \n",
       "1   Pedestrian Plaza  52e81612bcbc57f1066b7a25  \n",
       "2  Convenience Store  4d954b0ea243a5684a65b473  \n",
       "3      Travel Lounge  4f04b25d2fb6e1c99f3db0c0  \n",
       "4    Thai Restaurant  4bf58dd8d48988d149941735  "
      ]
     },
     "execution_count": 125,
     "metadata": {},
     "output_type": "execute_result"
    }
   ],
   "source": [
    "fsq_cities_df=pd.DataFrame(top_cities_fsq['venues'])\n",
    "print(len(top_cities_fsq['venues']))\n",
    "fsq_cities_df.head()"
   ]
  },
  {
   "cell_type": "markdown",
   "metadata": {},
   "source": [
    "<h4> Categorising venue categories into hospitality sectors"
   ]
  },
  {
   "cell_type": "markdown",
   "metadata": {},
   "source": [
    "Changing 'Café' to Cafee for easy replacement. 'é' might be a challenge"
   ]
  },
  {
   "cell_type": "code",
   "execution_count": 126,
   "metadata": {},
   "outputs": [
    {
     "data": {
      "text/html": [
       "<div>\n",
       "<style scoped>\n",
       "    .dataframe tbody tr th:only-of-type {\n",
       "        vertical-align: middle;\n",
       "    }\n",
       "\n",
       "    .dataframe tbody tr th {\n",
       "        vertical-align: top;\n",
       "    }\n",
       "\n",
       "    .dataframe thead th {\n",
       "        text-align: right;\n",
       "    }\n",
       "</style>\n",
       "<table border=\"1\" class=\"dataframe\">\n",
       "  <thead>\n",
       "    <tr style=\"text-align: right;\">\n",
       "      <th></th>\n",
       "      <th>0</th>\n",
       "      <th>1</th>\n",
       "      <th>2</th>\n",
       "      <th>3</th>\n",
       "      <th>4</th>\n",
       "      <th>5</th>\n",
       "      <th>6</th>\n",
       "      <th>7</th>\n",
       "      <th>8</th>\n",
       "    </tr>\n",
       "  </thead>\n",
       "  <tbody>\n",
       "    <tr>\n",
       "      <th>20</th>\n",
       "      <td>Bangkok</td>\n",
       "      <td>13.753893</td>\n",
       "      <td>100.816080</td>\n",
       "      <td>2</td>\n",
       "      <td>Brown Beary Café (บราวน์แบร์รี่คาเฟ่)</td>\n",
       "      <td>13.731069</td>\n",
       "      <td>100.781748</td>\n",
       "      <td>Cafee</td>\n",
       "      <td>4bf58dd8d48988d16d941735</td>\n",
       "    </tr>\n",
       "    <tr>\n",
       "      <th>36</th>\n",
       "      <td>Bangkok</td>\n",
       "      <td>13.753893</td>\n",
       "      <td>100.816080</td>\n",
       "      <td>2</td>\n",
       "      <td>Timber Cafe'</td>\n",
       "      <td>13.727143</td>\n",
       "      <td>100.765975</td>\n",
       "      <td>Cafee</td>\n",
       "      <td>4bf58dd8d48988d16d941735</td>\n",
       "    </tr>\n",
       "    <tr>\n",
       "      <th>42</th>\n",
       "      <td>Bangkok</td>\n",
       "      <td>13.753893</td>\n",
       "      <td>100.816080</td>\n",
       "      <td>2</td>\n",
       "      <td>ป้านาง คาเฟ่</td>\n",
       "      <td>13.725339</td>\n",
       "      <td>100.773728</td>\n",
       "      <td>Cafee</td>\n",
       "      <td>4bf58dd8d48988d16d941735</td>\n",
       "    </tr>\n",
       "    <tr>\n",
       "      <th>62</th>\n",
       "      <td>London</td>\n",
       "      <td>51.507322</td>\n",
       "      <td>-0.127647</td>\n",
       "      <td>2</td>\n",
       "      <td>EL&amp;N</td>\n",
       "      <td>51.496728</td>\n",
       "      <td>-0.168652</td>\n",
       "      <td>Cafee</td>\n",
       "      <td>4bf58dd8d48988d16d941735</td>\n",
       "    </tr>\n",
       "    <tr>\n",
       "      <th>64</th>\n",
       "      <td>London</td>\n",
       "      <td>51.507322</td>\n",
       "      <td>-0.127647</td>\n",
       "      <td>2</td>\n",
       "      <td>EL&amp;N</td>\n",
       "      <td>51.514300</td>\n",
       "      <td>-0.151598</td>\n",
       "      <td>Cafee</td>\n",
       "      <td>4bf58dd8d48988d16d941735</td>\n",
       "    </tr>\n",
       "    <tr>\n",
       "      <th>69</th>\n",
       "      <td>London</td>\n",
       "      <td>51.507322</td>\n",
       "      <td>-0.127647</td>\n",
       "      <td>2</td>\n",
       "      <td>L'ETO Caffè</td>\n",
       "      <td>51.496661</td>\n",
       "      <td>-0.168792</td>\n",
       "      <td>Cafee</td>\n",
       "      <td>4bf58dd8d48988d16d941735</td>\n",
       "    </tr>\n",
       "    <tr>\n",
       "      <th>85</th>\n",
       "      <td>London</td>\n",
       "      <td>51.507322</td>\n",
       "      <td>-0.127647</td>\n",
       "      <td>2</td>\n",
       "      <td>EL&amp;N</td>\n",
       "      <td>51.499647</td>\n",
       "      <td>-0.162241</td>\n",
       "      <td>Cafee</td>\n",
       "      <td>4bf58dd8d48988d16d941735</td>\n",
       "    </tr>\n",
       "    <tr>\n",
       "      <th>99</th>\n",
       "      <td>London</td>\n",
       "      <td>51.507322</td>\n",
       "      <td>-0.127647</td>\n",
       "      <td>2</td>\n",
       "      <td>The Coffee Bar</td>\n",
       "      <td>51.499171</td>\n",
       "      <td>-0.162803</td>\n",
       "      <td>Cafee</td>\n",
       "      <td>4bf58dd8d48988d16d941735</td>\n",
       "    </tr>\n",
       "    <tr>\n",
       "      <th>131</th>\n",
       "      <td>Paris</td>\n",
       "      <td>48.856610</td>\n",
       "      <td>2.351499</td>\n",
       "      <td>0</td>\n",
       "      <td>86 Champs (L'Occitane x Pierre Hermé)</td>\n",
       "      <td>48.871514</td>\n",
       "      <td>2.303698</td>\n",
       "      <td>Cafee</td>\n",
       "      <td>4bf58dd8d48988d16d941735</td>\n",
       "    </tr>\n",
       "    <tr>\n",
       "      <th>157</th>\n",
       "      <td>Dubai</td>\n",
       "      <td>25.075010</td>\n",
       "      <td>55.188761</td>\n",
       "      <td>3</td>\n",
       "      <td>Yalseh</td>\n",
       "      <td>25.076143</td>\n",
       "      <td>55.130304</td>\n",
       "      <td>Cafee</td>\n",
       "      <td>4bf58dd8d48988d16d941735</td>\n",
       "    </tr>\n",
       "    <tr>\n",
       "      <th>448</th>\n",
       "      <td>Istanbul</td>\n",
       "      <td>41.009633</td>\n",
       "      <td>28.965165</td>\n",
       "      <td>1</td>\n",
       "      <td>Burj Cafe</td>\n",
       "      <td>40.971052</td>\n",
       "      <td>29.038898</td>\n",
       "      <td>Cafee</td>\n",
       "      <td>4bf58dd8d48988d16d941735</td>\n",
       "    </tr>\n",
       "  </tbody>\n",
       "</table>\n",
       "</div>"
      ],
      "text/plain": [
       "            0          1           2  3  \\\n",
       "20    Bangkok  13.753893  100.816080  2   \n",
       "36    Bangkok  13.753893  100.816080  2   \n",
       "42    Bangkok  13.753893  100.816080  2   \n",
       "62     London  51.507322   -0.127647  2   \n",
       "64     London  51.507322   -0.127647  2   \n",
       "69     London  51.507322   -0.127647  2   \n",
       "85     London  51.507322   -0.127647  2   \n",
       "99     London  51.507322   -0.127647  2   \n",
       "131     Paris  48.856610    2.351499  0   \n",
       "157     Dubai  25.075010   55.188761  3   \n",
       "448  Istanbul  41.009633   28.965165  1   \n",
       "\n",
       "                                         4          5           6      7  \\\n",
       "20   Brown Beary Café (บราวน์แบร์รี่คาเฟ่)  13.731069  100.781748  Cafee   \n",
       "36                            Timber Cafe'  13.727143  100.765975  Cafee   \n",
       "42                            ป้านาง คาเฟ่  13.725339  100.773728  Cafee   \n",
       "62                                    EL&N  51.496728   -0.168652  Cafee   \n",
       "64                                    EL&N  51.514300   -0.151598  Cafee   \n",
       "69                             L'ETO Caffè  51.496661   -0.168792  Cafee   \n",
       "85                                    EL&N  51.499647   -0.162241  Cafee   \n",
       "99                          The Coffee Bar  51.499171   -0.162803  Cafee   \n",
       "131  86 Champs (L'Occitane x Pierre Hermé)  48.871514    2.303698  Cafee   \n",
       "157                                 Yalseh  25.076143   55.130304  Cafee   \n",
       "448                              Burj Cafe  40.971052   29.038898  Cafee   \n",
       "\n",
       "                            8  \n",
       "20   4bf58dd8d48988d16d941735  \n",
       "36   4bf58dd8d48988d16d941735  \n",
       "42   4bf58dd8d48988d16d941735  \n",
       "62   4bf58dd8d48988d16d941735  \n",
       "64   4bf58dd8d48988d16d941735  \n",
       "69   4bf58dd8d48988d16d941735  \n",
       "85   4bf58dd8d48988d16d941735  \n",
       "99   4bf58dd8d48988d16d941735  \n",
       "131  4bf58dd8d48988d16d941735  \n",
       "157  4bf58dd8d48988d16d941735  \n",
       "448  4bf58dd8d48988d16d941735  "
      ]
     },
     "execution_count": 126,
     "metadata": {},
     "output_type": "execute_result"
    }
   ],
   "source": [
    "fsq_cities_df.loc[fsq_cities_df[7] == 'Café', 7] = 'Cafee'\n",
    "fsq_cities_df.loc[fsq_cities_df[7] == 'Cafee']"
   ]
  },
  {
   "cell_type": "markdown",
   "metadata": {},
   "source": [
    "Replacing venue categories with Sectors"
   ]
  },
  {
   "cell_type": "code",
   "execution_count": 127,
   "metadata": {},
   "outputs": [
    {
     "name": "stdout",
     "output_type": "stream",
     "text": [
      "['Transport', 'Recreation', 'Shopping', 'Transport', 'Food', 'Not Hospitality', 'Shopping', 'Not Hospitality', 'Food', 'Shopping', 'Recreation', 'Food', 'Recreation', 'Shopping', 'Shopping', 'Not Hospitality', 'Food', 'Shopping', 'Shopping', 'Food', 'Food', 'Food', 'Shopping', 'Food', 'Food', 'Not Hospitality', 'Food', 'Shopping', 'Shopping', 'Food']\n"
     ]
    }
   ],
   "source": [
    "#open created category - sector guide csv\n",
    "#based on foursquare categories\n",
    "\n",
    "#open csv\n",
    "with open('top_categories2.csv', 'r') as tc:\n",
    "    topc = tc.readlines()\n",
    "    \n",
    "topc.pop(0) #delete headers\n",
    "\n",
    "#create key-value pairs for venue categories and corresponding sectors\n",
    "topc_dict = {category.strip():sector.strip() for category, sector in [row.split(',') for row in topc]}\n",
    "\n",
    "#get corresponding sectors of venue categories in foursquare dataframe into list to be appended to table\n",
    "sector_list = []\n",
    "for item in fsq_cities_df[7]:\n",
    "    sector_list.append(topc_dict[item])\n",
    "    \n",
    "print(sector_list[0:30])"
   ]
  },
  {
   "cell_type": "markdown",
   "metadata": {},
   "source": [
    "<h4> Adding Sector List"
   ]
  },
  {
   "cell_type": "code",
   "execution_count": 128,
   "metadata": {},
   "outputs": [
    {
     "data": {
      "text/html": [
       "<div>\n",
       "<style scoped>\n",
       "    .dataframe tbody tr th:only-of-type {\n",
       "        vertical-align: middle;\n",
       "    }\n",
       "\n",
       "    .dataframe tbody tr th {\n",
       "        vertical-align: top;\n",
       "    }\n",
       "\n",
       "    .dataframe thead th {\n",
       "        text-align: right;\n",
       "    }\n",
       "</style>\n",
       "<table border=\"1\" class=\"dataframe\">\n",
       "  <thead>\n",
       "    <tr style=\"text-align: right;\">\n",
       "      <th></th>\n",
       "      <th>0</th>\n",
       "      <th>1</th>\n",
       "      <th>2</th>\n",
       "      <th>3</th>\n",
       "      <th>4</th>\n",
       "      <th>5</th>\n",
       "      <th>6</th>\n",
       "      <th>7</th>\n",
       "      <th>8</th>\n",
       "      <th>9</th>\n",
       "    </tr>\n",
       "  </thead>\n",
       "  <tbody>\n",
       "    <tr>\n",
       "      <th>0</th>\n",
       "      <td>Bangkok</td>\n",
       "      <td>13.753893</td>\n",
       "      <td>100.81608</td>\n",
       "      <td>2</td>\n",
       "      <td>ARL Latkrabang (A2) (ARL ลาดกระบัง)</td>\n",
       "      <td>13.727638</td>\n",
       "      <td>100.748408</td>\n",
       "      <td>Train Station</td>\n",
       "      <td>4bf58dd8d48988d129951735</td>\n",
       "      <td>Transport</td>\n",
       "    </tr>\n",
       "    <tr>\n",
       "      <th>1</th>\n",
       "      <td>Bangkok</td>\n",
       "      <td>13.753893</td>\n",
       "      <td>100.81608</td>\n",
       "      <td>2</td>\n",
       "      <td>KMITL Walking Street (สถานีคนเดิน พระจอมเกล้าฯ...</td>\n",
       "      <td>13.728510</td>\n",
       "      <td>100.773248</td>\n",
       "      <td>Pedestrian Plaza</td>\n",
       "      <td>52e81612bcbc57f1066b7a25</td>\n",
       "      <td>Recreation</td>\n",
       "    </tr>\n",
       "    <tr>\n",
       "      <th>2</th>\n",
       "      <td>Bangkok</td>\n",
       "      <td>13.753893</td>\n",
       "      <td>100.81608</td>\n",
       "      <td>2</td>\n",
       "      <td>7-Eleven (เซเว่นอีเลฟเว่น)</td>\n",
       "      <td>13.721814</td>\n",
       "      <td>100.783772</td>\n",
       "      <td>Convenience Store</td>\n",
       "      <td>4d954b0ea243a5684a65b473</td>\n",
       "      <td>Shopping</td>\n",
       "    </tr>\n",
       "    <tr>\n",
       "      <th>3</th>\n",
       "      <td>Bangkok</td>\n",
       "      <td>13.753893</td>\n",
       "      <td>100.81608</td>\n",
       "      <td>2</td>\n",
       "      <td>OPC - Cabin Crew Lounge</td>\n",
       "      <td>13.710237</td>\n",
       "      <td>100.758041</td>\n",
       "      <td>Travel Lounge</td>\n",
       "      <td>4f04b25d2fb6e1c99f3db0c0</td>\n",
       "      <td>Transport</td>\n",
       "    </tr>\n",
       "    <tr>\n",
       "      <th>4</th>\n",
       "      <td>Bangkok</td>\n",
       "      <td>13.753893</td>\n",
       "      <td>100.81608</td>\n",
       "      <td>2</td>\n",
       "      <td>โรงอาหารตึก A</td>\n",
       "      <td>13.726893</td>\n",
       "      <td>100.775723</td>\n",
       "      <td>Thai Restaurant</td>\n",
       "      <td>4bf58dd8d48988d149941735</td>\n",
       "      <td>Food</td>\n",
       "    </tr>\n",
       "  </tbody>\n",
       "</table>\n",
       "</div>"
      ],
      "text/plain": [
       "         0          1          2  3  \\\n",
       "0  Bangkok  13.753893  100.81608  2   \n",
       "1  Bangkok  13.753893  100.81608  2   \n",
       "2  Bangkok  13.753893  100.81608  2   \n",
       "3  Bangkok  13.753893  100.81608  2   \n",
       "4  Bangkok  13.753893  100.81608  2   \n",
       "\n",
       "                                                   4          5           6  \\\n",
       "0                ARL Latkrabang (A2) (ARL ลาดกระบัง)  13.727638  100.748408   \n",
       "1  KMITL Walking Street (สถานีคนเดิน พระจอมเกล้าฯ...  13.728510  100.773248   \n",
       "2                         7-Eleven (เซเว่นอีเลฟเว่น)  13.721814  100.783772   \n",
       "3                            OPC - Cabin Crew Lounge  13.710237  100.758041   \n",
       "4                                      โรงอาหารตึก A  13.726893  100.775723   \n",
       "\n",
       "                   7                         8           9  \n",
       "0      Train Station  4bf58dd8d48988d129951735   Transport  \n",
       "1   Pedestrian Plaza  52e81612bcbc57f1066b7a25  Recreation  \n",
       "2  Convenience Store  4d954b0ea243a5684a65b473    Shopping  \n",
       "3      Travel Lounge  4f04b25d2fb6e1c99f3db0c0   Transport  \n",
       "4    Thai Restaurant  4bf58dd8d48988d149941735        Food  "
      ]
     },
     "execution_count": 128,
     "metadata": {},
     "output_type": "execute_result"
    }
   ],
   "source": [
    "fsq_cities_df[len(fsq_cities_df.columns)] = sector_list\n",
    "fsq_cities_df.head()"
   ]
  },
  {
   "cell_type": "markdown",
   "metadata": {},
   "source": [
    "<h4> Spreading out Sectors</h4>\n",
    "\n",
    "Applying one-hot and grouping by the cities' means for each sector"
   ]
  },
  {
   "cell_type": "code",
   "execution_count": 129,
   "metadata": {},
   "outputs": [
    {
     "data": {
      "text/html": [
       "<div>\n",
       "<style scoped>\n",
       "    .dataframe tbody tr th:only-of-type {\n",
       "        vertical-align: middle;\n",
       "    }\n",
       "\n",
       "    .dataframe tbody tr th {\n",
       "        vertical-align: top;\n",
       "    }\n",
       "\n",
       "    .dataframe thead th {\n",
       "        text-align: right;\n",
       "    }\n",
       "</style>\n",
       "<table border=\"1\" class=\"dataframe\">\n",
       "  <thead>\n",
       "    <tr style=\"text-align: right;\">\n",
       "      <th></th>\n",
       "      <th>City</th>\n",
       "      <th>Food</th>\n",
       "      <th>Lodging</th>\n",
       "      <th>Not Hospitality</th>\n",
       "      <th>Recreation</th>\n",
       "      <th>Shopping</th>\n",
       "      <th>Transport</th>\n",
       "    </tr>\n",
       "  </thead>\n",
       "  <tbody>\n",
       "    <tr>\n",
       "      <th>0</th>\n",
       "      <td>Bangkok</td>\n",
       "      <td>0.42</td>\n",
       "      <td>0.00</td>\n",
       "      <td>0.14</td>\n",
       "      <td>0.08</td>\n",
       "      <td>0.30</td>\n",
       "      <td>0.06</td>\n",
       "    </tr>\n",
       "    <tr>\n",
       "      <th>1</th>\n",
       "      <td>Dubai</td>\n",
       "      <td>0.28</td>\n",
       "      <td>0.10</td>\n",
       "      <td>0.10</td>\n",
       "      <td>0.26</td>\n",
       "      <td>0.18</td>\n",
       "      <td>0.08</td>\n",
       "    </tr>\n",
       "    <tr>\n",
       "      <th>2</th>\n",
       "      <td>Istanbul</td>\n",
       "      <td>0.14</td>\n",
       "      <td>0.00</td>\n",
       "      <td>0.30</td>\n",
       "      <td>0.40</td>\n",
       "      <td>0.12</td>\n",
       "      <td>0.04</td>\n",
       "    </tr>\n",
       "    <tr>\n",
       "      <th>3</th>\n",
       "      <td>Kuala Lumpur</td>\n",
       "      <td>0.22</td>\n",
       "      <td>0.00</td>\n",
       "      <td>0.10</td>\n",
       "      <td>0.12</td>\n",
       "      <td>0.30</td>\n",
       "      <td>0.26</td>\n",
       "    </tr>\n",
       "    <tr>\n",
       "      <th>4</th>\n",
       "      <td>London</td>\n",
       "      <td>0.18</td>\n",
       "      <td>0.04</td>\n",
       "      <td>0.08</td>\n",
       "      <td>0.26</td>\n",
       "      <td>0.12</td>\n",
       "      <td>0.32</td>\n",
       "    </tr>\n",
       "    <tr>\n",
       "      <th>5</th>\n",
       "      <td>New York</td>\n",
       "      <td>0.00</td>\n",
       "      <td>0.00</td>\n",
       "      <td>0.00</td>\n",
       "      <td>0.32</td>\n",
       "      <td>0.12</td>\n",
       "      <td>0.56</td>\n",
       "    </tr>\n",
       "    <tr>\n",
       "      <th>6</th>\n",
       "      <td>Paris</td>\n",
       "      <td>0.10</td>\n",
       "      <td>0.00</td>\n",
       "      <td>0.14</td>\n",
       "      <td>0.48</td>\n",
       "      <td>0.12</td>\n",
       "      <td>0.16</td>\n",
       "    </tr>\n",
       "    <tr>\n",
       "      <th>7</th>\n",
       "      <td>Seoul</td>\n",
       "      <td>0.00</td>\n",
       "      <td>0.00</td>\n",
       "      <td>0.08</td>\n",
       "      <td>0.24</td>\n",
       "      <td>0.16</td>\n",
       "      <td>0.52</td>\n",
       "    </tr>\n",
       "    <tr>\n",
       "      <th>8</th>\n",
       "      <td>Singapore</td>\n",
       "      <td>0.08</td>\n",
       "      <td>0.04</td>\n",
       "      <td>0.08</td>\n",
       "      <td>0.14</td>\n",
       "      <td>0.32</td>\n",
       "      <td>0.34</td>\n",
       "    </tr>\n",
       "    <tr>\n",
       "      <th>9</th>\n",
       "      <td>Tokyo</td>\n",
       "      <td>0.00</td>\n",
       "      <td>0.00</td>\n",
       "      <td>0.04</td>\n",
       "      <td>0.08</td>\n",
       "      <td>0.02</td>\n",
       "      <td>0.86</td>\n",
       "    </tr>\n",
       "  </tbody>\n",
       "</table>\n",
       "</div>"
      ],
      "text/plain": [
       "           City  Food  Lodging  Not Hospitality  Recreation  Shopping  \\\n",
       "0       Bangkok  0.42     0.00             0.14        0.08      0.30   \n",
       "1         Dubai  0.28     0.10             0.10        0.26      0.18   \n",
       "2      Istanbul  0.14     0.00             0.30        0.40      0.12   \n",
       "3  Kuala Lumpur  0.22     0.00             0.10        0.12      0.30   \n",
       "4        London  0.18     0.04             0.08        0.26      0.12   \n",
       "5      New York  0.00     0.00             0.00        0.32      0.12   \n",
       "6         Paris  0.10     0.00             0.14        0.48      0.12   \n",
       "7         Seoul  0.00     0.00             0.08        0.24      0.16   \n",
       "8     Singapore  0.08     0.04             0.08        0.14      0.32   \n",
       "9         Tokyo  0.00     0.00             0.04        0.08      0.02   \n",
       "\n",
       "   Transport  \n",
       "0       0.06  \n",
       "1       0.08  \n",
       "2       0.04  \n",
       "3       0.26  \n",
       "4       0.32  \n",
       "5       0.56  \n",
       "6       0.16  \n",
       "7       0.52  \n",
       "8       0.34  \n",
       "9       0.86  "
      ]
     },
     "execution_count": 129,
     "metadata": {},
     "output_type": "execute_result"
    }
   ],
   "source": [
    "fsq_cities_sectordf = pd.get_dummies(fsq_cities_df[9], prefix='', prefix_sep='')\n",
    "\n",
    "fsq_cities_sectordf['City'] = fsq_cities_df[0]\n",
    "\n",
    "#fsq_cities_df2.head()\n",
    "\n",
    "fsq_cities_sec = fsq_cities_sectordf.groupby('City').mean().reset_index()\n",
    "#fsq_cities_clust = fsq_cities_clust.drop(['Neighborhood', 'County', 'Road', 'State', 'Building', 'Country', 'Town', 'Gas Station'], 1)\n",
    "fsq_cities_sec"
   ]
  },
  {
   "cell_type": "code",
   "execution_count": null,
   "metadata": {},
   "outputs": [],
   "source": []
  },
  {
   "cell_type": "markdown",
   "metadata": {},
   "source": [
    "<h3>Clustering</h3>\n",
    "<p>Clustering cities based on their hospitality sectors</p>\n",
    "\n",
    "<h4>Function to prepare dataframe for cluster</h4>"
   ]
  },
  {
   "cell_type": "code",
   "execution_count": 130,
   "metadata": {
    "scrolled": true
   },
   "outputs": [
    {
     "data": {
      "image/png": "[encoded data removed]",
      "text/plain": [
       "<Figure size 720x432 with 1 Axes>"
      ]
     },
     "metadata": {
      "needs_background": "light"
     },
     "output_type": "display_data"
    }
   ],
   "source": [
    "#cluster sector dataframe using Kmeans function in first section\n",
    "#kmeans function guide:  kmeans_cluster(dataframe, max k)\n",
    "seccluster = kmeans_cluster(fsq_cities_sec.drop(['City'], 1), 11)  \n",
    "\n",
    "#visualize elbow\n",
    "#plt.vlines(6, ymin=8, ymax=14, linestyles='dashed')\n",
    "#plt.annotate('Elbow', [6.1,3.5])"
   ]
  },
  {
   "cell_type": "code",
   "execution_count": 131,
   "metadata": {},
   "outputs": [
    {
     "data": {
      "text/plain": [
       "array([0, 1, 3, 0, 1, 2, 3, 2, 0, 2])"
      ]
     },
     "execution_count": 131,
     "metadata": {},
     "output_type": "execute_result"
    }
   ],
   "source": [
    "best_k = 4  #choose best k\n",
    "\n",
    "#get labels from best K\n",
    "tsclust_labels = seccluster['clabels'][best_k-1] \n",
    "tsclust_labels"
   ]
  },
  {
   "cell_type": "code",
   "execution_count": 132,
   "metadata": {
    "scrolled": true
   },
   "outputs": [
    {
     "data": {
      "text/html": [
       "<div>\n",
       "<style scoped>\n",
       "    .dataframe tbody tr th:only-of-type {\n",
       "        vertical-align: middle;\n",
       "    }\n",
       "\n",
       "    .dataframe tbody tr th {\n",
       "        vertical-align: top;\n",
       "    }\n",
       "\n",
       "    .dataframe thead th {\n",
       "        text-align: right;\n",
       "    }\n",
       "</style>\n",
       "<table border=\"1\" class=\"dataframe\">\n",
       "  <thead>\n",
       "    <tr style=\"text-align: right;\">\n",
       "      <th></th>\n",
       "      <th>City</th>\n",
       "      <th>Food</th>\n",
       "      <th>Lodging</th>\n",
       "      <th>Not Hospitality</th>\n",
       "      <th>Recreation</th>\n",
       "      <th>Shopping</th>\n",
       "      <th>Transport</th>\n",
       "      <th>ClusterLabels</th>\n",
       "    </tr>\n",
       "  </thead>\n",
       "  <tbody>\n",
       "    <tr>\n",
       "      <th>0</th>\n",
       "      <td>Bangkok</td>\n",
       "      <td>0.42</td>\n",
       "      <td>0.00</td>\n",
       "      <td>0.14</td>\n",
       "      <td>0.08</td>\n",
       "      <td>0.30</td>\n",
       "      <td>0.06</td>\n",
       "      <td>0</td>\n",
       "    </tr>\n",
       "    <tr>\n",
       "      <th>1</th>\n",
       "      <td>Dubai</td>\n",
       "      <td>0.28</td>\n",
       "      <td>0.10</td>\n",
       "      <td>0.10</td>\n",
       "      <td>0.26</td>\n",
       "      <td>0.18</td>\n",
       "      <td>0.08</td>\n",
       "      <td>1</td>\n",
       "    </tr>\n",
       "    <tr>\n",
       "      <th>2</th>\n",
       "      <td>Istanbul</td>\n",
       "      <td>0.14</td>\n",
       "      <td>0.00</td>\n",
       "      <td>0.30</td>\n",
       "      <td>0.40</td>\n",
       "      <td>0.12</td>\n",
       "      <td>0.04</td>\n",
       "      <td>3</td>\n",
       "    </tr>\n",
       "    <tr>\n",
       "      <th>3</th>\n",
       "      <td>Kuala Lumpur</td>\n",
       "      <td>0.22</td>\n",
       "      <td>0.00</td>\n",
       "      <td>0.10</td>\n",
       "      <td>0.12</td>\n",
       "      <td>0.30</td>\n",
       "      <td>0.26</td>\n",
       "      <td>0</td>\n",
       "    </tr>\n",
       "    <tr>\n",
       "      <th>4</th>\n",
       "      <td>London</td>\n",
       "      <td>0.18</td>\n",
       "      <td>0.04</td>\n",
       "      <td>0.08</td>\n",
       "      <td>0.26</td>\n",
       "      <td>0.12</td>\n",
       "      <td>0.32</td>\n",
       "      <td>1</td>\n",
       "    </tr>\n",
       "    <tr>\n",
       "      <th>5</th>\n",
       "      <td>New York</td>\n",
       "      <td>0.00</td>\n",
       "      <td>0.00</td>\n",
       "      <td>0.00</td>\n",
       "      <td>0.32</td>\n",
       "      <td>0.12</td>\n",
       "      <td>0.56</td>\n",
       "      <td>2</td>\n",
       "    </tr>\n",
       "    <tr>\n",
       "      <th>6</th>\n",
       "      <td>Paris</td>\n",
       "      <td>0.10</td>\n",
       "      <td>0.00</td>\n",
       "      <td>0.14</td>\n",
       "      <td>0.48</td>\n",
       "      <td>0.12</td>\n",
       "      <td>0.16</td>\n",
       "      <td>3</td>\n",
       "    </tr>\n",
       "    <tr>\n",
       "      <th>7</th>\n",
       "      <td>Seoul</td>\n",
       "      <td>0.00</td>\n",
       "      <td>0.00</td>\n",
       "      <td>0.08</td>\n",
       "      <td>0.24</td>\n",
       "      <td>0.16</td>\n",
       "      <td>0.52</td>\n",
       "      <td>2</td>\n",
       "    </tr>\n",
       "    <tr>\n",
       "      <th>8</th>\n",
       "      <td>Singapore</td>\n",
       "      <td>0.08</td>\n",
       "      <td>0.04</td>\n",
       "      <td>0.08</td>\n",
       "      <td>0.14</td>\n",
       "      <td>0.32</td>\n",
       "      <td>0.34</td>\n",
       "      <td>0</td>\n",
       "    </tr>\n",
       "    <tr>\n",
       "      <th>9</th>\n",
       "      <td>Tokyo</td>\n",
       "      <td>0.00</td>\n",
       "      <td>0.00</td>\n",
       "      <td>0.04</td>\n",
       "      <td>0.08</td>\n",
       "      <td>0.02</td>\n",
       "      <td>0.86</td>\n",
       "      <td>2</td>\n",
       "    </tr>\n",
       "  </tbody>\n",
       "</table>\n",
       "</div>"
      ],
      "text/plain": [
       "           City  Food  Lodging  Not Hospitality  Recreation  Shopping  \\\n",
       "0       Bangkok  0.42     0.00             0.14        0.08      0.30   \n",
       "1         Dubai  0.28     0.10             0.10        0.26      0.18   \n",
       "2      Istanbul  0.14     0.00             0.30        0.40      0.12   \n",
       "3  Kuala Lumpur  0.22     0.00             0.10        0.12      0.30   \n",
       "4        London  0.18     0.04             0.08        0.26      0.12   \n",
       "5      New York  0.00     0.00             0.00        0.32      0.12   \n",
       "6         Paris  0.10     0.00             0.14        0.48      0.12   \n",
       "7         Seoul  0.00     0.00             0.08        0.24      0.16   \n",
       "8     Singapore  0.08     0.04             0.08        0.14      0.32   \n",
       "9         Tokyo  0.00     0.00             0.04        0.08      0.02   \n",
       "\n",
       "   Transport  ClusterLabels  \n",
       "0       0.06              0  \n",
       "1       0.08              1  \n",
       "2       0.04              3  \n",
       "3       0.26              0  \n",
       "4       0.32              1  \n",
       "5       0.56              2  \n",
       "6       0.16              3  \n",
       "7       0.52              2  \n",
       "8       0.34              0  \n",
       "9       0.86              2  "
      ]
     },
     "execution_count": 132,
     "metadata": {},
     "output_type": "execute_result"
    }
   ],
   "source": [
    "#add cluster labels to sector dataframe\n",
    "fsq_cities_sec['ClusterLabels']=tsclust_labels\n",
    "\n",
    "fsq_cities_sec\n"
   ]
  },
  {
   "cell_type": "code",
   "execution_count": 133,
   "metadata": {},
   "outputs": [],
   "source": [
    "MCI_Rank = []\n",
    "\n",
    "for city in fsq_cities_sec['City']:\n",
    "    MCI_Rank.append(original_ranking.index(city)+1)\n",
    "    \n",
    "fsq_cities_sec['MCI_Rank'] = MCI_Rank \n",
    "\n"
   ]
  },
  {
   "cell_type": "code",
   "execution_count": 134,
   "metadata": {},
   "outputs": [
    {
     "data": {
      "text/html": [
       "<div>\n",
       "<style scoped>\n",
       "    .dataframe tbody tr th:only-of-type {\n",
       "        vertical-align: middle;\n",
       "    }\n",
       "\n",
       "    .dataframe tbody tr th {\n",
       "        vertical-align: top;\n",
       "    }\n",
       "\n",
       "    .dataframe thead th {\n",
       "        text-align: right;\n",
       "    }\n",
       "</style>\n",
       "<table border=\"1\" class=\"dataframe\">\n",
       "  <thead>\n",
       "    <tr style=\"text-align: right;\">\n",
       "      <th></th>\n",
       "      <th>index</th>\n",
       "      <th>City</th>\n",
       "      <th>Food</th>\n",
       "      <th>Lodging</th>\n",
       "      <th>Not Hospitality</th>\n",
       "      <th>Recreation</th>\n",
       "      <th>Shopping</th>\n",
       "      <th>Transport</th>\n",
       "      <th>ClusterLabels</th>\n",
       "      <th>MCI_Rank</th>\n",
       "    </tr>\n",
       "  </thead>\n",
       "  <tbody>\n",
       "    <tr>\n",
       "      <th>0</th>\n",
       "      <td>0</td>\n",
       "      <td>Bangkok</td>\n",
       "      <td>0.42</td>\n",
       "      <td>0.00</td>\n",
       "      <td>0.14</td>\n",
       "      <td>0.08</td>\n",
       "      <td>0.30</td>\n",
       "      <td>0.06</td>\n",
       "      <td>0</td>\n",
       "      <td>1</td>\n",
       "    </tr>\n",
       "    <tr>\n",
       "      <th>1</th>\n",
       "      <td>4</td>\n",
       "      <td>London</td>\n",
       "      <td>0.18</td>\n",
       "      <td>0.04</td>\n",
       "      <td>0.08</td>\n",
       "      <td>0.26</td>\n",
       "      <td>0.12</td>\n",
       "      <td>0.32</td>\n",
       "      <td>1</td>\n",
       "      <td>2</td>\n",
       "    </tr>\n",
       "    <tr>\n",
       "      <th>2</th>\n",
       "      <td>6</td>\n",
       "      <td>Paris</td>\n",
       "      <td>0.10</td>\n",
       "      <td>0.00</td>\n",
       "      <td>0.14</td>\n",
       "      <td>0.48</td>\n",
       "      <td>0.12</td>\n",
       "      <td>0.16</td>\n",
       "      <td>3</td>\n",
       "      <td>3</td>\n",
       "    </tr>\n",
       "    <tr>\n",
       "      <th>3</th>\n",
       "      <td>1</td>\n",
       "      <td>Dubai</td>\n",
       "      <td>0.28</td>\n",
       "      <td>0.10</td>\n",
       "      <td>0.10</td>\n",
       "      <td>0.26</td>\n",
       "      <td>0.18</td>\n",
       "      <td>0.08</td>\n",
       "      <td>1</td>\n",
       "      <td>4</td>\n",
       "    </tr>\n",
       "    <tr>\n",
       "      <th>4</th>\n",
       "      <td>8</td>\n",
       "      <td>Singapore</td>\n",
       "      <td>0.08</td>\n",
       "      <td>0.04</td>\n",
       "      <td>0.08</td>\n",
       "      <td>0.14</td>\n",
       "      <td>0.32</td>\n",
       "      <td>0.34</td>\n",
       "      <td>0</td>\n",
       "      <td>5</td>\n",
       "    </tr>\n",
       "    <tr>\n",
       "      <th>5</th>\n",
       "      <td>5</td>\n",
       "      <td>New York</td>\n",
       "      <td>0.00</td>\n",
       "      <td>0.00</td>\n",
       "      <td>0.00</td>\n",
       "      <td>0.32</td>\n",
       "      <td>0.12</td>\n",
       "      <td>0.56</td>\n",
       "      <td>2</td>\n",
       "      <td>6</td>\n",
       "    </tr>\n",
       "    <tr>\n",
       "      <th>6</th>\n",
       "      <td>3</td>\n",
       "      <td>Kuala Lumpur</td>\n",
       "      <td>0.22</td>\n",
       "      <td>0.00</td>\n",
       "      <td>0.10</td>\n",
       "      <td>0.12</td>\n",
       "      <td>0.30</td>\n",
       "      <td>0.26</td>\n",
       "      <td>0</td>\n",
       "      <td>7</td>\n",
       "    </tr>\n",
       "    <tr>\n",
       "      <th>7</th>\n",
       "      <td>9</td>\n",
       "      <td>Tokyo</td>\n",
       "      <td>0.00</td>\n",
       "      <td>0.00</td>\n",
       "      <td>0.04</td>\n",
       "      <td>0.08</td>\n",
       "      <td>0.02</td>\n",
       "      <td>0.86</td>\n",
       "      <td>2</td>\n",
       "      <td>8</td>\n",
       "    </tr>\n",
       "    <tr>\n",
       "      <th>8</th>\n",
       "      <td>2</td>\n",
       "      <td>Istanbul</td>\n",
       "      <td>0.14</td>\n",
       "      <td>0.00</td>\n",
       "      <td>0.30</td>\n",
       "      <td>0.40</td>\n",
       "      <td>0.12</td>\n",
       "      <td>0.04</td>\n",
       "      <td>3</td>\n",
       "      <td>9</td>\n",
       "    </tr>\n",
       "    <tr>\n",
       "      <th>9</th>\n",
       "      <td>7</td>\n",
       "      <td>Seoul</td>\n",
       "      <td>0.00</td>\n",
       "      <td>0.00</td>\n",
       "      <td>0.08</td>\n",
       "      <td>0.24</td>\n",
       "      <td>0.16</td>\n",
       "      <td>0.52</td>\n",
       "      <td>2</td>\n",
       "      <td>10</td>\n",
       "    </tr>\n",
       "  </tbody>\n",
       "</table>\n",
       "</div>"
      ],
      "text/plain": [
       "   index          City  Food  Lodging  Not Hospitality  Recreation  Shopping  \\\n",
       "0      0       Bangkok  0.42     0.00             0.14        0.08      0.30   \n",
       "1      4        London  0.18     0.04             0.08        0.26      0.12   \n",
       "2      6         Paris  0.10     0.00             0.14        0.48      0.12   \n",
       "3      1         Dubai  0.28     0.10             0.10        0.26      0.18   \n",
       "4      8     Singapore  0.08     0.04             0.08        0.14      0.32   \n",
       "5      5      New York  0.00     0.00             0.00        0.32      0.12   \n",
       "6      3  Kuala Lumpur  0.22     0.00             0.10        0.12      0.30   \n",
       "7      9         Tokyo  0.00     0.00             0.04        0.08      0.02   \n",
       "8      2      Istanbul  0.14     0.00             0.30        0.40      0.12   \n",
       "9      7         Seoul  0.00     0.00             0.08        0.24      0.16   \n",
       "\n",
       "   Transport  ClusterLabels  MCI_Rank  \n",
       "0       0.06              0         1  \n",
       "1       0.32              1         2  \n",
       "2       0.16              3         3  \n",
       "3       0.08              1         4  \n",
       "4       0.34              0         5  \n",
       "5       0.56              2         6  \n",
       "6       0.26              0         7  \n",
       "7       0.86              2         8  \n",
       "8       0.04              3         9  \n",
       "9       0.52              2        10  "
      ]
     },
     "execution_count": 134,
     "metadata": {},
     "output_type": "execute_result"
    }
   ],
   "source": [
    "fsq_cities_sec = fsq_cities_sec.sort_values(by=['MCI_Rank']).reset_index()\n",
    "fsq_cities_sec"
   ]
  },
  {
   "cell_type": "markdown",
   "metadata": {},
   "source": [
    "<h4> Setting up a dataframe to assess relationships between sectors and Mastercard Index indicators</h4>"
   ]
  },
  {
   "cell_type": "code",
   "execution_count": 135,
   "metadata": {},
   "outputs": [
    {
     "data": {
      "text/html": [
       "<div>\n",
       "<style scoped>\n",
       "    .dataframe tbody tr th:only-of-type {\n",
       "        vertical-align: middle;\n",
       "    }\n",
       "\n",
       "    .dataframe tbody tr th {\n",
       "        vertical-align: top;\n",
       "    }\n",
       "\n",
       "    .dataframe thead th {\n",
       "        text-align: right;\n",
       "    }\n",
       "</style>\n",
       "<table border=\"1\" class=\"dataframe\">\n",
       "  <thead>\n",
       "    <tr style=\"text-align: right;\">\n",
       "      <th></th>\n",
       "      <th>City</th>\n",
       "      <th>Food</th>\n",
       "      <th>Lodging</th>\n",
       "      <th>Not Hospitality</th>\n",
       "      <th>Recreation</th>\n",
       "      <th>Shopping</th>\n",
       "      <th>Transport</th>\n",
       "      <th>ClusterLabels</th>\n",
       "      <th>GrowthForecast</th>\n",
       "      <th>VisitorCount</th>\n",
       "      <th>AvgSpendPerDay</th>\n",
       "      <th>AvgLengthOfStay</th>\n",
       "    </tr>\n",
       "  </thead>\n",
       "  <tbody>\n",
       "    <tr>\n",
       "      <th>0</th>\n",
       "      <td>Bangkok</td>\n",
       "      <td>0.42</td>\n",
       "      <td>0.00</td>\n",
       "      <td>0.14</td>\n",
       "      <td>0.08</td>\n",
       "      <td>0.30</td>\n",
       "      <td>0.06</td>\n",
       "      <td>0</td>\n",
       "      <td>9.6</td>\n",
       "      <td>20050000</td>\n",
       "      <td>173</td>\n",
       "      <td>4.7</td>\n",
       "    </tr>\n",
       "    <tr>\n",
       "      <th>1</th>\n",
       "      <td>London</td>\n",
       "      <td>0.18</td>\n",
       "      <td>0.04</td>\n",
       "      <td>0.08</td>\n",
       "      <td>0.26</td>\n",
       "      <td>0.12</td>\n",
       "      <td>0.32</td>\n",
       "      <td>1</td>\n",
       "      <td>3.0</td>\n",
       "      <td>19830000</td>\n",
       "      <td>153</td>\n",
       "      <td>5.8</td>\n",
       "    </tr>\n",
       "    <tr>\n",
       "      <th>2</th>\n",
       "      <td>Paris</td>\n",
       "      <td>0.10</td>\n",
       "      <td>0.00</td>\n",
       "      <td>0.14</td>\n",
       "      <td>0.48</td>\n",
       "      <td>0.12</td>\n",
       "      <td>0.16</td>\n",
       "      <td>3</td>\n",
       "      <td>2.9</td>\n",
       "      <td>17440000</td>\n",
       "      <td>301</td>\n",
       "      <td>2.5</td>\n",
       "    </tr>\n",
       "    <tr>\n",
       "      <th>3</th>\n",
       "      <td>Dubai</td>\n",
       "      <td>0.28</td>\n",
       "      <td>0.10</td>\n",
       "      <td>0.10</td>\n",
       "      <td>0.26</td>\n",
       "      <td>0.18</td>\n",
       "      <td>0.08</td>\n",
       "      <td>1</td>\n",
       "      <td>5.5</td>\n",
       "      <td>15790000</td>\n",
       "      <td>537</td>\n",
       "      <td>3.5</td>\n",
       "    </tr>\n",
       "    <tr>\n",
       "      <th>4</th>\n",
       "      <td>Singapore</td>\n",
       "      <td>0.08</td>\n",
       "      <td>0.04</td>\n",
       "      <td>0.08</td>\n",
       "      <td>0.14</td>\n",
       "      <td>0.32</td>\n",
       "      <td>0.34</td>\n",
       "      <td>0</td>\n",
       "      <td>4.0</td>\n",
       "      <td>13910000</td>\n",
       "      <td>286</td>\n",
       "      <td>4.3</td>\n",
       "    </tr>\n",
       "    <tr>\n",
       "      <th>5</th>\n",
       "      <td>New York</td>\n",
       "      <td>0.00</td>\n",
       "      <td>0.00</td>\n",
       "      <td>0.00</td>\n",
       "      <td>0.32</td>\n",
       "      <td>0.12</td>\n",
       "      <td>0.56</td>\n",
       "      <td>2</td>\n",
       "      <td>4.1</td>\n",
       "      <td>13130000</td>\n",
       "      <td>147</td>\n",
       "      <td>8.3</td>\n",
       "    </tr>\n",
       "    <tr>\n",
       "      <th>6</th>\n",
       "      <td>Kuala Lumpur</td>\n",
       "      <td>0.22</td>\n",
       "      <td>0.00</td>\n",
       "      <td>0.10</td>\n",
       "      <td>0.12</td>\n",
       "      <td>0.30</td>\n",
       "      <td>0.26</td>\n",
       "      <td>0</td>\n",
       "      <td>7.5</td>\n",
       "      <td>12580000</td>\n",
       "      <td>124</td>\n",
       "      <td>5.5</td>\n",
       "    </tr>\n",
       "    <tr>\n",
       "      <th>7</th>\n",
       "      <td>Tokyo</td>\n",
       "      <td>0.00</td>\n",
       "      <td>0.00</td>\n",
       "      <td>0.04</td>\n",
       "      <td>0.08</td>\n",
       "      <td>0.02</td>\n",
       "      <td>0.86</td>\n",
       "      <td>2</td>\n",
       "      <td>1.6</td>\n",
       "      <td>11930000</td>\n",
       "      <td>154</td>\n",
       "      <td>6.5</td>\n",
       "    </tr>\n",
       "    <tr>\n",
       "      <th>8</th>\n",
       "      <td>Istanbul</td>\n",
       "      <td>0.14</td>\n",
       "      <td>0.00</td>\n",
       "      <td>0.30</td>\n",
       "      <td>0.40</td>\n",
       "      <td>0.12</td>\n",
       "      <td>0.04</td>\n",
       "      <td>3</td>\n",
       "      <td>19.7</td>\n",
       "      <td>10700000</td>\n",
       "      <td>108</td>\n",
       "      <td>5.8</td>\n",
       "    </tr>\n",
       "    <tr>\n",
       "      <th>9</th>\n",
       "      <td>Seoul</td>\n",
       "      <td>0.00</td>\n",
       "      <td>0.00</td>\n",
       "      <td>0.08</td>\n",
       "      <td>0.24</td>\n",
       "      <td>0.16</td>\n",
       "      <td>0.52</td>\n",
       "      <td>2</td>\n",
       "      <td>6.1</td>\n",
       "      <td>9540000</td>\n",
       "      <td>181</td>\n",
       "      <td>4.2</td>\n",
       "    </tr>\n",
       "  </tbody>\n",
       "</table>\n",
       "</div>"
      ],
      "text/plain": [
       "           City  Food  Lodging  Not Hospitality  Recreation  Shopping  \\\n",
       "0       Bangkok  0.42     0.00             0.14        0.08      0.30   \n",
       "1        London  0.18     0.04             0.08        0.26      0.12   \n",
       "2         Paris  0.10     0.00             0.14        0.48      0.12   \n",
       "3         Dubai  0.28     0.10             0.10        0.26      0.18   \n",
       "4     Singapore  0.08     0.04             0.08        0.14      0.32   \n",
       "5      New York  0.00     0.00             0.00        0.32      0.12   \n",
       "6  Kuala Lumpur  0.22     0.00             0.10        0.12      0.30   \n",
       "7         Tokyo  0.00     0.00             0.04        0.08      0.02   \n",
       "8      Istanbul  0.14     0.00             0.30        0.40      0.12   \n",
       "9         Seoul  0.00     0.00             0.08        0.24      0.16   \n",
       "\n",
       "   Transport  ClusterLabels  GrowthForecast  VisitorCount  AvgSpendPerDay  \\\n",
       "0       0.06              0             9.6      20050000             173   \n",
       "1       0.32              1             3.0      19830000             153   \n",
       "2       0.16              3             2.9      17440000             301   \n",
       "3       0.08              1             5.5      15790000             537   \n",
       "4       0.34              0             4.0      13910000             286   \n",
       "5       0.56              2             4.1      13130000             147   \n",
       "6       0.26              0             7.5      12580000             124   \n",
       "7       0.86              2             1.6      11930000             154   \n",
       "8       0.04              3            19.7      10700000             108   \n",
       "9       0.52              2             6.1       9540000             181   \n",
       "\n",
       "   AvgLengthOfStay  \n",
       "0              4.7  \n",
       "1              5.8  \n",
       "2              2.5  \n",
       "3              3.5  \n",
       "4              4.3  \n",
       "5              8.3  \n",
       "6              5.5  \n",
       "7              6.5  \n",
       "8              5.8  \n",
       "9              4.2  "
      ]
     },
     "execution_count": 135,
     "metadata": {},
     "output_type": "execute_result"
    }
   ],
   "source": [
    "#deriving dataframe for correlation from sector dataframe\n",
    "fsq_cities_seccorr = fsq_cities_sec.drop(['index','MCI_Rank'], 1)\n",
    "\n",
    "#adding mastercard index indicators to correlation dataframe\n",
    "fsq_cities_seccorr['GrowthForecast'] = top_cities['GrowthForecast']\n",
    "fsq_cities_seccorr['VisitorCount']= top_cities['VisitorCount']\n",
    "fsq_cities_seccorr['AvgSpendPerDay']= top_cities['AvgSpendPerDay']\n",
    "fsq_cities_seccorr['AvgLengthOfStay']= top_cities['AvgLengthOfStay']\n",
    "\n",
    "fsq_cities_seccorr"
   ]
  },
  {
   "cell_type": "markdown",
   "metadata": {},
   "source": [
    "<h4> Deriving Pearson Correlation statistics </h4>\n",
    "\n",
    "To assess linear relationships"
   ]
  },
  {
   "cell_type": "code",
   "execution_count": 136,
   "metadata": {},
   "outputs": [
    {
     "data": {
      "text/html": [
       "<div>\n",
       "<style scoped>\n",
       "    .dataframe tbody tr th:only-of-type {\n",
       "        vertical-align: middle;\n",
       "    }\n",
       "\n",
       "    .dataframe tbody tr th {\n",
       "        vertical-align: top;\n",
       "    }\n",
       "\n",
       "    .dataframe thead th {\n",
       "        text-align: right;\n",
       "    }\n",
       "</style>\n",
       "<table border=\"1\" class=\"dataframe\">\n",
       "  <thead>\n",
       "    <tr style=\"text-align: right;\">\n",
       "      <th></th>\n",
       "      <th>Food</th>\n",
       "      <th>Lodging</th>\n",
       "      <th>Not Hospitality</th>\n",
       "      <th>Recreation</th>\n",
       "      <th>Shopping</th>\n",
       "      <th>Transport</th>\n",
       "      <th>ClusterLabels</th>\n",
       "      <th>GrowthForecast</th>\n",
       "      <th>VisitorCount</th>\n",
       "      <th>AvgSpendPerDay</th>\n",
       "      <th>AvgLengthOfStay</th>\n",
       "    </tr>\n",
       "  </thead>\n",
       "  <tbody>\n",
       "    <tr>\n",
       "      <th>Food</th>\n",
       "      <td>1.000000</td>\n",
       "      <td>0.312077</td>\n",
       "      <td>0.354425</td>\n",
       "      <td>-0.256984</td>\n",
       "      <td>0.557925</td>\n",
       "      <td>-0.747748</td>\n",
       "      <td>-0.556579</td>\n",
       "      <td>0.315073</td>\n",
       "      <td>0.652116</td>\n",
       "      <td>0.241321</td>\n",
       "      <td>-0.316207</td>\n",
       "    </tr>\n",
       "    <tr>\n",
       "      <th>Lodging</th>\n",
       "      <td>0.312077</td>\n",
       "      <td>1.000000</td>\n",
       "      <td>-0.111852</td>\n",
       "      <td>-0.020661</td>\n",
       "      <td>0.131929</td>\n",
       "      <td>-0.294662</td>\n",
       "      <td>-0.318697</td>\n",
       "      <td>-0.205237</td>\n",
       "      <td>0.291765</td>\n",
       "      <td>0.833254</td>\n",
       "      <td>-0.337232</td>\n",
       "    </tr>\n",
       "    <tr>\n",
       "      <th>Not Hospitality</th>\n",
       "      <td>0.354425</td>\n",
       "      <td>-0.111852</td>\n",
       "      <td>1.000000</td>\n",
       "      <td>0.393842</td>\n",
       "      <td>0.070510</td>\n",
       "      <td>-0.705358</td>\n",
       "      <td>0.302808</td>\n",
       "      <td>0.871161</td>\n",
       "      <td>-0.047014</td>\n",
       "      <td>-0.093959</td>\n",
       "      <td>-0.308268</td>\n",
       "    </tr>\n",
       "    <tr>\n",
       "      <th>Recreation</th>\n",
       "      <td>-0.256984</td>\n",
       "      <td>-0.020661</td>\n",
       "      <td>0.393842</td>\n",
       "      <td>1.000000</td>\n",
       "      <td>-0.429392</td>\n",
       "      <td>-0.337282</td>\n",
       "      <td>0.772373</td>\n",
       "      <td>0.215792</td>\n",
       "      <td>-0.014991</td>\n",
       "      <td>0.149161</td>\n",
       "      <td>-0.200208</td>\n",
       "    </tr>\n",
       "    <tr>\n",
       "      <th>Shopping</th>\n",
       "      <td>0.557925</td>\n",
       "      <td>0.131929</td>\n",
       "      <td>0.070510</td>\n",
       "      <td>-0.429392</td>\n",
       "      <td>1.000000</td>\n",
       "      <td>-0.485350</td>\n",
       "      <td>-0.805039</td>\n",
       "      <td>0.151268</td>\n",
       "      <td>0.206654</td>\n",
       "      <td>0.117023</td>\n",
       "      <td>-0.298357</td>\n",
       "    </tr>\n",
       "    <tr>\n",
       "      <th>Transport</th>\n",
       "      <td>-0.747748</td>\n",
       "      <td>-0.294662</td>\n",
       "      <td>-0.705358</td>\n",
       "      <td>-0.337282</td>\n",
       "      <td>-0.485350</td>\n",
       "      <td>1.000000</td>\n",
       "      <td>0.143984</td>\n",
       "      <td>-0.572308</td>\n",
       "      <td>-0.433620</td>\n",
       "      <td>-0.324106</td>\n",
       "      <td>0.517687</td>\n",
       "    </tr>\n",
       "    <tr>\n",
       "      <th>ClusterLabels</th>\n",
       "      <td>-0.556579</td>\n",
       "      <td>-0.318697</td>\n",
       "      <td>0.302808</td>\n",
       "      <td>0.772373</td>\n",
       "      <td>-0.805039</td>\n",
       "      <td>0.143984</td>\n",
       "      <td>1.000000</td>\n",
       "      <td>0.186061</td>\n",
       "      <td>-0.351510</td>\n",
       "      <td>-0.108619</td>\n",
       "      <td>0.038046</td>\n",
       "    </tr>\n",
       "    <tr>\n",
       "      <th>GrowthForecast</th>\n",
       "      <td>0.315073</td>\n",
       "      <td>-0.205237</td>\n",
       "      <td>0.871161</td>\n",
       "      <td>0.215792</td>\n",
       "      <td>0.151268</td>\n",
       "      <td>-0.572308</td>\n",
       "      <td>0.186061</td>\n",
       "      <td>1.000000</td>\n",
       "      <td>-0.266352</td>\n",
       "      <td>-0.286297</td>\n",
       "      <td>0.061204</td>\n",
       "    </tr>\n",
       "    <tr>\n",
       "      <th>VisitorCount</th>\n",
       "      <td>0.652116</td>\n",
       "      <td>0.291765</td>\n",
       "      <td>-0.047014</td>\n",
       "      <td>-0.014991</td>\n",
       "      <td>0.206654</td>\n",
       "      <td>-0.433620</td>\n",
       "      <td>-0.351510</td>\n",
       "      <td>-0.266352</td>\n",
       "      <td>1.000000</td>\n",
       "      <td>0.248611</td>\n",
       "      <td>-0.270630</td>\n",
       "    </tr>\n",
       "    <tr>\n",
       "      <th>AvgSpendPerDay</th>\n",
       "      <td>0.241321</td>\n",
       "      <td>0.833254</td>\n",
       "      <td>-0.093959</td>\n",
       "      <td>0.149161</td>\n",
       "      <td>0.117023</td>\n",
       "      <td>-0.324106</td>\n",
       "      <td>-0.108619</td>\n",
       "      <td>-0.286297</td>\n",
       "      <td>0.248611</td>\n",
       "      <td>1.000000</td>\n",
       "      <td>-0.630134</td>\n",
       "    </tr>\n",
       "    <tr>\n",
       "      <th>AvgLengthOfStay</th>\n",
       "      <td>-0.316207</td>\n",
       "      <td>-0.337232</td>\n",
       "      <td>-0.308268</td>\n",
       "      <td>-0.200208</td>\n",
       "      <td>-0.298357</td>\n",
       "      <td>0.517687</td>\n",
       "      <td>0.038046</td>\n",
       "      <td>0.061204</td>\n",
       "      <td>-0.270630</td>\n",
       "      <td>-0.630134</td>\n",
       "      <td>1.000000</td>\n",
       "    </tr>\n",
       "  </tbody>\n",
       "</table>\n",
       "</div>"
      ],
      "text/plain": [
       "                     Food   Lodging  Not Hospitality  Recreation  Shopping  \\\n",
       "Food             1.000000  0.312077         0.354425   -0.256984  0.557925   \n",
       "Lodging          0.312077  1.000000        -0.111852   -0.020661  0.131929   \n",
       "Not Hospitality  0.354425 -0.111852         1.000000    0.393842  0.070510   \n",
       "Recreation      -0.256984 -0.020661         0.393842    1.000000 -0.429392   \n",
       "Shopping         0.557925  0.131929         0.070510   -0.429392  1.000000   \n",
       "Transport       -0.747748 -0.294662        -0.705358   -0.337282 -0.485350   \n",
       "ClusterLabels   -0.556579 -0.318697         0.302808    0.772373 -0.805039   \n",
       "GrowthForecast   0.315073 -0.205237         0.871161    0.215792  0.151268   \n",
       "VisitorCount     0.652116  0.291765        -0.047014   -0.014991  0.206654   \n",
       "AvgSpendPerDay   0.241321  0.833254        -0.093959    0.149161  0.117023   \n",
       "AvgLengthOfStay -0.316207 -0.337232        -0.308268   -0.200208 -0.298357   \n",
       "\n",
       "                 Transport  ClusterLabels  GrowthForecast  VisitorCount  \\\n",
       "Food             -0.747748      -0.556579        0.315073      0.652116   \n",
       "Lodging          -0.294662      -0.318697       -0.205237      0.291765   \n",
       "Not Hospitality  -0.705358       0.302808        0.871161     -0.047014   \n",
       "Recreation       -0.337282       0.772373        0.215792     -0.014991   \n",
       "Shopping         -0.485350      -0.805039        0.151268      0.206654   \n",
       "Transport         1.000000       0.143984       -0.572308     -0.433620   \n",
       "ClusterLabels     0.143984       1.000000        0.186061     -0.351510   \n",
       "GrowthForecast   -0.572308       0.186061        1.000000     -0.266352   \n",
       "VisitorCount     -0.433620      -0.351510       -0.266352      1.000000   \n",
       "AvgSpendPerDay   -0.324106      -0.108619       -0.286297      0.248611   \n",
       "AvgLengthOfStay   0.517687       0.038046        0.061204     -0.270630   \n",
       "\n",
       "                 AvgSpendPerDay  AvgLengthOfStay  \n",
       "Food                   0.241321        -0.316207  \n",
       "Lodging                0.833254        -0.337232  \n",
       "Not Hospitality       -0.093959        -0.308268  \n",
       "Recreation             0.149161        -0.200208  \n",
       "Shopping               0.117023        -0.298357  \n",
       "Transport             -0.324106         0.517687  \n",
       "ClusterLabels         -0.108619         0.038046  \n",
       "GrowthForecast        -0.286297         0.061204  \n",
       "VisitorCount           0.248611        -0.270630  \n",
       "AvgSpendPerDay         1.000000        -0.630134  \n",
       "AvgLengthOfStay       -0.630134         1.000000  "
      ]
     },
     "execution_count": 136,
     "metadata": {},
     "output_type": "execute_result"
    }
   ],
   "source": [
    "fsq_cities_seccorr.corr(method='pearson')"
   ]
  },
  {
   "cell_type": "code",
   "execution_count": 137,
   "metadata": {
    "scrolled": true
   },
   "outputs": [
    {
     "data": {
      "text/html": [
       "<div>\n",
       "<style scoped>\n",
       "    .dataframe tbody tr th:only-of-type {\n",
       "        vertical-align: middle;\n",
       "    }\n",
       "\n",
       "    .dataframe tbody tr th {\n",
       "        vertical-align: top;\n",
       "    }\n",
       "\n",
       "    .dataframe thead th {\n",
       "        text-align: right;\n",
       "    }\n",
       "</style>\n",
       "<table border=\"1\" class=\"dataframe\">\n",
       "  <thead>\n",
       "    <tr style=\"text-align: right;\">\n",
       "      <th></th>\n",
       "      <th>Food</th>\n",
       "      <th>Lodging</th>\n",
       "      <th>Not Hospitality</th>\n",
       "      <th>Recreation</th>\n",
       "      <th>Shopping</th>\n",
       "      <th>Transport</th>\n",
       "      <th>ClusterLabels</th>\n",
       "      <th>GrowthForecast</th>\n",
       "      <th>VisitorCount</th>\n",
       "      <th>AvgSpendPerDay</th>\n",
       "      <th>AvgLengthOfStay</th>\n",
       "    </tr>\n",
       "  </thead>\n",
       "  <tbody>\n",
       "    <tr>\n",
       "      <th>Food</th>\n",
       "      <td>1.000000</td>\n",
       "      <td>0.318511</td>\n",
       "      <td>0.668763</td>\n",
       "      <td>-0.129632</td>\n",
       "      <td>0.476308</td>\n",
       "      <td>-0.803741</td>\n",
       "      <td>-0.506420</td>\n",
       "      <td>0.472428</td>\n",
       "      <td>0.607408</td>\n",
       "      <td>0.055219</td>\n",
       "      <td>-0.295397</td>\n",
       "    </tr>\n",
       "    <tr>\n",
       "      <th>Lodging</th>\n",
       "      <td>0.318511</td>\n",
       "      <td>1.000000</td>\n",
       "      <td>-0.114467</td>\n",
       "      <td>0.056527</td>\n",
       "      <td>0.314038</td>\n",
       "      <td>-0.089893</td>\n",
       "      <td>-0.405772</td>\n",
       "      <td>-0.224733</td>\n",
       "      <td>0.404520</td>\n",
       "      <td>0.471940</td>\n",
       "      <td>-0.281772</td>\n",
       "    </tr>\n",
       "    <tr>\n",
       "      <th>Not Hospitality</th>\n",
       "      <td>0.668763</td>\n",
       "      <td>-0.114467</td>\n",
       "      <td>1.000000</td>\n",
       "      <td>0.248466</td>\n",
       "      <td>0.239647</td>\n",
       "      <td>-0.944606</td>\n",
       "      <td>0.095549</td>\n",
       "      <td>0.555651</td>\n",
       "      <td>0.209913</td>\n",
       "      <td>0.024696</td>\n",
       "      <td>-0.476837</td>\n",
       "    </tr>\n",
       "    <tr>\n",
       "      <th>Recreation</th>\n",
       "      <td>-0.129632</td>\n",
       "      <td>0.056527</td>\n",
       "      <td>0.248466</td>\n",
       "      <td>1.000000</td>\n",
       "      <td>-0.378702</td>\n",
       "      <td>-0.268298</td>\n",
       "      <td>0.692043</td>\n",
       "      <td>-0.048781</td>\n",
       "      <td>0.000000</td>\n",
       "      <td>0.012195</td>\n",
       "      <td>-0.162080</td>\n",
       "    </tr>\n",
       "    <tr>\n",
       "      <th>Shopping</th>\n",
       "      <td>0.476308</td>\n",
       "      <td>0.314038</td>\n",
       "      <td>0.239647</td>\n",
       "      <td>-0.378702</td>\n",
       "      <td>1.000000</td>\n",
       "      <td>-0.301120</td>\n",
       "      <td>-0.792884</td>\n",
       "      <td>0.464226</td>\n",
       "      <td>0.232113</td>\n",
       "      <td>0.276026</td>\n",
       "      <td>-0.465639</td>\n",
       "    </tr>\n",
       "    <tr>\n",
       "      <th>Transport</th>\n",
       "      <td>-0.803741</td>\n",
       "      <td>-0.089893</td>\n",
       "      <td>-0.944606</td>\n",
       "      <td>-0.268298</td>\n",
       "      <td>-0.301120</td>\n",
       "      <td>1.000000</td>\n",
       "      <td>0.031265</td>\n",
       "      <td>-0.624242</td>\n",
       "      <td>-0.345455</td>\n",
       "      <td>-0.006061</td>\n",
       "      <td>0.389060</td>\n",
       "    </tr>\n",
       "    <tr>\n",
       "      <th>ClusterLabels</th>\n",
       "      <td>-0.506420</td>\n",
       "      <td>-0.405772</td>\n",
       "      <td>0.095549</td>\n",
       "      <td>0.692043</td>\n",
       "      <td>-0.792884</td>\n",
       "      <td>0.031265</td>\n",
       "      <td>1.000000</td>\n",
       "      <td>-0.187592</td>\n",
       "      <td>-0.406449</td>\n",
       "      <td>-0.093796</td>\n",
       "      <td>0.062721</td>\n",
       "    </tr>\n",
       "    <tr>\n",
       "      <th>GrowthForecast</th>\n",
       "      <td>0.472428</td>\n",
       "      <td>-0.224733</td>\n",
       "      <td>0.555651</td>\n",
       "      <td>-0.048781</td>\n",
       "      <td>0.464226</td>\n",
       "      <td>-0.624242</td>\n",
       "      <td>-0.187592</td>\n",
       "      <td>1.000000</td>\n",
       "      <td>-0.200000</td>\n",
       "      <td>-0.381818</td>\n",
       "      <td>-0.024316</td>\n",
       "    </tr>\n",
       "    <tr>\n",
       "      <th>VisitorCount</th>\n",
       "      <td>0.607408</td>\n",
       "      <td>0.404520</td>\n",
       "      <td>0.209913</td>\n",
       "      <td>0.000000</td>\n",
       "      <td>0.232113</td>\n",
       "      <td>-0.345455</td>\n",
       "      <td>-0.406449</td>\n",
       "      <td>-0.200000</td>\n",
       "      <td>1.000000</td>\n",
       "      <td>0.369697</td>\n",
       "      <td>-0.243162</td>\n",
       "    </tr>\n",
       "    <tr>\n",
       "      <th>AvgSpendPerDay</th>\n",
       "      <td>0.055219</td>\n",
       "      <td>0.471940</td>\n",
       "      <td>0.024696</td>\n",
       "      <td>0.012195</td>\n",
       "      <td>0.276026</td>\n",
       "      <td>-0.006061</td>\n",
       "      <td>-0.093796</td>\n",
       "      <td>-0.381818</td>\n",
       "      <td>0.369697</td>\n",
       "      <td>1.000000</td>\n",
       "      <td>-0.802435</td>\n",
       "    </tr>\n",
       "    <tr>\n",
       "      <th>AvgLengthOfStay</th>\n",
       "      <td>-0.295397</td>\n",
       "      <td>-0.281772</td>\n",
       "      <td>-0.476837</td>\n",
       "      <td>-0.162080</td>\n",
       "      <td>-0.465639</td>\n",
       "      <td>0.389060</td>\n",
       "      <td>0.062721</td>\n",
       "      <td>-0.024316</td>\n",
       "      <td>-0.243162</td>\n",
       "      <td>-0.802435</td>\n",
       "      <td>1.000000</td>\n",
       "    </tr>\n",
       "  </tbody>\n",
       "</table>\n",
       "</div>"
      ],
      "text/plain": [
       "                     Food   Lodging  Not Hospitality  Recreation  Shopping  \\\n",
       "Food             1.000000  0.318511         0.668763   -0.129632  0.476308   \n",
       "Lodging          0.318511  1.000000        -0.114467    0.056527  0.314038   \n",
       "Not Hospitality  0.668763 -0.114467         1.000000    0.248466  0.239647   \n",
       "Recreation      -0.129632  0.056527         0.248466    1.000000 -0.378702   \n",
       "Shopping         0.476308  0.314038         0.239647   -0.378702  1.000000   \n",
       "Transport       -0.803741 -0.089893        -0.944606   -0.268298 -0.301120   \n",
       "ClusterLabels   -0.506420 -0.405772         0.095549    0.692043 -0.792884   \n",
       "GrowthForecast   0.472428 -0.224733         0.555651   -0.048781  0.464226   \n",
       "VisitorCount     0.607408  0.404520         0.209913    0.000000  0.232113   \n",
       "AvgSpendPerDay   0.055219  0.471940         0.024696    0.012195  0.276026   \n",
       "AvgLengthOfStay -0.295397 -0.281772        -0.476837   -0.162080 -0.465639   \n",
       "\n",
       "                 Transport  ClusterLabels  GrowthForecast  VisitorCount  \\\n",
       "Food             -0.803741      -0.506420        0.472428      0.607408   \n",
       "Lodging          -0.089893      -0.405772       -0.224733      0.404520   \n",
       "Not Hospitality  -0.944606       0.095549        0.555651      0.209913   \n",
       "Recreation       -0.268298       0.692043       -0.048781      0.000000   \n",
       "Shopping         -0.301120      -0.792884        0.464226      0.232113   \n",
       "Transport         1.000000       0.031265       -0.624242     -0.345455   \n",
       "ClusterLabels     0.031265       1.000000       -0.187592     -0.406449   \n",
       "GrowthForecast   -0.624242      -0.187592        1.000000     -0.200000   \n",
       "VisitorCount     -0.345455      -0.406449       -0.200000      1.000000   \n",
       "AvgSpendPerDay   -0.006061      -0.093796       -0.381818      0.369697   \n",
       "AvgLengthOfStay   0.389060       0.062721       -0.024316     -0.243162   \n",
       "\n",
       "                 AvgSpendPerDay  AvgLengthOfStay  \n",
       "Food                   0.055219        -0.295397  \n",
       "Lodging                0.471940        -0.281772  \n",
       "Not Hospitality        0.024696        -0.476837  \n",
       "Recreation             0.012195        -0.162080  \n",
       "Shopping               0.276026        -0.465639  \n",
       "Transport             -0.006061         0.389060  \n",
       "ClusterLabels         -0.093796         0.062721  \n",
       "GrowthForecast        -0.381818        -0.024316  \n",
       "VisitorCount           0.369697        -0.243162  \n",
       "AvgSpendPerDay         1.000000        -0.802435  \n",
       "AvgLengthOfStay       -0.802435         1.000000  "
      ]
     },
     "execution_count": 137,
     "metadata": {},
     "output_type": "execute_result"
    }
   ],
   "source": [
    "fsq_cities_seccorr.corr(method='spearman')"
   ]
  },
  {
   "cell_type": "code",
   "execution_count": 138,
   "metadata": {
    "scrolled": true
   },
   "outputs": [
    {
     "name": "stdout",
     "output_type": "stream",
     "text": [
      "Pearson Correlation: Coefficient = 0.652116425240747, p-value = 0.041013188266022065\n",
      "SpearmanrResult(correlation=0.6074076879484503, pvalue=0.06252817596740043)\n"
     ]
    },
    {
     "data": {
      "image/png": "[encoded data removed]",
      "text/plain": [
       "<Figure size 576x288 with 1 Axes>"
      ]
     },
     "metadata": {
      "needs_background": "light"
     },
     "output_type": "display_data"
    }
   ],
   "source": [
    "scatter_corr(fsq_cities_seccorr['Food'], fsq_cities_seccorr['VisitorCount'], \\\n",
    "        'Number of Food Services', 'Visitor Count', 'Relationship between number of food services and visitor count')"
   ]
  },
  {
   "cell_type": "code",
   "execution_count": 139,
   "metadata": {},
   "outputs": [
    {
     "name": "stdout",
     "output_type": "stream",
     "text": [
      "Pearson Correlation: Coefficient = 0.8332544788304987, p-value = 0.002751310756238751\n",
      "SpearmanrResult(correlation=0.4719399037242695, pvalue=0.16846970441862522)\n"
     ]
    },
    {
     "data": {
      "image/png": "[encoded data removed]",
      "text/plain": [
       "<Figure size 576x288 with 1 Axes>"
      ]
     },
     "metadata": {
      "needs_background": "light"
     },
     "output_type": "display_data"
    }
   ],
   "source": [
    "scatter_corr(fsq_cities_seccorr['Lodging'], fsq_cities_seccorr['AvgSpendPerDay'], \\\n",
    "        'Number of Lodging Services', 'Average Spend Per Day', 'Relationship between number of lodging services and Average Spend per Day')"
   ]
  },
  {
   "cell_type": "code",
   "execution_count": 140,
   "metadata": {
    "scrolled": true
   },
   "outputs": [
    {
     "name": "stdout",
     "output_type": "stream",
     "text": [
      "Pearson Correlation: Coefficient = 0.5176869812986228, p-value = 0.12536575684326665\n",
      "SpearmanrResult(correlation=0.38905954795524134, pvalue=0.2664779212005221)\n"
     ]
    },
    {
     "data": {
      "image/png": "[encoded data removed]",
      "text/plain": [
       "<Figure size 576x288 with 1 Axes>"
      ]
     },
     "metadata": {
      "needs_background": "light"
     },
     "output_type": "display_data"
    }
   ],
   "source": [
    "scatter_corr(fsq_cities_seccorr['Transport'], fsq_cities_seccorr['AvgLengthOfStay'], \\\n",
    "        'Number of Transport Services', 'Average Length Of Stay', 'Relationship between number of Transport Services and Average Length of Stay')"
   ]
  },
  {
   "cell_type": "code",
   "execution_count": 141,
   "metadata": {
    "scrolled": true
   },
   "outputs": [
    {
     "name": "stdout",
     "output_type": "stream",
     "text": [
      "Pearson Correlation: Coefficient = -0.5723078222569198, p-value = 0.08382743042785956\n",
      "SpearmanrResult(correlation=-0.6242424242424242, pvalue=0.053717767217167395)\n"
     ]
    },
    {
     "data": {
      "image/png": "[encoded data removed]",
      "text/plain": [
       "<Figure size 576x288 with 1 Axes>"
      ]
     },
     "metadata": {
      "needs_background": "light"
     },
     "output_type": "display_data"
    }
   ],
   "source": [
    "scatter_corr(fsq_cities_seccorr['Transport'], fsq_cities_seccorr['GrowthForecast'], \\\n",
    "        'Number of Transport Services', 'Growth Forecast', 'Relationship between number of Transport Services and Growth Forecast')"
   ]
  },
  {
   "cell_type": "code",
   "execution_count": 142,
   "metadata": {
    "scrolled": true
   },
   "outputs": [
    {
     "name": "stdout",
     "output_type": "stream",
     "text": [
      "Pearson Correlation: Coefficient = 0.3150727585741259, p-value = 0.3752190342695772\n",
      "SpearmanrResult(correlation=0.4724282017376836, pvalue=0.1679685554116793)\n"
     ]
    },
    {
     "data": {
      "image/png": "[encoded data removed]",
      "text/plain": [
       "<Figure size 576x288 with 1 Axes>"
      ]
     },
     "metadata": {
      "needs_background": "light"
     },
     "output_type": "display_data"
    }
   ],
   "source": [
    "scatter_corr(fsq_cities_seccorr['Food'], fsq_cities_seccorr['GrowthForecast'], \\\n",
    "        'Number of Food Services', 'Visitor Count', 'Relationship between number of food services and Growth Forecast')"
   ]
  },
  {
   "cell_type": "code",
   "execution_count": 143,
   "metadata": {
    "scrolled": true
   },
   "outputs": [
    {
     "name": "stdout",
     "output_type": "stream",
     "text": [
      "Pearson Correlation: Coefficient = 0.15126792962300104, p-value = 0.6765696353232513\n",
      "SpearmanrResult(correlation=0.46422592173940186, pvalue=0.1765051741746287)\n"
     ]
    },
    {
     "data": {
      "image/png": "[encoded data removed]",
      "text/plain": [
       "<Figure size 576x288 with 1 Axes>"
      ]
     },
     "metadata": {
      "needs_background": "light"
     },
     "output_type": "display_data"
    }
   ],
   "source": [
    "scatter_corr(fsq_cities_seccorr['Shopping'], fsq_cities_seccorr['GrowthForecast'], \\\n",
    "        'Number of Shopping Services', 'Visitor Count', 'Relationship between Number of Shopping Services and Growth Forecast')"
   ]
  },
  {
   "cell_type": "code",
   "execution_count": 144,
   "metadata": {
    "scrolled": false
   },
   "outputs": [
    {
     "name": "stdout",
     "output_type": "stream",
     "text": [
      "              Food  Lodging  Transport  Shopping  Recreation  ClusterLabels\n",
      "City                                                                       \n",
      "Bangkok       0.42     0.00       0.06      0.30        0.08              0\n",
      "Singapore     0.08     0.04       0.34      0.32        0.14              0\n",
      "Kuala Lumpur  0.22     0.00       0.26      0.30        0.12              0\n",
      "London        0.18     0.04       0.32      0.12        0.26              1\n",
      "Dubai         0.28     0.10       0.08      0.18        0.26              1\n",
      "New York      0.00     0.00       0.56      0.12        0.32              2\n",
      "Tokyo         0.00     0.00       0.86      0.02        0.08              2\n",
      "Seoul         0.00     0.00       0.52      0.16        0.24              2\n",
      "Paris         0.10     0.00       0.16      0.12        0.48              3\n",
      "Istanbul      0.14     0.00       0.04      0.12        0.40              3\n"
     ]
    },
    {
     "data": {
      "text/plain": [
       "<matplotlib.collections.LineCollection at 0x1dd29430d68>"
      ]
     },
     "execution_count": 144,
     "metadata": {},
     "output_type": "execute_result"
    },
    {
     "data": {
      "image/png": "[encoded data removed]",
      "text/plain": [
       "<Figure size 720x432 with 1 Axes>"
      ]
     },
     "metadata": {
      "needs_background": "light"
     },
     "output_type": "display_data"
    }
   ],
   "source": [
    "\n",
    "final_cities = fsq_cities_seccorr[['City', 'Food', 'Lodging', 'Transport', 'Shopping', 'Recreation', 'ClusterLabels']].set_index(['City']) #.plot(kind='bar', figsize=(10,6))\n",
    "final_cities = final_cities.sort_values(by=['ClusterLabels'], ascending=True)\n",
    "print(final_cities)\n",
    "final_cities.drop(['ClusterLabels'], 1).plot(kind='bar', figsize=(10,6))\n",
    "\n",
    "plt.hlines(0.14, -0.4, 9.5, linestyle='dashed')\n",
    "#plt.hlines(0.5, 1.5, 5.4)\n",
    "#plt.hlines(0.3, 5.5, 6.4)\n",
    "#plt.hlines(0.88, 6.5, 9.4)\n",
    "#plt.annotate('Recreation', [0,0.62])\n",
    "#plt.annotate('Shopping, Food/Transport', [1.5,0.52])\n",
    "#plt.annotate('Balanced', [5.5, 0.32])\n",
    "#plt.annotate('Transport, Recreation', [6.5, 0.89])\n"
   ]
  },
  {
   "cell_type": "markdown",
   "metadata": {},
   "source": [
    "<H2>IDENTIFYING CLUSTERS AND TRENDS"
   ]
  },
  {
   "cell_type": "markdown",
   "metadata": {},
   "source": [
    "<h3> Balanced, market diversity"
   ]
  },
  {
   "cell_type": "code",
   "execution_count": 145,
   "metadata": {},
   "outputs": [
    {
     "data": {
      "text/html": [
       "<div>\n",
       "<style scoped>\n",
       "    .dataframe tbody tr th:only-of-type {\n",
       "        vertical-align: middle;\n",
       "    }\n",
       "\n",
       "    .dataframe tbody tr th {\n",
       "        vertical-align: top;\n",
       "    }\n",
       "\n",
       "    .dataframe thead th {\n",
       "        text-align: right;\n",
       "    }\n",
       "</style>\n",
       "<table border=\"1\" class=\"dataframe\">\n",
       "  <thead>\n",
       "    <tr style=\"text-align: right;\">\n",
       "      <th></th>\n",
       "      <th>Food</th>\n",
       "      <th>Lodging</th>\n",
       "      <th>Transport</th>\n",
       "      <th>Shopping</th>\n",
       "      <th>Recreation</th>\n",
       "      <th>ClusterLabels</th>\n",
       "    </tr>\n",
       "    <tr>\n",
       "      <th>City</th>\n",
       "      <th></th>\n",
       "      <th></th>\n",
       "      <th></th>\n",
       "      <th></th>\n",
       "      <th></th>\n",
       "      <th></th>\n",
       "    </tr>\n",
       "  </thead>\n",
       "  <tbody>\n",
       "    <tr>\n",
       "      <th>Dubai</th>\n",
       "      <td>0.28</td>\n",
       "      <td>0.10</td>\n",
       "      <td>0.08</td>\n",
       "      <td>0.18</td>\n",
       "      <td>0.26</td>\n",
       "      <td>1</td>\n",
       "    </tr>\n",
       "    <tr>\n",
       "      <th>London</th>\n",
       "      <td>0.18</td>\n",
       "      <td>0.04</td>\n",
       "      <td>0.32</td>\n",
       "      <td>0.12</td>\n",
       "      <td>0.26</td>\n",
       "      <td>1</td>\n",
       "    </tr>\n",
       "  </tbody>\n",
       "</table>\n",
       "</div>"
      ],
      "text/plain": [
       "        Food  Lodging  Transport  Shopping  Recreation  ClusterLabels\n",
       "City                                                                 \n",
       "Dubai   0.28     0.10       0.08      0.18        0.26              1\n",
       "London  0.18     0.04       0.32      0.12        0.26              1"
      ]
     },
     "execution_count": 145,
     "metadata": {},
     "output_type": "execute_result"
    }
   ],
   "source": [
    "df_lodge = final_cities.sort_values(by=['Lodging'], ascending=False)\n",
    "df_lodge.loc[df_lodge['ClusterLabels']==df_lodge.iloc[0,5]]\n"
   ]
  },
  {
   "cell_type": "markdown",
   "metadata": {},
   "source": [
    "<h3> Transport and Recreation"
   ]
  },
  {
   "cell_type": "code",
   "execution_count": 151,
   "metadata": {},
   "outputs": [
    {
     "data": {
      "text/html": [
       "<div>\n",
       "<style scoped>\n",
       "    .dataframe tbody tr th:only-of-type {\n",
       "        vertical-align: middle;\n",
       "    }\n",
       "\n",
       "    .dataframe tbody tr th {\n",
       "        vertical-align: top;\n",
       "    }\n",
       "\n",
       "    .dataframe thead th {\n",
       "        text-align: right;\n",
       "    }\n",
       "</style>\n",
       "<table border=\"1\" class=\"dataframe\">\n",
       "  <thead>\n",
       "    <tr style=\"text-align: right;\">\n",
       "      <th></th>\n",
       "      <th>Food</th>\n",
       "      <th>Lodging</th>\n",
       "      <th>Transport</th>\n",
       "      <th>Shopping</th>\n",
       "      <th>Recreation</th>\n",
       "      <th>ClusterLabels</th>\n",
       "    </tr>\n",
       "    <tr>\n",
       "      <th>City</th>\n",
       "      <th></th>\n",
       "      <th></th>\n",
       "      <th></th>\n",
       "      <th></th>\n",
       "      <th></th>\n",
       "      <th></th>\n",
       "    </tr>\n",
       "  </thead>\n",
       "  <tbody>\n",
       "    <tr>\n",
       "      <th>Tokyo</th>\n",
       "      <td>0.0</td>\n",
       "      <td>0.0</td>\n",
       "      <td>0.86</td>\n",
       "      <td>0.02</td>\n",
       "      <td>0.08</td>\n",
       "      <td>2</td>\n",
       "    </tr>\n",
       "    <tr>\n",
       "      <th>New York</th>\n",
       "      <td>0.0</td>\n",
       "      <td>0.0</td>\n",
       "      <td>0.56</td>\n",
       "      <td>0.12</td>\n",
       "      <td>0.32</td>\n",
       "      <td>2</td>\n",
       "    </tr>\n",
       "    <tr>\n",
       "      <th>Seoul</th>\n",
       "      <td>0.0</td>\n",
       "      <td>0.0</td>\n",
       "      <td>0.52</td>\n",
       "      <td>0.16</td>\n",
       "      <td>0.24</td>\n",
       "      <td>2</td>\n",
       "    </tr>\n",
       "  </tbody>\n",
       "</table>\n",
       "</div>"
      ],
      "text/plain": [
       "          Food  Lodging  Transport  Shopping  Recreation  ClusterLabels\n",
       "City                                                                   \n",
       "Tokyo      0.0      0.0       0.86      0.02        0.08              2\n",
       "New York   0.0      0.0       0.56      0.12        0.32              2\n",
       "Seoul      0.0      0.0       0.52      0.16        0.24              2"
      ]
     },
     "execution_count": 151,
     "metadata": {},
     "output_type": "execute_result"
    }
   ],
   "source": [
    "df_tt = final_cities.sort_values(by=['Transport'], ascending=False)\n",
    "df_tt.loc[df_tt['ClusterLabels']==df_tt.iloc[0,5]]\n"
   ]
  },
  {
   "cell_type": "markdown",
   "metadata": {},
   "source": [
    "<h3> Shopping, Food/Transport"
   ]
  },
  {
   "cell_type": "code",
   "execution_count": 147,
   "metadata": {},
   "outputs": [
    {
     "data": {
      "text/html": [
       "<div>\n",
       "<style scoped>\n",
       "    .dataframe tbody tr th:only-of-type {\n",
       "        vertical-align: middle;\n",
       "    }\n",
       "\n",
       "    .dataframe tbody tr th {\n",
       "        vertical-align: top;\n",
       "    }\n",
       "\n",
       "    .dataframe thead th {\n",
       "        text-align: right;\n",
       "    }\n",
       "</style>\n",
       "<table border=\"1\" class=\"dataframe\">\n",
       "  <thead>\n",
       "    <tr style=\"text-align: right;\">\n",
       "      <th></th>\n",
       "      <th>Food</th>\n",
       "      <th>Lodging</th>\n",
       "      <th>Transport</th>\n",
       "      <th>Shopping</th>\n",
       "      <th>Recreation</th>\n",
       "      <th>ClusterLabels</th>\n",
       "    </tr>\n",
       "    <tr>\n",
       "      <th>City</th>\n",
       "      <th></th>\n",
       "      <th></th>\n",
       "      <th></th>\n",
       "      <th></th>\n",
       "      <th></th>\n",
       "      <th></th>\n",
       "    </tr>\n",
       "  </thead>\n",
       "  <tbody>\n",
       "    <tr>\n",
       "      <th>Singapore</th>\n",
       "      <td>0.08</td>\n",
       "      <td>0.04</td>\n",
       "      <td>0.34</td>\n",
       "      <td>0.32</td>\n",
       "      <td>0.14</td>\n",
       "      <td>0</td>\n",
       "    </tr>\n",
       "    <tr>\n",
       "      <th>Bangkok</th>\n",
       "      <td>0.42</td>\n",
       "      <td>0.00</td>\n",
       "      <td>0.06</td>\n",
       "      <td>0.30</td>\n",
       "      <td>0.08</td>\n",
       "      <td>0</td>\n",
       "    </tr>\n",
       "    <tr>\n",
       "      <th>Kuala Lumpur</th>\n",
       "      <td>0.22</td>\n",
       "      <td>0.00</td>\n",
       "      <td>0.26</td>\n",
       "      <td>0.30</td>\n",
       "      <td>0.12</td>\n",
       "      <td>0</td>\n",
       "    </tr>\n",
       "  </tbody>\n",
       "</table>\n",
       "</div>"
      ],
      "text/plain": [
       "              Food  Lodging  Transport  Shopping  Recreation  ClusterLabels\n",
       "City                                                                       \n",
       "Singapore     0.08     0.04       0.34      0.32        0.14              0\n",
       "Bangkok       0.42     0.00       0.06      0.30        0.08              0\n",
       "Kuala Lumpur  0.22     0.00       0.26      0.30        0.12              0"
      ]
     },
     "execution_count": 147,
     "metadata": {},
     "output_type": "execute_result"
    }
   ],
   "source": [
    "df_shop = final_cities.sort_values(by=['Shopping'], ascending=False)\n",
    "df_shop.loc[df_shop['ClusterLabels']==df_shop.iloc[0,5]]\n"
   ]
  },
  {
   "cell_type": "markdown",
   "metadata": {},
   "source": [
    "<h3> Recreation and Shopping"
   ]
  },
  {
   "cell_type": "code",
   "execution_count": 148,
   "metadata": {},
   "outputs": [
    {
     "data": {
      "text/html": [
       "<div>\n",
       "<style scoped>\n",
       "    .dataframe tbody tr th:only-of-type {\n",
       "        vertical-align: middle;\n",
       "    }\n",
       "\n",
       "    .dataframe tbody tr th {\n",
       "        vertical-align: top;\n",
       "    }\n",
       "\n",
       "    .dataframe thead th {\n",
       "        text-align: right;\n",
       "    }\n",
       "</style>\n",
       "<table border=\"1\" class=\"dataframe\">\n",
       "  <thead>\n",
       "    <tr style=\"text-align: right;\">\n",
       "      <th></th>\n",
       "      <th>Food</th>\n",
       "      <th>Lodging</th>\n",
       "      <th>Transport</th>\n",
       "      <th>Shopping</th>\n",
       "      <th>Recreation</th>\n",
       "      <th>ClusterLabels</th>\n",
       "    </tr>\n",
       "    <tr>\n",
       "      <th>City</th>\n",
       "      <th></th>\n",
       "      <th></th>\n",
       "      <th></th>\n",
       "      <th></th>\n",
       "      <th></th>\n",
       "      <th></th>\n",
       "    </tr>\n",
       "  </thead>\n",
       "  <tbody>\n",
       "    <tr>\n",
       "      <th>Paris</th>\n",
       "      <td>0.10</td>\n",
       "      <td>0.0</td>\n",
       "      <td>0.16</td>\n",
       "      <td>0.12</td>\n",
       "      <td>0.48</td>\n",
       "      <td>3</td>\n",
       "    </tr>\n",
       "    <tr>\n",
       "      <th>Istanbul</th>\n",
       "      <td>0.14</td>\n",
       "      <td>0.0</td>\n",
       "      <td>0.04</td>\n",
       "      <td>0.12</td>\n",
       "      <td>0.40</td>\n",
       "      <td>3</td>\n",
       "    </tr>\n",
       "  </tbody>\n",
       "</table>\n",
       "</div>"
      ],
      "text/plain": [
       "          Food  Lodging  Transport  Shopping  Recreation  ClusterLabels\n",
       "City                                                                   \n",
       "Paris     0.10      0.0       0.16      0.12        0.48              3\n",
       "Istanbul  0.14      0.0       0.04      0.12        0.40              3"
      ]
     },
     "execution_count": 148,
     "metadata": {},
     "output_type": "execute_result"
    }
   ],
   "source": [
    "df_rec = final_cities.sort_values(by=['Recreation'], ascending=False)\n",
    "df_rec.loc[df_rec['ClusterLabels']==df_rec.iloc[0,5]]\n"
   ]
  }
 ],
 "metadata": {
  "kernelspec": {
   "display_name": "Python 3",
   "language": "python",
   "name": "python3"
  },
  "language_info": {
   "codemirror_mode": {
    "name": "ipython",
    "version": 3
   },
   "file_extension": ".py",
   "mimetype": "text/x-python",
   "name": "python",
   "nbconvert_exporter": "python",
   "pygments_lexer": "ipython3",
   "version": "3.7.1"
  }
 },
 "nbformat": 4,
 "nbformat_minor": 2
}
